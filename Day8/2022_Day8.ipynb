{
  "nbformat": 4,
  "nbformat_minor": 0,
  "metadata": {
    "colab": {
      "provenance": []
    },
    "kernelspec": {
      "name": "python3",
      "display_name": "Python 3"
    },
    "language_info": {
      "name": "python"
    }
  },
  "cells": [
    {
      "cell_type": "code",
      "execution_count": 2,
      "metadata": {
        "id": "vOe2HcrbCVBK"
      },
      "outputs": [],
      "source": [
        "# Importando Librerías\n",
        "from google.colab import files\n",
        "import numpy as np "
      ]
    },
    {
      "cell_type": "code",
      "source": [
        "# Subir Archivos\n",
        "files.upload() "
      ],
      "metadata": {
        "colab": {
          "base_uri": "https://localhost:8080/",
          "height": 180
        },
        "id": "9rY7Sl_ZCX-k",
        "outputId": "0a7a81fb-b5d0-42b4-fd8a-c6f89f96bf56"
      },
      "execution_count": 3,
      "outputs": [
        {
          "output_type": "display_data",
          "data": {
            "text/plain": [
              "<IPython.core.display.HTML object>"
            ],
            "text/html": [
              "\n",
              "     <input type=\"file\" id=\"files-e26ca851-3808-4ca1-a161-9c04550a44aa\" name=\"files[]\" multiple disabled\n",
              "        style=\"border:none\" />\n",
              "     <output id=\"result-e26ca851-3808-4ca1-a161-9c04550a44aa\">\n",
              "      Upload widget is only available when the cell has been executed in the\n",
              "      current browser session. Please rerun this cell to enable.\n",
              "      </output>\n",
              "      <script>// Copyright 2017 Google LLC\n",
              "//\n",
              "// Licensed under the Apache License, Version 2.0 (the \"License\");\n",
              "// you may not use this file except in compliance with the License.\n",
              "// You may obtain a copy of the License at\n",
              "//\n",
              "//      http://www.apache.org/licenses/LICENSE-2.0\n",
              "//\n",
              "// Unless required by applicable law or agreed to in writing, software\n",
              "// distributed under the License is distributed on an \"AS IS\" BASIS,\n",
              "// WITHOUT WARRANTIES OR CONDITIONS OF ANY KIND, either express or implied.\n",
              "// See the License for the specific language governing permissions and\n",
              "// limitations under the License.\n",
              "\n",
              "/**\n",
              " * @fileoverview Helpers for google.colab Python module.\n",
              " */\n",
              "(function(scope) {\n",
              "function span(text, styleAttributes = {}) {\n",
              "  const element = document.createElement('span');\n",
              "  element.textContent = text;\n",
              "  for (const key of Object.keys(styleAttributes)) {\n",
              "    element.style[key] = styleAttributes[key];\n",
              "  }\n",
              "  return element;\n",
              "}\n",
              "\n",
              "// Max number of bytes which will be uploaded at a time.\n",
              "const MAX_PAYLOAD_SIZE = 100 * 1024;\n",
              "\n",
              "function _uploadFiles(inputId, outputId) {\n",
              "  const steps = uploadFilesStep(inputId, outputId);\n",
              "  const outputElement = document.getElementById(outputId);\n",
              "  // Cache steps on the outputElement to make it available for the next call\n",
              "  // to uploadFilesContinue from Python.\n",
              "  outputElement.steps = steps;\n",
              "\n",
              "  return _uploadFilesContinue(outputId);\n",
              "}\n",
              "\n",
              "// This is roughly an async generator (not supported in the browser yet),\n",
              "// where there are multiple asynchronous steps and the Python side is going\n",
              "// to poll for completion of each step.\n",
              "// This uses a Promise to block the python side on completion of each step,\n",
              "// then passes the result of the previous step as the input to the next step.\n",
              "function _uploadFilesContinue(outputId) {\n",
              "  const outputElement = document.getElementById(outputId);\n",
              "  const steps = outputElement.steps;\n",
              "\n",
              "  const next = steps.next(outputElement.lastPromiseValue);\n",
              "  return Promise.resolve(next.value.promise).then((value) => {\n",
              "    // Cache the last promise value to make it available to the next\n",
              "    // step of the generator.\n",
              "    outputElement.lastPromiseValue = value;\n",
              "    return next.value.response;\n",
              "  });\n",
              "}\n",
              "\n",
              "/**\n",
              " * Generator function which is called between each async step of the upload\n",
              " * process.\n",
              " * @param {string} inputId Element ID of the input file picker element.\n",
              " * @param {string} outputId Element ID of the output display.\n",
              " * @return {!Iterable<!Object>} Iterable of next steps.\n",
              " */\n",
              "function* uploadFilesStep(inputId, outputId) {\n",
              "  const inputElement = document.getElementById(inputId);\n",
              "  inputElement.disabled = false;\n",
              "\n",
              "  const outputElement = document.getElementById(outputId);\n",
              "  outputElement.innerHTML = '';\n",
              "\n",
              "  const pickedPromise = new Promise((resolve) => {\n",
              "    inputElement.addEventListener('change', (e) => {\n",
              "      resolve(e.target.files);\n",
              "    });\n",
              "  });\n",
              "\n",
              "  const cancel = document.createElement('button');\n",
              "  inputElement.parentElement.appendChild(cancel);\n",
              "  cancel.textContent = 'Cancel upload';\n",
              "  const cancelPromise = new Promise((resolve) => {\n",
              "    cancel.onclick = () => {\n",
              "      resolve(null);\n",
              "    };\n",
              "  });\n",
              "\n",
              "  // Wait for the user to pick the files.\n",
              "  const files = yield {\n",
              "    promise: Promise.race([pickedPromise, cancelPromise]),\n",
              "    response: {\n",
              "      action: 'starting',\n",
              "    }\n",
              "  };\n",
              "\n",
              "  cancel.remove();\n",
              "\n",
              "  // Disable the input element since further picks are not allowed.\n",
              "  inputElement.disabled = true;\n",
              "\n",
              "  if (!files) {\n",
              "    return {\n",
              "      response: {\n",
              "        action: 'complete',\n",
              "      }\n",
              "    };\n",
              "  }\n",
              "\n",
              "  for (const file of files) {\n",
              "    const li = document.createElement('li');\n",
              "    li.append(span(file.name, {fontWeight: 'bold'}));\n",
              "    li.append(span(\n",
              "        `(${file.type || 'n/a'}) - ${file.size} bytes, ` +\n",
              "        `last modified: ${\n",
              "            file.lastModifiedDate ? file.lastModifiedDate.toLocaleDateString() :\n",
              "                                    'n/a'} - `));\n",
              "    const percent = span('0% done');\n",
              "    li.appendChild(percent);\n",
              "\n",
              "    outputElement.appendChild(li);\n",
              "\n",
              "    const fileDataPromise = new Promise((resolve) => {\n",
              "      const reader = new FileReader();\n",
              "      reader.onload = (e) => {\n",
              "        resolve(e.target.result);\n",
              "      };\n",
              "      reader.readAsArrayBuffer(file);\n",
              "    });\n",
              "    // Wait for the data to be ready.\n",
              "    let fileData = yield {\n",
              "      promise: fileDataPromise,\n",
              "      response: {\n",
              "        action: 'continue',\n",
              "      }\n",
              "    };\n",
              "\n",
              "    // Use a chunked sending to avoid message size limits. See b/62115660.\n",
              "    let position = 0;\n",
              "    do {\n",
              "      const length = Math.min(fileData.byteLength - position, MAX_PAYLOAD_SIZE);\n",
              "      const chunk = new Uint8Array(fileData, position, length);\n",
              "      position += length;\n",
              "\n",
              "      const base64 = btoa(String.fromCharCode.apply(null, chunk));\n",
              "      yield {\n",
              "        response: {\n",
              "          action: 'append',\n",
              "          file: file.name,\n",
              "          data: base64,\n",
              "        },\n",
              "      };\n",
              "\n",
              "      let percentDone = fileData.byteLength === 0 ?\n",
              "          100 :\n",
              "          Math.round((position / fileData.byteLength) * 100);\n",
              "      percent.textContent = `${percentDone}% done`;\n",
              "\n",
              "    } while (position < fileData.byteLength);\n",
              "  }\n",
              "\n",
              "  // All done.\n",
              "  yield {\n",
              "    response: {\n",
              "      action: 'complete',\n",
              "    }\n",
              "  };\n",
              "}\n",
              "\n",
              "scope.google = scope.google || {};\n",
              "scope.google.colab = scope.google.colab || {};\n",
              "scope.google.colab._files = {\n",
              "  _uploadFiles,\n",
              "  _uploadFilesContinue,\n",
              "};\n",
              "})(self);\n",
              "</script> "
            ]
          },
          "metadata": {}
        },
        {
          "output_type": "stream",
          "name": "stdout",
          "text": [
            "Saving Data.txt to Data.txt\n",
            "Saving Test.txt to Test.txt\n"
          ]
        },
        {
          "output_type": "execute_result",
          "data": {
            "text/plain": [
              "{'Data.txt': b'021100121022300121020304244001134204213440331423351253455312304202000142430440402000102100010012001\\r\\n212112200302012112114404004343323010001555344131524354533222421401044024100314311233132333120002120\\r\\n001112132022031311343013411004034101221451551452553134332114313511202230442322401330020011133310011\\r\\n101011102332213111204044323030241245514513514352125432511431552112212230211120021101213101021332122\\r\\n120201331023003122211414102411241333454454415533145542132412521355224314032201023041331022233003212\\r\\n111201133202120233040101144053431335432322531225552142451355332245423344140444023441431231311003220\\r\\n210220301323331223114023214251133322312334113524445351433322242414523254353321044124443201331301120\\r\\n002220010002313343434033243351213114211241525454566342213254153255525512234354342213032240332302033\\r\\n110022102004420431301015343132544343554162542463343236455532544153414313554154243110304330112311332\\r\\n101122133314020410121342231311535243362566353264634235633255233421453134445222411112032343033003020\\r\\n312122323430244102023214412314455535653626355642333536446663534344514234454432512331012210343110331\\r\\n102121011122421340411235231142223262366522453366665342434233556652534434234524555514020123034333132\\r\\n233001100430210405431555214251263246524633556253255335443664225662352533241143545442310012420202002\\r\\n332233344204032414234154144433344354645565356665552364265454662445624446413334232524502200341111202\\r\\n223102143031020231344325533663652454434265423436364734665334543225634666435522542524120140041413130\\r\\n321000340443405412131512466633625336263625455634443645436442326654324336563515445544423044322200011\\r\\n322101030124113452324444225356545426445466436576746567557453656665263322524342414223555532104311100\\r\\n200233122013252423324352535666335562473534667534365374536636635764646436452652151424221242242002333\\r\\n122444442345121153134326544563633437575346544373636766563665656545545445325464645232353353002141313\\r\\n013022430132321515326235333433335336336637576746435546577576644564773522636636443213434225130413143\\r\\n132022242245541414134346535246534643675733743644367465565575345766747564666333224445144553402430122\\r\\n042110243221115344643545454255635536543774335543444335643467543737553776343564265622254114132301334\\r\\n130012421135112424366645424546345353444657648888648786678354353653576366543325244255225245235002442\\r\\n400424115353113252334452565774335745655545457555466665665567667756443453735244352362112151452341411\\r\\n043043241243524256243666547576363566736777457446677656544887588336673543634332643262611143215542234\\r\\n224121412443523623356566357546665333588546645687758556867887654846553556577554266533423135412312411\\r\\n040034313321153643333266756775733568445444468755478556477645657665436657365634632255223452553144231\\r\\n204342111435555654255526563456776665845748644874785558878855577744856736344366345343356222423514010\\r\\n102002253233256325256375554775746855767546445745648867544456667485487756746663326433534341512154013\\r\\n220341253535122645222745775343367488648667857685695797774545545565785664747665362424455355144224430\\r\\n142243344525322423433564534754755468475754959875595788778576687865564475766436657556323465531342444\\r\\n013241225132422653446664477346858686758586896887576688868957566685845666446637356445226665135233302\\r\\n401115333115324323333646573486767754575857667758679665978657856846448875853434664356232425554511122\\r\\n432545442242522255553577446757687656577685569679696685769965899578646687644667667766565324542534411\\r\\n314421243133225234435633358645845545979699765556955878967656656684444685875434465673546254615334312\\r\\n123423411426633652564343336778678589685666857776975688898697989698587744447635657432333363345414243\\r\\n401312414362632327653667454488786756787786858689898687658757855756576785875566434464635334344515142\\r\\n212212425254354633356747768554568965599965599968678776796887687857595448848837646534652432345221441\\r\\n235342231533252343753653865647468766979899688776879797688797969868778444744543454773345642653454122\\r\\n433131515223436246554566665475675668869779797669799966878689996865959744857543443663536554345344425\\r\\n455312223456233477735366446665798976889689667689678999666767996556655566864655535576556523625231233\\r\\n451453455555324537447575547857587987587977989887687677779799679777967968544648567665764664342355255\\r\\n231132532342662457465566865586977577678687697686979686866767997988859978768546734336445464655125422\\r\\n433243433556462336576647584574576995656967679789778976668679976998965675556667356735343654452235524\\r\\n511154134255552535634584688754885857777978686799789798776789797957668696667475454375772424655221242\\r\\n533515326453256647645464488889996886979969987988897977787886777997758587844644744357636343236555544\\r\\n113334455636464637446577787575989998596687698988897977999786796955668885446757774645774625666313413\\r\\n441424443533562367374446877655998796979898798989889779898778988668859699877444864563464465536535542\\r\\n155213253224355635633574467749666956888996887778779879987986988689958559667655744657477226266512434\\r\\n511534436633425675644374887455867769778968879978798777878976769986976877764765756476746246366424513\\r\\n222525343345225337335558484559876799996978788879788899978789779779585958455786435646636255462353423\\r\\n355554162423247675675344885679785855666889897778898877899888867998988668548645764744573425662312514\\r\\n244444262662445747437348455678886855889888969787999978898679699877779887456678744756657624563653413\\r\\n143352165456252344465348788568958759899897789978797778789667677865797759457855455644364526334223221\\r\\n441543245354346776755487648878678655588776698978888999798676976959676767458484836774575536223312354\\r\\n542511455364544373655658576767855655967967876799788778777798996957695896685785543754355554254311222\\r\\n552523134432323474365578755847868768977898786779989998987868699866589685654647545633742644342353215\\r\\n452523232325535743367445748444778859877668699768687967697989869965697854744464474746665435566324552\\r\\n433124316623344376367576667684578656559769668768878679667798777656685768788576433433342536256323415\\r\\n334552553536322366576457888564568759867889968768968869987989779887665756844747345475753244434143443\\r\\n045231455654365674633636858875897565789588699867678897967679656598965567745848776573566222433412315\\r\\n342344553242644367757545457457879685799978668889896776889678979697757886757585576336544622535114151\\r\\n025334534564454475733644547554569895796599687688777668867865786698997877475576373767325545355435451\\r\\n215235555453536264666773484775746866666858957967999769777756887657878547746544367676425644422421315\\r\\n422555452242646526644766547874785888989588785866889879768996959758764555485646576667326565613444532\\r\\n431421233136452443437475775484644689878667799987987757997798897678585788876536357753353564452224544\\r\\n320443525323665353464375567876886688598766785975959775865967666596586785577645336565533343631352231\\r\\n320343335236445466243635453485667465757797586876599699787695978745775785586667434455424246131512423\\r\\n322441525315335235473776467764846477759756955699778669655757686546876556735356735744245653114552510\\r\\n443223215231633354346466664364866675455577787667777769658788958648665757467444554335555335545122232\\r\\n140443154235366232346776536633886648677677788756995987666854767785758844756745654524262555523431443\\r\\n103323113424166255555663437645554585454788458776585586597878888756475573373463563234364534354252422\\r\\n234421131512462653236454776367478465474664655866778687688567745678876334746767744535526241421255411\\r\\n202213445143322545653547655433644546585575765875645848774868867757655537677574534534552414514250204\\r\\n043210252544134323446625343443473458876888845877677476848885455466566457334635556335324231551544144\\r\\n241232432524544622333655374737454543476646847655744577475674886746774564333362632262664514511112120\\r\\n230030014412322546635253646563435657368548847786678847574767864355743776563533654224521153213111432\\r\\n233344232313222324656554456756574454444346867687758648756477453676664644762463422246113451515401101\\r\\n303021224524534134245653233567577436376366444478756447744763376377733767553452264463553233431333132\\r\\n011422234522552553566335565363653773374564634776744775567574436737444433265343656233143443244320234\\r\\n012331103314435251565422256453354564373774354746657735333455533433345744556645445635531133320111312\\r\\n020121120024141513222322423244647764736375367445337744354674763547537454453253236455534424041022021\\r\\n203341110313124343425542633654543257754747466647757447735736634345643256563233533435335131143430011\\r\\n012301343320551453151226463266553552536637365754457536333547343776646244432323513114131440203042140\\r\\n001120001422253323331132546325635646347373343466736577547453773564556544653561254232354400110212131\\r\\n133112113014231122121522445543236536534236345473766765566632223524532463533212255422423340404023322\\r\\n321212114131340514551144533334336553643446345564334752555452242634626452456243121333330412111214201\\r\\n010312310430104424252555255124543456344362645235662466646264454336454354631243313244302111330332023\\r\\n000023023443202022543511525255335325422542433255344233654646332324444251121413351145404434321430123\\r\\n221122231031340043315434442144135445245635645366634323626446466363343351334413425251433022022113101\\r\\n302112013010220000014421525232313564453335455664324662523456444525535441355324111324202404300121120\\r\\n200220220240231301300245554141343411162264646244256654625336223251311114451515121310330214121100220\\r\\n232011322124224402034455125412315243355223553225444534323562442512125313131314130333420111022223102\\r\\n210111332221102412124232223341324152211252553145333635212255424435534524524513100141020320210330022\\r\\n101103032121130310301403125153525321322215424554144533334151532215513414112444444324030023013312111\\r\\n111102222102024430344430330133441412455423551522553425333324541124424135524001222303304100133211212\\r\\n001123320211102003324014022342453112311445112425122242212215141125535432101001241310132112233210110\\r\\n210022222122313120423343402220011112245525334555255344512311131323245131044444421321103123132122020\\r\\n001112003032230211110004101211102044114354424515155433555514533343441434122333213130310231012321211',\n",
              " 'Test.txt': b'30373\\r\\n25512\\r\\n65332\\r\\n33549\\r\\n35390'}"
            ]
          },
          "metadata": {},
          "execution_count": 3
        }
      ]
    },
    {
      "cell_type": "markdown",
      "source": [
        "## **Parte 1**"
      ],
      "metadata": {
        "id": "WkcwKcknCYMs"
      }
    },
    {
      "cell_type": "code",
      "source": [
        "# Mapeamos nuestra entrada en una matriz simétrica, y obtenemos su transpuesta\n",
        "# iteramos a través de la matriz buscando por cada árbol si es visible, revisando\n",
        "# cada una de sus filas y columnas. \n",
        "\n",
        "visible = 0\n",
        "matrix = []\n",
        "\n",
        "# Leer cada línea del archivo Data.txt\n",
        "with open(\"Data.txt\") as f:\n",
        "  lines = f.read().strip().split('\\n')\n",
        "\n",
        "  for line in lines:\n",
        "    dimension = len(line)\n",
        "    for tree in range(len(line)): \n",
        "      matrix.append(line[tree])\n",
        "    \n",
        "  tree_map = np.array(matrix)\n",
        "  tree_map = tree_map.reshape(dimension, dimension)\n",
        "  tree_map_2 = np.transpose(tree_map)\n",
        "\n",
        "\n",
        "  for x in range(len(tree_map)):\n",
        "    for y in range(len(tree_map[x])):\n",
        "      tree = tree_map[x][y]\n",
        "      if all(i < tree for i in tree_map[x][0:y]) or \\\n",
        "          all(i < tree for i in tree_map[x][y+1:]) or \\\n",
        "          all(i < tree for i in tree_map_2[y][0:x]) or \\\n",
        "          all(i < tree for i in tree_map_2[y][x+1:]):\n",
        "          visible += 1\n",
        "\n",
        "  print('Los árboles visibles son: ' + str(visible))"
      ],
      "metadata": {
        "colab": {
          "base_uri": "https://localhost:8080/"
        },
        "id": "1ASuBKlML7kw",
        "outputId": "6604ab32-09d4-4853-d03b-bfd92ffbf0b4"
      },
      "execution_count": 87,
      "outputs": [
        {
          "output_type": "stream",
          "name": "stdout",
          "text": [
            "Los árboles visibles son: 1809\n"
          ]
        }
      ]
    },
    {
      "cell_type": "markdown",
      "source": [
        "## **Parte 2** "
      ],
      "metadata": {
        "id": "WC5ndvoSCYzu"
      }
    },
    {
      "cell_type": "code",
      "source": [
        "# Empleando una lógica similar, esta vez definimos una función que iterará por\n",
        "# cada uno de las vistas obteniendo los árboles visibles. Multiplicamos los árboles\n",
        "# visibles por cada lado para obtener el resultado total. \n",
        "\n",
        "matrix = []\n",
        "visible= 0\n",
        "\n",
        "def view_length(tree, view):\n",
        "  view_length = 0\n",
        "  for v in view:\n",
        "    view_length += 1\n",
        "    if v >= tree:\n",
        "      break\n",
        "  return view_length\n",
        "\n",
        "# Leer cada línea del archivo Data.txt\n",
        "with open(\"Data.txt\") as f:\n",
        "  lines = f.read().strip().split('\\n')\n",
        "\n",
        "  for line in lines:\n",
        "    dimension = len(line)\n",
        "    for tree in range(len(line)): \n",
        "      matrix.append(line[tree])\n",
        "    \n",
        "  tree_map = np.array(matrix)\n",
        "  tree_map = tree_map.reshape(dimension, dimension)\n",
        "  tree_map_2 = np.transpose(tree_map)\n",
        "\n",
        "  for x in range(len(tree_map)):\n",
        "    for y in range(len(tree_map[x])):\n",
        "      tree = tree_map[x][y]\n",
        "      side_1 = view_length(tree, tree_map[x][0:y][::-1])\n",
        "      side_2 = view_length(tree, tree_map[x][y+1:])\n",
        "      side_3 = view_length(tree, tree_map_2[y][0:x][::-1])\n",
        "      side_4 = view_length(tree, tree_map_2[y][x+1:])\n",
        "      view_score = side_1 * side_2 * side_3 * side_4\n",
        "      if view_score > visible:\n",
        "        visible = view_score\n",
        "\n",
        "  print('El árbol con mayor visión tiene un valor de: ' + str(visible))"
      ],
      "metadata": {
        "colab": {
          "base_uri": "https://localhost:8080/"
        },
        "id": "1hhOIIMuI_RY",
        "outputId": "1c808907-a3f3-4be9-c232-7daa237d1f60"
      },
      "execution_count": 89,
      "outputs": [
        {
          "output_type": "stream",
          "name": "stdout",
          "text": [
            "El árbol con mayor visión tiene un valor de: 479400\n"
          ]
        }
      ]
    }
  ]
}