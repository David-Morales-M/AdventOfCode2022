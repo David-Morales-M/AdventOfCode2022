{
  "nbformat": 4,
  "nbformat_minor": 0,
  "metadata": {
    "colab": {
      "provenance": []
    },
    "kernelspec": {
      "name": "python3",
      "display_name": "Python 3"
    },
    "language_info": {
      "name": "python"
    }
  },
  "cells": [
    {
      "cell_type": "code",
      "execution_count": 1,
      "metadata": {
        "id": "4AI4nVEpWYva"
      },
      "outputs": [],
      "source": [
        "# Importando Librerías\n",
        "from google.colab import files\n",
        "import numpy as np "
      ]
    },
    {
      "cell_type": "code",
      "source": [
        "# Subir Archivos\n",
        "files.upload() "
      ],
      "metadata": {
        "colab": {
          "base_uri": "https://localhost:8080/",
          "height": 1000
        },
        "id": "IkHMHs3sWjCx",
        "outputId": "80fec729-a94b-4629-ed4f-f96901fd6641"
      },
      "execution_count": 48,
      "outputs": [
        {
          "output_type": "display_data",
          "data": {
            "text/plain": [
              "<IPython.core.display.HTML object>"
            ],
            "text/html": [
              "\n",
              "     <input type=\"file\" id=\"files-0648535f-c9cf-4ab5-9063-e72549b6eead\" name=\"files[]\" multiple disabled\n",
              "        style=\"border:none\" />\n",
              "     <output id=\"result-0648535f-c9cf-4ab5-9063-e72549b6eead\">\n",
              "      Upload widget is only available when the cell has been executed in the\n",
              "      current browser session. Please rerun this cell to enable.\n",
              "      </output>\n",
              "      <script>// Copyright 2017 Google LLC\n",
              "//\n",
              "// Licensed under the Apache License, Version 2.0 (the \"License\");\n",
              "// you may not use this file except in compliance with the License.\n",
              "// You may obtain a copy of the License at\n",
              "//\n",
              "//      http://www.apache.org/licenses/LICENSE-2.0\n",
              "//\n",
              "// Unless required by applicable law or agreed to in writing, software\n",
              "// distributed under the License is distributed on an \"AS IS\" BASIS,\n",
              "// WITHOUT WARRANTIES OR CONDITIONS OF ANY KIND, either express or implied.\n",
              "// See the License for the specific language governing permissions and\n",
              "// limitations under the License.\n",
              "\n",
              "/**\n",
              " * @fileoverview Helpers for google.colab Python module.\n",
              " */\n",
              "(function(scope) {\n",
              "function span(text, styleAttributes = {}) {\n",
              "  const element = document.createElement('span');\n",
              "  element.textContent = text;\n",
              "  for (const key of Object.keys(styleAttributes)) {\n",
              "    element.style[key] = styleAttributes[key];\n",
              "  }\n",
              "  return element;\n",
              "}\n",
              "\n",
              "// Max number of bytes which will be uploaded at a time.\n",
              "const MAX_PAYLOAD_SIZE = 100 * 1024;\n",
              "\n",
              "function _uploadFiles(inputId, outputId) {\n",
              "  const steps = uploadFilesStep(inputId, outputId);\n",
              "  const outputElement = document.getElementById(outputId);\n",
              "  // Cache steps on the outputElement to make it available for the next call\n",
              "  // to uploadFilesContinue from Python.\n",
              "  outputElement.steps = steps;\n",
              "\n",
              "  return _uploadFilesContinue(outputId);\n",
              "}\n",
              "\n",
              "// This is roughly an async generator (not supported in the browser yet),\n",
              "// where there are multiple asynchronous steps and the Python side is going\n",
              "// to poll for completion of each step.\n",
              "// This uses a Promise to block the python side on completion of each step,\n",
              "// then passes the result of the previous step as the input to the next step.\n",
              "function _uploadFilesContinue(outputId) {\n",
              "  const outputElement = document.getElementById(outputId);\n",
              "  const steps = outputElement.steps;\n",
              "\n",
              "  const next = steps.next(outputElement.lastPromiseValue);\n",
              "  return Promise.resolve(next.value.promise).then((value) => {\n",
              "    // Cache the last promise value to make it available to the next\n",
              "    // step of the generator.\n",
              "    outputElement.lastPromiseValue = value;\n",
              "    return next.value.response;\n",
              "  });\n",
              "}\n",
              "\n",
              "/**\n",
              " * Generator function which is called between each async step of the upload\n",
              " * process.\n",
              " * @param {string} inputId Element ID of the input file picker element.\n",
              " * @param {string} outputId Element ID of the output display.\n",
              " * @return {!Iterable<!Object>} Iterable of next steps.\n",
              " */\n",
              "function* uploadFilesStep(inputId, outputId) {\n",
              "  const inputElement = document.getElementById(inputId);\n",
              "  inputElement.disabled = false;\n",
              "\n",
              "  const outputElement = document.getElementById(outputId);\n",
              "  outputElement.innerHTML = '';\n",
              "\n",
              "  const pickedPromise = new Promise((resolve) => {\n",
              "    inputElement.addEventListener('change', (e) => {\n",
              "      resolve(e.target.files);\n",
              "    });\n",
              "  });\n",
              "\n",
              "  const cancel = document.createElement('button');\n",
              "  inputElement.parentElement.appendChild(cancel);\n",
              "  cancel.textContent = 'Cancel upload';\n",
              "  const cancelPromise = new Promise((resolve) => {\n",
              "    cancel.onclick = () => {\n",
              "      resolve(null);\n",
              "    };\n",
              "  });\n",
              "\n",
              "  // Wait for the user to pick the files.\n",
              "  const files = yield {\n",
              "    promise: Promise.race([pickedPromise, cancelPromise]),\n",
              "    response: {\n",
              "      action: 'starting',\n",
              "    }\n",
              "  };\n",
              "\n",
              "  cancel.remove();\n",
              "\n",
              "  // Disable the input element since further picks are not allowed.\n",
              "  inputElement.disabled = true;\n",
              "\n",
              "  if (!files) {\n",
              "    return {\n",
              "      response: {\n",
              "        action: 'complete',\n",
              "      }\n",
              "    };\n",
              "  }\n",
              "\n",
              "  for (const file of files) {\n",
              "    const li = document.createElement('li');\n",
              "    li.append(span(file.name, {fontWeight: 'bold'}));\n",
              "    li.append(span(\n",
              "        `(${file.type || 'n/a'}) - ${file.size} bytes, ` +\n",
              "        `last modified: ${\n",
              "            file.lastModifiedDate ? file.lastModifiedDate.toLocaleDateString() :\n",
              "                                    'n/a'} - `));\n",
              "    const percent = span('0% done');\n",
              "    li.appendChild(percent);\n",
              "\n",
              "    outputElement.appendChild(li);\n",
              "\n",
              "    const fileDataPromise = new Promise((resolve) => {\n",
              "      const reader = new FileReader();\n",
              "      reader.onload = (e) => {\n",
              "        resolve(e.target.result);\n",
              "      };\n",
              "      reader.readAsArrayBuffer(file);\n",
              "    });\n",
              "    // Wait for the data to be ready.\n",
              "    let fileData = yield {\n",
              "      promise: fileDataPromise,\n",
              "      response: {\n",
              "        action: 'continue',\n",
              "      }\n",
              "    };\n",
              "\n",
              "    // Use a chunked sending to avoid message size limits. See b/62115660.\n",
              "    let position = 0;\n",
              "    do {\n",
              "      const length = Math.min(fileData.byteLength - position, MAX_PAYLOAD_SIZE);\n",
              "      const chunk = new Uint8Array(fileData, position, length);\n",
              "      position += length;\n",
              "\n",
              "      const base64 = btoa(String.fromCharCode.apply(null, chunk));\n",
              "      yield {\n",
              "        response: {\n",
              "          action: 'append',\n",
              "          file: file.name,\n",
              "          data: base64,\n",
              "        },\n",
              "      };\n",
              "\n",
              "      let percentDone = fileData.byteLength === 0 ?\n",
              "          100 :\n",
              "          Math.round((position / fileData.byteLength) * 100);\n",
              "      percent.textContent = `${percentDone}% done`;\n",
              "\n",
              "    } while (position < fileData.byteLength);\n",
              "  }\n",
              "\n",
              "  // All done.\n",
              "  yield {\n",
              "    response: {\n",
              "      action: 'complete',\n",
              "    }\n",
              "  };\n",
              "}\n",
              "\n",
              "scope.google = scope.google || {};\n",
              "scope.google.colab = scope.google.colab || {};\n",
              "scope.google.colab._files = {\n",
              "  _uploadFiles,\n",
              "  _uploadFilesContinue,\n",
              "};\n",
              "})(self);\n",
              "</script> "
            ]
          },
          "metadata": {}
        },
        {
          "output_type": "stream",
          "name": "stdout",
          "text": [
            "Saving Data.txt to Data.txt\n"
          ]
        },
        {
          "output_type": "execute_result",
          "data": {
            "text/plain": [
              "{'Data.txt': b'4-90,1-4\\r\\n80-94,80-81\\r\\n1-97,96-99\\r\\n20-87,20-88\\r\\n84-84,83-88\\r\\n9-75,10-75\\r\\n7-25,24-48\\r\\n10-99,11-98\\r\\n4-98,1-1\\r\\n20-42,1-42\\r\\n5-31,6-31\\r\\n9-14,15-84\\r\\n87-98,22-81\\r\\n44-69,45-68\\r\\n2-2,2-83\\r\\n16-76,69-75\\r\\n43-71,43-91\\r\\n30-95,29-29\\r\\n1-1,3-87\\r\\n22-90,22-80\\r\\n86-90,91-98\\r\\n11-20,10-20\\r\\n59-67,60-79\\r\\n20-75,20-95\\r\\n26-57,27-56\\r\\n7-71,6-72\\r\\n10-78,1-6\\r\\n59-67,31-68\\r\\n91-95,7-81\\r\\n15-60,14-14\\r\\n5-54,6-53\\r\\n88-97,91-96\\r\\n46-70,45-69\\r\\n65-79,64-86\\r\\n74-74,25-73\\r\\n1-95,95-98\\r\\n8-70,70-71\\r\\n1-2,1-1\\r\\n35-43,38-60\\r\\n11-81,12-12\\r\\n1-1,1-90\\r\\n5-10,4-23\\r\\n87-97,52-96\\r\\n4-98,5-98\\r\\n1-3,7-90\\r\\n91-93,10-92\\r\\n46-46,46-89\\r\\n10-99,10-97\\r\\n34-50,51-51\\r\\n26-72,42-73\\r\\n9-69,9-10\\r\\n78-85,22-79\\r\\n65-72,64-78\\r\\n52-93,51-52\\r\\n4-22,5-22\\r\\n33-34,11-55\\r\\n46-91,47-90\\r\\n78-96,12-96\\r\\n16-98,15-98\\r\\n28-78,6-77\\r\\n7-15,7-16\\r\\n35-95,13-43\\r\\n99-99,73-92\\r\\n34-70,38-69\\r\\n4-74,92-96\\r\\n86-90,52-90\\r\\n15-45,15-44\\r\\n11-53,54-86\\r\\n21-78,16-21\\r\\n30-35,32-34\\r\\n49-72,71-78\\r\\n77-94,35-63\\r\\n6-47,17-36\\r\\n7-96,6-94\\r\\n50-51,50-65\\r\\n15-75,14-76\\r\\n19-88,12-87\\r\\n13-64,4-63\\r\\n53-64,52-65\\r\\n69-79,79-86\\r\\n13-34,13-14\\r\\n48-57,48-85\\r\\n66-80,2-79\\r\\n11-82,3-6\\r\\n29-91,29-84\\r\\n7-16,16-36\\r\\n45-86,44-87\\r\\n86-86,21-86\\r\\n21-87,22-86\\r\\n6-79,12-79\\r\\n3-64,98-98\\r\\n44-69,45-68\\r\\n19-94,95-95\\r\\n5-92,5-84\\r\\n83-85,84-85\\r\\n16-88,16-89\\r\\n86-91,29-86\\r\\n27-85,86-86\\r\\n48-60,48-69\\r\\n1-3,3-82\\r\\n25-25,40-46\\r\\n52-77,51-76\\r\\n35-38,36-38\\r\\n75-75,5-76\\r\\n62-77,63-69\\r\\n21-83,22-91\\r\\n12-12,12-93\\r\\n30-82,31-41\\r\\n17-62,18-63\\r\\n5-97,3-5\\r\\n49-96,50-96\\r\\n46-48,46-50\\r\\n22-22,14-21\\r\\n5-98,4-98\\r\\n91-92,16-92\\r\\n1-97,98-99\\r\\n85-97,73-96\\r\\n45-62,11-50\\r\\n3-14,13-73\\r\\n8-75,9-76\\r\\n32-58,33-53\\r\\n3-68,65-68\\r\\n6-10,6-7\\r\\n2-2,2-26\\r\\n6-96,5-95\\r\\n12-90,53-90\\r\\n48-86,49-59\\r\\n4-89,4-95\\r\\n44-44,45-54\\r\\n43-65,42-89\\r\\n95-95,5-79\\r\\n51-53,37-52\\r\\n31-99,30-97\\r\\n3-83,2-78\\r\\n32-73,32-33\\r\\n68-83,68-79\\r\\n4-17,16-53\\r\\n25-64,24-26\\r\\n8-92,8-93\\r\\n3-77,3-78\\r\\n53-77,29-77\\r\\n77-99,76-97\\r\\n46-88,49-83\\r\\n52-63,53-64\\r\\n25-78,14-84\\r\\n5-39,4-39\\r\\n48-84,49-83\\r\\n14-78,52-83\\r\\n27-87,35-95\\r\\n11-48,6-48\\r\\n3-99,1-34\\r\\n20-25,28-67\\r\\n33-61,34-83\\r\\n11-21,20-32\\r\\n30-39,10-39\\r\\n22-25,29-51\\r\\n18-88,32-89\\r\\n12-87,12-13\\r\\n49-76,29-32\\r\\n17-52,77-92\\r\\n72-79,65-79\\r\\n4-53,2-2\\r\\n61-91,62-91\\r\\n6-69,70-70\\r\\n2-96,96-99\\r\\n20-68,19-68\\r\\n60-98,59-59\\r\\n31-34,30-34\\r\\n2-22,19-21\\r\\n3-80,79-80\\r\\n72-72,71-71\\r\\n1-92,1-1\\r\\n67-86,48-94\\r\\n42-43,43-80\\r\\n3-89,89-90\\r\\n5-68,3-69\\r\\n7-7,6-65\\r\\n78-86,78-81\\r\\n54-85,85-85\\r\\n9-64,10-10\\r\\n39-96,38-38\\r\\n60-62,18-61\\r\\n20-47,47-81\\r\\n2-97,98-99\\r\\n18-83,83-83\\r\\n12-93,12-13\\r\\n4-4,3-74\\r\\n77-96,11-62\\r\\n2-81,2-80\\r\\n53-59,52-59\\r\\n55-94,54-90\\r\\n29-30,29-42\\r\\n52-69,64-69\\r\\n9-90,3-10\\r\\n16-39,15-61\\r\\n74-76,38-75\\r\\n12-14,22-43\\r\\n12-90,11-11\\r\\n5-94,6-93\\r\\n6-18,17-23\\r\\n8-8,8-18\\r\\n27-42,26-41\\r\\n8-77,7-7\\r\\n46-47,47-47\\r\\n1-57,21-29\\r\\n11-87,2-2\\r\\n45-45,46-46\\r\\n64-65,64-87\\r\\n36-36,37-74\\r\\n34-56,38-56\\r\\n66-77,67-98\\r\\n1-86,2-21\\r\\n11-30,12-29\\r\\n98-99,31-97\\r\\n5-5,10-71\\r\\n18-83,11-19\\r\\n8-38,3-8\\r\\n2-79,48-78\\r\\n10-14,9-24\\r\\n16-91,16-96\\r\\n3-3,4-99\\r\\n25-35,29-84\\r\\n49-70,50-74\\r\\n48-68,49-49\\r\\n61-61,57-61\\r\\n40-79,50-78\\r\\n56-83,27-84\\r\\n82-92,54-82\\r\\n50-59,59-69\\r\\n52-84,52-83\\r\\n17-66,15-65\\r\\n2-91,3-3\\r\\n13-47,12-88\\r\\n62-80,61-70\\r\\n11-71,4-8\\r\\n35-88,36-88\\r\\n9-55,5-10\\r\\n31-53,30-91\\r\\n22-36,35-97\\r\\n5-64,4-65\\r\\n61-61,4-62\\r\\n10-78,16-73\\r\\n6-81,5-82\\r\\n10-42,9-75\\r\\n17-36,16-96\\r\\n51-83,85-85\\r\\n35-68,67-68\\r\\n46-61,19-60\\r\\n12-55,10-56\\r\\n3-90,9-91\\r\\n63-97,98-99\\r\\n32-93,33-52\\r\\n66-71,67-67\\r\\n22-82,82-83\\r\\n6-91,7-92\\r\\n76-97,98-99\\r\\n33-86,53-85\\r\\n37-83,37-82\\r\\n5-86,64-87\\r\\n29-52,40-51\\r\\n60-76,76-77\\r\\n20-40,56-58\\r\\n14-88,3-89\\r\\n15-15,16-88\\r\\n96-99,6-97\\r\\n55-76,54-76\\r\\n22-88,28-81\\r\\n21-21,21-36\\r\\n2-92,1-93\\r\\n13-36,12-35\\r\\n50-81,18-51\\r\\n46-48,1-47\\r\\n17-82,82-84\\r\\n7-9,12-88\\r\\n16-94,16-58\\r\\n18-52,17-96\\r\\n6-82,7-82\\r\\n14-94,48-93\\r\\n12-76,9-13\\r\\n20-98,21-96\\r\\n69-95,16-92\\r\\n2-3,2-93\\r\\n28-38,27-39\\r\\n11-65,11-64\\r\\n43-44,43-63\\r\\n1-1,4-98\\r\\n3-3,3-9\\r\\n63-89,21-63\\r\\n6-48,5-48\\r\\n13-51,13-50\\r\\n90-96,53-95\\r\\n9-44,30-44\\r\\n61-74,61-62\\r\\n47-87,48-83\\r\\n26-26,25-96\\r\\n58-95,57-95\\r\\n24-81,80-81\\r\\n9-95,3-94\\r\\n13-31,14-32\\r\\n14-89,89-89\\r\\n19-29,18-28\\r\\n7-41,4-7\\r\\n63-73,63-64\\r\\n3-11,10-95\\r\\n36-41,26-47\\r\\n19-79,18-80\\r\\n46-86,30-45\\r\\n84-91,84-87\\r\\n1-76,1-88\\r\\n43-80,1-3\\r\\n3-8,47-77\\r\\n54-54,21-55\\r\\n3-83,82-83\\r\\n54-72,15-55\\r\\n10-49,62-71\\r\\n7-98,10-93\\r\\n89-92,8-93\\r\\n67-68,24-67\\r\\n43-80,44-84\\r\\n35-51,88-99\\r\\n4-99,3-98\\r\\n16-63,8-64\\r\\n80-99,81-99\\r\\n14-95,13-96\\r\\n13-84,12-13\\r\\n19-80,18-81\\r\\n2-91,3-86\\r\\n59-59,1-58\\r\\n23-90,10-21\\r\\n99-99,3-96\\r\\n7-7,3-8\\r\\n66-95,24-95\\r\\n27-86,26-86\\r\\n45-96,48-95\\r\\n33-56,29-34\\r\\n43-43,44-91\\r\\n2-96,3-97\\r\\n16-16,15-77\\r\\n61-61,61-71\\r\\n17-73,73-74\\r\\n64-86,63-86\\r\\n21-23,42-46\\r\\n29-30,19-30\\r\\n12-96,2-97\\r\\n25-25,25-73\\r\\n15-21,14-20\\r\\n82-90,15-69\\r\\n5-29,6-29\\r\\n2-95,82-96\\r\\n19-56,6-55\\r\\n24-56,24-52\\r\\n5-6,5-94\\r\\n40-97,40-40\\r\\n79-99,55-80\\r\\n9-98,97-99\\r\\n16-98,9-99\\r\\n70-71,24-70\\r\\n13-34,14-33\\r\\n40-41,40-51\\r\\n6-98,7-97\\r\\n16-77,55-58\\r\\n16-24,9-19\\r\\n41-70,42-70\\r\\n6-98,99-99\\r\\n77-77,40-76\\r\\n34-77,34-87\\r\\n74-92,29-74\\r\\n5-33,4-96\\r\\n14-83,1-82\\r\\n5-40,5-30\\r\\n72-72,11-71\\r\\n45-45,44-58\\r\\n10-10,9-72\\r\\n5-42,1-43\\r\\n11-99,10-99\\r\\n6-6,6-96\\r\\n39-59,38-60\\r\\n92-94,41-93\\r\\n1-17,3-94\\r\\n20-49,20-50\\r\\n3-26,28-54\\r\\n40-60,10-59\\r\\n24-95,55-96\\r\\n4-97,5-98\\r\\n3-93,1-93\\r\\n3-99,4-95\\r\\n60-98,17-57\\r\\n12-12,13-78\\r\\n3-34,2-99\\r\\n6-6,5-63\\r\\n3-85,4-65\\r\\n4-77,4-77\\r\\n56-56,11-55\\r\\n27-99,37-98\\r\\n7-7,7-59\\r\\n22-89,28-85\\r\\n6-39,7-96\\r\\n15-21,11-16\\r\\n51-72,13-71\\r\\n7-41,7-41\\r\\n18-28,10-27\\r\\n38-78,25-38\\r\\n32-84,32-83\\r\\n48-92,48-69\\r\\n83-84,84-84\\r\\n52-94,52-89\\r\\n33-33,31-33\\r\\n34-78,34-35\\r\\n6-97,14-96\\r\\n18-62,17-70\\r\\n12-51,13-56\\r\\n68-68,24-67\\r\\n6-19,19-63\\r\\n19-88,15-88\\r\\n44-62,45-63\\r\\n5-82,6-82\\r\\n4-89,96-99\\r\\n20-35,35-85\\r\\n39-52,38-51\\r\\n44-98,28-99\\r\\n76-78,6-76\\r\\n86-93,37-88\\r\\n63-82,12-83\\r\\n69-78,61-79\\r\\n97-98,6-98\\r\\n28-73,28-28\\r\\n11-73,10-73\\r\\n3-4,6-80\\r\\n71-75,72-75\\r\\n74-75,10-74\\r\\n5-99,4-18\\r\\n24-32,9-25\\r\\n1-8,7-80\\r\\n17-53,52-93\\r\\n13-95,12-94\\r\\n28-87,28-54\\r\\n78-89,90-93\\r\\n24-54,54-54\\r\\n11-62,10-62\\r\\n66-82,65-82\\r\\n31-94,30-94\\r\\n5-96,6-98\\r\\n90-91,27-81\\r\\n63-64,63-89\\r\\n5-63,5-5\\r\\n91-92,3-41\\r\\n65-66,60-65\\r\\n48-99,48-49\\r\\n9-96,8-9\\r\\n6-48,6-47\\r\\n4-87,3-86\\r\\n10-99,11-98\\r\\n4-79,4-4\\r\\n19-71,65-72\\r\\n3-90,3-3\\r\\n16-97,17-98\\r\\n61-98,99-99\\r\\n7-24,6-66\\r\\n76-82,77-82\\r\\n47-89,46-94\\r\\n4-91,6-70\\r\\n28-29,30-53\\r\\n54-58,55-74\\r\\n33-71,72-99\\r\\n26-26,26-43\\r\\n97-99,12-94\\r\\n30-82,99-99\\r\\n94-94,42-94\\r\\n4-98,5-98\\r\\n41-82,40-83\\r\\n1-92,97-99\\r\\n40-43,31-39\\r\\n60-96,59-68\\r\\n90-90,90-95\\r\\n22-24,22-97\\r\\n13-98,98-99\\r\\n56-86,85-85\\r\\n89-92,93-93\\r\\n80-80,4-81\\r\\n67-98,66-87\\r\\n5-97,6-97\\r\\n20-67,68-68\\r\\n6-18,4-6\\r\\n31-71,32-32\\r\\n14-25,13-39\\r\\n90-90,9-91\\r\\n4-80,51-79\\r\\n59-88,15-99\\r\\n27-76,28-28\\r\\n7-47,48-48\\r\\n15-94,16-89\\r\\n15-50,16-50\\r\\n31-56,2-32\\r\\n14-62,15-61\\r\\n9-99,9-97\\r\\n82-92,11-82\\r\\n3-33,3-32\\r\\n9-79,51-78\\r\\n63-80,36-63\\r\\n57-60,57-82\\r\\n51-53,52-89\\r\\n11-20,44-98\\r\\n41-79,36-41\\r\\n61-79,74-79\\r\\n20-55,54-70\\r\\n49-51,17-50\\r\\n15-20,15-19\\r\\n46-75,47-74\\r\\n38-65,34-39\\r\\n86-89,37-85\\r\\n4-85,3-3\\r\\n8-76,2-76\\r\\n62-73,45-73\\r\\n29-31,29-53\\r\\n76-78,25-77\\r\\n11-98,11-11\\r\\n17-93,18-94\\r\\n4-12,5-12\\r\\n15-75,18-76\\r\\n1-14,1-3\\r\\n35-98,34-99\\r\\n2-34,34-67\\r\\n18-23,18-68\\r\\n68-70,39-69\\r\\n64-86,85-87\\r\\n22-94,5-64\\r\\n12-95,13-95\\r\\n88-88,68-87\\r\\n15-82,30-50\\r\\n11-26,25-27\\r\\n12-12,11-53\\r\\n15-47,48-48\\r\\n56-63,62-83\\r\\n36-98,35-98\\r\\n29-46,30-47\\r\\n64-64,50-64\\r\\n4-67,9-67\\r\\n71-95,67-94\\r\\n58-66,57-63\\r\\n55-71,56-70\\r\\n7-10,7-11\\r\\n17-91,90-90\\r\\n81-81,41-81\\r\\n1-24,1-5\\r\\n69-98,98-98\\r\\n15-85,14-85\\r\\n75-95,33-51\\r\\n13-67,17-66\\r\\n22-46,23-63\\r\\n3-94,3-4\\r\\n11-81,81-83\\r\\n79-92,80-80\\r\\n5-79,5-80\\r\\n67-75,66-96\\r\\n51-75,76-76\\r\\n12-74,13-73\\r\\n4-11,10-65\\r\\n17-61,8-11\\r\\n63-63,9-64\\r\\n38-38,23-38\\r\\n15-89,19-80\\r\\n95-96,74-95\\r\\n79-81,63-80\\r\\n89-89,39-88\\r\\n7-41,8-41\\r\\n16-23,22-96\\r\\n7-50,8-98\\r\\n30-75,31-74\\r\\n30-30,30-89\\r\\n52-53,52-78\\r\\n15-16,21-40\\r\\n3-37,13-38\\r\\n18-61,19-32\\r\\n78-79,1-78\\r\\n40-65,66-98\\r\\n2-72,67-71\\r\\n7-9,8-88\\r\\n26-61,25-25\\r\\n49-91,49-92\\r\\n2-24,2-94\\r\\n10-43,10-44\\r\\n73-80,6-79\\r\\n65-66,66-66\\r\\n24-31,31-32\\r\\n4-23,40-58\\r\\n4-86,1-1\\r\\n1-93,1-1\\r\\n7-8,7-83\\r\\n53-53,35-52\\r\\n7-7,6-71\\r\\n8-77,76-77\\r\\n11-33,11-42\\r\\n66-66,67-67\\r\\n35-53,34-52\\r\\n23-23,23-68\\r\\n9-20,10-15\\r\\n16-74,15-83\\r\\n20-82,58-81\\r\\n19-84,82-84\\r\\n50-77,50-77\\r\\n5-7,7-71\\r\\n18-93,52-92\\r\\n77-93,89-99\\r\\n43-43,42-43\\r\\n4-64,1-83\\r\\n8-74,74-75\\r\\n29-62,29-94\\r\\n8-50,1-9\\r\\n9-99,8-61\\r\\n5-98,4-98\\r\\n17-79,79-80\\r\\n53-84,54-85\\r\\n36-78,37-79\\r\\n45-74,46-73\\r\\n43-64,44-65\\r\\n39-45,38-72\\r\\n13-32,12-96\\r\\n5-5,5-84\\r\\n66-96,67-81\\r\\n84-84,24-83\\r\\n27-66,65-67\\r\\n12-46,64-72\\r\\n34-94,95-95\\r\\n10-89,10-11\\r\\n4-72,3-71\\r\\n13-38,12-16\\r\\n15-92,92-93\\r\\n16-16,17-74\\r\\n89-89,88-88\\r\\n5-65,6-65\\r\\n63-87,64-86\\r\\n19-86,18-86\\r\\n72-72,51-73\\r\\n64-95,65-65\\r\\n15-92,15-16\\r\\n48-86,49-86\\r\\n96-98,2-97\\r\\n99-99,2-97\\r\\n52-61,51-51\\r\\n80-92,13-93\\r\\n95-97,89-96\\r\\n49-54,54-59\\r\\n63-99,62-89\\r\\n4-88,3-88\\r\\n8-56,8-56\\r\\n10-31,30-32\\r\\n44-44,26-43\\r\\n81-93,40-91\\r\\n34-60,60-61\\r\\n22-80,12-23\\r\\n46-84,78-85\\r\\n22-83,22-71\\r\\n16-98,19-94\\r\\n34-47,39-46\\r\\n1-12,73-81\\r\\n12-98,12-48\\r\\n13-91,21-59\\r\\n26-65,26-66\\r\\n33-33,33-55\\r\\n6-99,7-98\\r\\n12-12,12-67\\r\\n11-68,1-95\\r\\n82-94,6-83\\r\\n62-70,61-94\\r\\n9-9,10-76\\r\\n23-93,93-93\\r\\n65-87,64-87\\r\\n86-88,19-87\\r\\n91-92,3-96\\r\\n8-93,93-94\\r\\n4-29,4-18\\r\\n10-23,22-35\\r\\n7-18,18-56\\r\\n23-82,7-11\\r\\n60-75,39-49\\r\\n9-78,19-77\\r\\n42-86,41-41\\r\\n24-24,39-99\\r\\n92-92,4-91\\r\\n3-12,4-14\\r\\n17-65,29-66\\r\\n44-91,92-93\\r\\n3-96,2-97\\r\\n5-92,4-93\\r\\n74-76,36-75\\r\\n8-65,6-9\\r\\n11-84,78-85\\r\\n50-50,30-57\\r\\n5-77,1-2\\r\\n31-94,93-95\\r\\n40-71,41-70\\r\\n90-92,4-91\\r\\n9-66,80-87\\r\\n30-57,57-86\\r\\n26-34,27-34\\r\\n38-84,37-85\\r\\n65-74,65-66\\r\\n60-84,3-85\\r\\n4-63,3-93\\r\\n61-93,62-62\\r\\n18-24,18-19\\r\\n7-12,11-13\\r\\n60-70,60-61\\r\\n4-57,4-63\\r\\n21-30,29-62\\r\\n49-89,48-90\\r\\n9-97,96-98\\r\\n1-97,3-94\\r\\n4-93,4-94\\r\\n3-96,7-81\\r\\n2-2,2-86\\r\\n4-8,1-8\\r\\n28-33,53-82\\r\\n20-91,19-91\\r\\n1-88,20-76\\r\\n8-70,3-16\\r\\n13-63,63-71\\r\\n4-71,71-72\\r\\n14-88,89-89\\r\\n8-87,5-9\\r\\n6-63,47-62\\r\\n61-99,61-99\\r\\n22-26,21-84\\r\\n47-86,47-51\\r\\n9-15,4-14\\r\\n2-67,3-66\\r\\n22-94,23-94\\r\\n21-86,20-86\\r\\n24-68,24-64\\r\\n38-38,38-56\\r\\n43-99,33-44\\r\\n85-86,53-85\\r\\n69-69,12-69\\r\\n11-12,30-98\\r\\n28-58,25-28\\r\\n27-94,28-98\\r\\n7-94,99-99\\r\\n35-91,17-92\\r\\n92-92,19-91\\r\\n12-94,40-93\\r\\n18-82,18-19\\r\\n3-96,2-97\\r\\n43-71,44-70\\r\\n39-82,40-83\\r\\n6-52,24-52\\r\\n19-51,20-52\\r\\n26-53,48-54\\r\\n15-99,14-16\\r\\n5-12,11-97\\r\\n12-86,86-87\\r\\n27-27,26-94\\r\\n14-15,18-87\\r\\n20-46,37-90\\r\\n12-61,12-13\\r\\n25-25,19-25\\r\\n93-97,13-92\\r\\n1-10,10-11\\r\\n25-34,25-30\\r\\n53-59,54-59\\r\\n25-92,66-93\\r\\n6-6,5-40\\r\\n2-31,1-32\\r\\n5-5,6-76\\r\\n19-99,9-98\\r\\n12-92,11-91\\r\\n3-33,58-90\\r\\n19-64,33-63\\r\\n10-54,10-55\\r\\n8-8,9-90\\r\\n16-90,15-90\\r\\n82-94,82-83\\r\\n12-77,27-64\\r\\n14-37,15-36\\r\\n63-83,74-84\\r\\n7-98,7-93\\r\\n7-87,23-88\\r\\n9-95,4-9\\r\\n42-46,80-89\\r\\n7-92,8-91\\r\\n7-14,7-20\\r\\n43-91,42-42\\r\\n53-81,1-82\\r\\n8-80,6-20\\r\\n19-59,5-58\\r\\n29-90,13-29\\r\\n29-90,28-30\\r\\n89-95,18-96\\r\\n76-76,21-75\\r\\n28-97,27-97\\r\\n28-91,27-91\\r\\n5-89,12-85\\r\\n62-63,20-62\\r\\n33-90,33-98\\r\\n12-53,11-54\\r\\n31-66,67-67\\r\\n60-90,61-91\\r\\n8-8,10-83\\r\\n50-82,36-83\\r\\n54-95,55-96\\r\\n42-80,43-81\\r\\n40-40,40-75\\r\\n10-69,9-27\\r\\n43-47,26-34\\r\\n44-75,12-76\\r\\n35-36,35-97\\r\\n6-25,5-25\\r\\n4-65,2-5\\r\\n70-71,50-70\\r\\n9-95,4-9\\r\\n38-75,38-39\\r\\n72-94,8-71\\r\\n30-97,30-31\\r\\n8-87,8-40\\r\\n19-59,18-59\\r\\n3-96,1-96\\r\\n4-69,3-99\\r\\n4-7,7-98\\r\\n16-94,93-94\\r\\n8-86,9-87\\r\\n23-97,23-98\\r\\n5-89,6-6\\r\\n15-32,15-15\\r\\n8-79,2-8\\r\\n6-22,7-22\\r\\n89-91,24-90\\r\\n57-85,7-86\\r\\n54-79,53-54\\r\\n96-97,7-97\\r\\n45-45,9-44\\r\\n28-98,46-97\\r\\n40-65,66-66\\r\\n12-26,13-26\\r\\n10-10,10-76\\r\\n29-59,28-59\\r\\n17-39,16-72\\r\\n69-70,70-81\\r\\n60-61,60-64\\r\\n18-56,18-95\\r\\n21-21,21-80\\r\\n15-36,15-95\\r\\n1-98,1-1\\r\\n61-65,60-66\\r\\n80-91,80-99\\r\\n42-81,65-82\\r\\n44-87,43-90\\r\\n12-90,11-90\\r\\n5-94,6-94\\r\\n81-81,44-80\\r\\n2-37,21-47\\r\\n26-81,30-81\\r\\n29-81,97-97\\r\\n7-79,3-78\\r\\n43-74,42-73\\r\\n3-77,3-74\\r\\n2-74,1-2\\r\\n46-68,14-46\\r\\n1-58,3-78\\r\\n46-70,13-52\\r\\n92-96,32-92\\r\\n32-81,31-80\\r\\n17-97,17-98\\r\\n40-75,75-76\\r\\n22-22,22-73\\r\\n13-96,13-95\\r\\n47-70,46-70\\r\\n21-56,22-22\\r\\n7-87,3-96\\r\\n12-48,13-48\\r\\n23-84,3-24\\r\\n20-98,20-99\\r\\n8-79,6-95\\r\\n6-62,2-98\\r\\n21-28,3-28\\r\\n67-69,59-68\\r\\n16-86,14-14\\r\\n25-77,25-26\\r\\n9-34,9-35\\r\\n8-13,14-14\\r\\n8-24,8-91\\r\\n8-76,6-75\\r\\n9-78,9-10\\r\\n19-82,7-19\\r\\n83-84,62-83\\r\\n16-86,17-86\\r\\n32-32,14-31\\r\\n24-73,23-99\\r\\n5-16,5-15\\r\\n7-99,8-98\\r\\n12-94,13-91\\r\\n37-38,37-92\\r\\n3-87,3-4\\r\\n10-96,10-93\\r\\n2-77,1-76\\r\\n61-87,37-70\\r\\n2-24,80-86\\r\\n3-97,3-17\\r\\n5-74,46-58\\r\\n76-78,40-77\\r\\n7-94,7-87\\r\\n15-31,31-32\\r\\n10-96,70-98\\r\\n4-51,52-90\\r\\n48-52,52-75\\r\\n19-46,18-47\\r\\n82-97,25-96\\r\\n15-54,8-15\\r\\n90-90,89-94\\r\\n16-91,16-65\\r\\n3-97,3-99\\r\\n6-90,6-91\\r\\n75-76,1-75\\r\\n9-9,8-86\\r\\n34-34,34-36\\r\\n94-94,42-93\\r\\n7-37,6-36\\r\\n5-5,5-67\\r\\n59-84,3-90\\r\\n26-26,25-99\\r\\n44-97,96-97\\r\\n41-77,42-57\\r\\n33-79,34-80\\r\\n68-70,68-68\\r\\n68-81,67-80\\r\\n4-93,4-5\\r\\n25-42,3-26\\r\\n44-77,45-95\\r\\n38-97,96-98\\r\\n33-34,32-34\\r\\n90-93,89-89\\r\\n21-60,60-85\\r\\n44-91,20-95\\r\\n26-68,25-63\\r\\n17-18,17-73\\r\\n6-93,6-7\\r\\n26-31,27-32\\r\\n10-97,10-98\\r\\n33-84,33-92\\r\\n93-98,2-93\\r\\n39-92,39-91\\r\\n9-73,8-65\\r\\n10-89,9-62\\r\\n50-89,50-51\\r\\n35-98,99-99\\r\\n50-96,24-87\\r\\n99-99,25-96\\r\\n37-78,4-79\\r\\n2-10,10-11\\r\\n13-71,11-14\\r\\n51-76,7-76\\r\\n38-52,42-51\\r\\n10-91,3-11\\r\\n7-78,3-79\\r\\n5-7,3-3\\r\\n28-50,17-50\\r\\n39-62,4-15\\r\\n6-97,5-98\\r\\n63-91,23-99\\r\\n12-93,11-19\\r\\n52-93,73-99\\r\\n12-95,12-12\\r\\n13-28,27-84\\r\\n83-85,12-84\\r\\n26-99,26-27\\r\\n58-62,57-88\\r\\n27-43,44-44\\r\\n43-96,20-44\\r\\n34-61,59-60\\r\\n44-75,43-75\\r\\n1-99,5-93\\r\\n17-99,18-98\\r\\n84-90,85-89\\r\\n5-49,1-5\\r\\n26-74,43-74\\r\\n65-93,65-90\\r\\n18-84,11-19\\r\\n15-15,14-83\\r\\n19-97,19-96\\r\\n2-95,4-95\\r\\n84-84,85-85\\r\\n7-53,53-56\\r\\n2-2,3-60\\r\\n24-48,48-72\\r\\n1-1,1-97\\r\\n15-29,16-20\\r\\n1-20,19-50\\r\\n6-88,1-7\\r\\n14-47,13-13\\r\\n4-44,4-42\\r\\n7-98,7-12\\r\\n30-69,3-30\\r\\n73-82,81-83\\r\\n1-96,1-86\\r\\n4-4,3-48\\r\\n94-96,5-86\\r\\n29-73,29-30\\r\\n21-22,22-80\\r\\n97-98,29-98\\r\\n42-75,76-84\\r\\n86-92,85-93\\r\\n14-70,13-69'}"
            ]
          },
          "metadata": {},
          "execution_count": 48
        }
      ]
    },
    {
      "cell_type": "markdown",
      "source": [
        "## **Parte 1**"
      ],
      "metadata": {
        "id": "miBpXcSZWjb8"
      }
    },
    {
      "cell_type": "code",
      "source": [
        "# Obtenemos los rangos de inicio y final de los pares de secciones\n",
        "# Y comprobamos si se solapan en su totalida, si esto sucede se\n",
        "# aumenta el contador de pares contenidos/solapados \n",
        "\n",
        "pairs_contained = 0\n",
        "\n",
        "# Leer cada línea del archivo Data.txt\n",
        "with open(\"Data.txt\") as f:\n",
        "  lines = f.read().strip().split(\"\\n\")\n",
        "\n",
        "  for line in lines:\n",
        "    line = line.split(\",\")\n",
        "    x1, y1 = map(int,line[0].split(\"-\"))\n",
        "    x2, y2 = map(int,line[1].split(\"-\"))\n",
        "\n",
        "    if(x1 >= x2 and y1 <= y2) or (x1 <= x2 and y1 >= y2):\n",
        "      pairs_contained += 1\n",
        "\n",
        "  print('El total de pares solapados es: ' + str(pairs_contained))"
      ],
      "metadata": {
        "colab": {
          "base_uri": "https://localhost:8080/"
        },
        "id": "ST35yAmpWjrt",
        "outputId": "b945eccc-f68f-4436-b249-9883d2c0e892"
      },
      "execution_count": 98,
      "outputs": [
        {
          "output_type": "stream",
          "name": "stdout",
          "text": [
            "El total de pares solapados es: 534\n"
          ]
        }
      ]
    },
    {
      "cell_type": "markdown",
      "source": [
        "## **Parte 2**"
      ],
      "metadata": {
        "id": "vwpW-r1lWj7C"
      }
    },
    {
      "cell_type": "code",
      "source": [
        "# Usamos la lógica anterior, solo que esta vez, si uno de los puntos de inicio o \n",
        "# final de los rangos de las secciones se encuentra en el rango de la otra sección\n",
        "# se aumenta la cantidad de pares contenidos/solapados \n",
        "\n",
        "pairs_contained = 0\n",
        "\n",
        "# Leer cada línea del archivo Data.txt\n",
        "with open(\"Data.txt\") as f:\n",
        "  lines = f.read().strip().split(\"\\n\")\n",
        "\n",
        "  for line in lines:\n",
        "    line = line.split(\",\")\n",
        "    x1, y1 = map(int,line[0].split(\"-\"))\n",
        "    x2, y2 = map(int,line[1].split(\"-\"))\n",
        "\n",
        "    if (x1 <= x2 <= y1) or (x1 <= y2 <= y1) or (x2 <= x1 <= y2) or (x2 <= y1 <= y2):\n",
        "      pairs_contained += 1\n",
        "\n",
        "  print('El total de pares solapados es: ' + str(pairs_contained))"
      ],
      "metadata": {
        "colab": {
          "base_uri": "https://localhost:8080/"
        },
        "id": "O17FmmrbtfdV",
        "outputId": "8749f185-4236-4847-e690-468e334f3267"
      },
      "execution_count": 99,
      "outputs": [
        {
          "output_type": "stream",
          "name": "stdout",
          "text": [
            "El total de pares solapados es: 841\n"
          ]
        }
      ]
    }
  ]
}