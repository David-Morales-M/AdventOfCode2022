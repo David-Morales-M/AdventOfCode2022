{
  "nbformat": 4,
  "nbformat_minor": 0,
  "metadata": {
    "colab": {
      "provenance": []
    },
    "kernelspec": {
      "name": "python3",
      "display_name": "Python 3"
    },
    "language_info": {
      "name": "python"
    }
  },
  "cells": [
    {
      "cell_type": "code",
      "execution_count": 1,
      "metadata": {
        "id": "4bbTci_QcTjV"
      },
      "outputs": [],
      "source": [
        "# Importando Librerías\n",
        "from google.colab import files\n",
        "import numpy as np "
      ]
    },
    {
      "cell_type": "code",
      "source": [
        "# Subir Archivos\n",
        "files.upload() "
      ],
      "metadata": {
        "colab": {
          "base_uri": "https://localhost:8080/",
          "height": 1000
        },
        "id": "ryNst9wfcX3z",
        "outputId": "5d2aadd4-30cd-4708-8a38-7d41f2dbbb0e"
      },
      "execution_count": 29,
      "outputs": [
        {
          "output_type": "display_data",
          "data": {
            "text/plain": [
              "<IPython.core.display.HTML object>"
            ],
            "text/html": [
              "\n",
              "     <input type=\"file\" id=\"files-e1816016-1026-4f65-820d-07a3317b6a86\" name=\"files[]\" multiple disabled\n",
              "        style=\"border:none\" />\n",
              "     <output id=\"result-e1816016-1026-4f65-820d-07a3317b6a86\">\n",
              "      Upload widget is only available when the cell has been executed in the\n",
              "      current browser session. Please rerun this cell to enable.\n",
              "      </output>\n",
              "      <script>// Copyright 2017 Google LLC\n",
              "//\n",
              "// Licensed under the Apache License, Version 2.0 (the \"License\");\n",
              "// you may not use this file except in compliance with the License.\n",
              "// You may obtain a copy of the License at\n",
              "//\n",
              "//      http://www.apache.org/licenses/LICENSE-2.0\n",
              "//\n",
              "// Unless required by applicable law or agreed to in writing, software\n",
              "// distributed under the License is distributed on an \"AS IS\" BASIS,\n",
              "// WITHOUT WARRANTIES OR CONDITIONS OF ANY KIND, either express or implied.\n",
              "// See the License for the specific language governing permissions and\n",
              "// limitations under the License.\n",
              "\n",
              "/**\n",
              " * @fileoverview Helpers for google.colab Python module.\n",
              " */\n",
              "(function(scope) {\n",
              "function span(text, styleAttributes = {}) {\n",
              "  const element = document.createElement('span');\n",
              "  element.textContent = text;\n",
              "  for (const key of Object.keys(styleAttributes)) {\n",
              "    element.style[key] = styleAttributes[key];\n",
              "  }\n",
              "  return element;\n",
              "}\n",
              "\n",
              "// Max number of bytes which will be uploaded at a time.\n",
              "const MAX_PAYLOAD_SIZE = 100 * 1024;\n",
              "\n",
              "function _uploadFiles(inputId, outputId) {\n",
              "  const steps = uploadFilesStep(inputId, outputId);\n",
              "  const outputElement = document.getElementById(outputId);\n",
              "  // Cache steps on the outputElement to make it available for the next call\n",
              "  // to uploadFilesContinue from Python.\n",
              "  outputElement.steps = steps;\n",
              "\n",
              "  return _uploadFilesContinue(outputId);\n",
              "}\n",
              "\n",
              "// This is roughly an async generator (not supported in the browser yet),\n",
              "// where there are multiple asynchronous steps and the Python side is going\n",
              "// to poll for completion of each step.\n",
              "// This uses a Promise to block the python side on completion of each step,\n",
              "// then passes the result of the previous step as the input to the next step.\n",
              "function _uploadFilesContinue(outputId) {\n",
              "  const outputElement = document.getElementById(outputId);\n",
              "  const steps = outputElement.steps;\n",
              "\n",
              "  const next = steps.next(outputElement.lastPromiseValue);\n",
              "  return Promise.resolve(next.value.promise).then((value) => {\n",
              "    // Cache the last promise value to make it available to the next\n",
              "    // step of the generator.\n",
              "    outputElement.lastPromiseValue = value;\n",
              "    return next.value.response;\n",
              "  });\n",
              "}\n",
              "\n",
              "/**\n",
              " * Generator function which is called between each async step of the upload\n",
              " * process.\n",
              " * @param {string} inputId Element ID of the input file picker element.\n",
              " * @param {string} outputId Element ID of the output display.\n",
              " * @return {!Iterable<!Object>} Iterable of next steps.\n",
              " */\n",
              "function* uploadFilesStep(inputId, outputId) {\n",
              "  const inputElement = document.getElementById(inputId);\n",
              "  inputElement.disabled = false;\n",
              "\n",
              "  const outputElement = document.getElementById(outputId);\n",
              "  outputElement.innerHTML = '';\n",
              "\n",
              "  const pickedPromise = new Promise((resolve) => {\n",
              "    inputElement.addEventListener('change', (e) => {\n",
              "      resolve(e.target.files);\n",
              "    });\n",
              "  });\n",
              "\n",
              "  const cancel = document.createElement('button');\n",
              "  inputElement.parentElement.appendChild(cancel);\n",
              "  cancel.textContent = 'Cancel upload';\n",
              "  const cancelPromise = new Promise((resolve) => {\n",
              "    cancel.onclick = () => {\n",
              "      resolve(null);\n",
              "    };\n",
              "  });\n",
              "\n",
              "  // Wait for the user to pick the files.\n",
              "  const files = yield {\n",
              "    promise: Promise.race([pickedPromise, cancelPromise]),\n",
              "    response: {\n",
              "      action: 'starting',\n",
              "    }\n",
              "  };\n",
              "\n",
              "  cancel.remove();\n",
              "\n",
              "  // Disable the input element since further picks are not allowed.\n",
              "  inputElement.disabled = true;\n",
              "\n",
              "  if (!files) {\n",
              "    return {\n",
              "      response: {\n",
              "        action: 'complete',\n",
              "      }\n",
              "    };\n",
              "  }\n",
              "\n",
              "  for (const file of files) {\n",
              "    const li = document.createElement('li');\n",
              "    li.append(span(file.name, {fontWeight: 'bold'}));\n",
              "    li.append(span(\n",
              "        `(${file.type || 'n/a'}) - ${file.size} bytes, ` +\n",
              "        `last modified: ${\n",
              "            file.lastModifiedDate ? file.lastModifiedDate.toLocaleDateString() :\n",
              "                                    'n/a'} - `));\n",
              "    const percent = span('0% done');\n",
              "    li.appendChild(percent);\n",
              "\n",
              "    outputElement.appendChild(li);\n",
              "\n",
              "    const fileDataPromise = new Promise((resolve) => {\n",
              "      const reader = new FileReader();\n",
              "      reader.onload = (e) => {\n",
              "        resolve(e.target.result);\n",
              "      };\n",
              "      reader.readAsArrayBuffer(file);\n",
              "    });\n",
              "    // Wait for the data to be ready.\n",
              "    let fileData = yield {\n",
              "      promise: fileDataPromise,\n",
              "      response: {\n",
              "        action: 'continue',\n",
              "      }\n",
              "    };\n",
              "\n",
              "    // Use a chunked sending to avoid message size limits. See b/62115660.\n",
              "    let position = 0;\n",
              "    do {\n",
              "      const length = Math.min(fileData.byteLength - position, MAX_PAYLOAD_SIZE);\n",
              "      const chunk = new Uint8Array(fileData, position, length);\n",
              "      position += length;\n",
              "\n",
              "      const base64 = btoa(String.fromCharCode.apply(null, chunk));\n",
              "      yield {\n",
              "        response: {\n",
              "          action: 'append',\n",
              "          file: file.name,\n",
              "          data: base64,\n",
              "        },\n",
              "      };\n",
              "\n",
              "      let percentDone = fileData.byteLength === 0 ?\n",
              "          100 :\n",
              "          Math.round((position / fileData.byteLength) * 100);\n",
              "      percent.textContent = `${percentDone}% done`;\n",
              "\n",
              "    } while (position < fileData.byteLength);\n",
              "  }\n",
              "\n",
              "  // All done.\n",
              "  yield {\n",
              "    response: {\n",
              "      action: 'complete',\n",
              "    }\n",
              "  };\n",
              "}\n",
              "\n",
              "scope.google = scope.google || {};\n",
              "scope.google.colab = scope.google.colab || {};\n",
              "scope.google.colab._files = {\n",
              "  _uploadFiles,\n",
              "  _uploadFilesContinue,\n",
              "};\n",
              "})(self);\n",
              "</script> "
            ]
          },
          "metadata": {}
        },
        {
          "output_type": "stream",
          "name": "stdout",
          "text": [
            "Saving Data.txt to Data.txt\n"
          ]
        },
        {
          "output_type": "execute_result",
          "data": {
            "text/plain": [
              "{'Data.txt': b'    [S] [C]         [Z]            \\r\\n[F] [J] [P]         [T]     [N]    \\r\\n[G] [H] [G] [Q]     [G]     [D]    \\r\\n[V] [V] [D] [G] [F] [D]     [V]    \\r\\n[R] [B] [F] [N] [N] [Q] [L] [S]    \\r\\n[J] [M] [M] [P] [H] [V] [B] [B] [D]\\r\\n[L] [P] [H] [D] [L] [F] [D] [J] [L]\\r\\n[D] [T] [V] [M] [J] [N] [F] [M] [G]\\r\\n 1   2   3   4   5   6   7   8   9 \\r\\n\\r\\nmove 3 from 4 to 6\\r\\nmove 1 from 5 to 8\\r\\nmove 3 from 7 to 3\\r\\nmove 4 from 5 to 7\\r\\nmove 1 from 7 to 8\\r\\nmove 3 from 9 to 4\\r\\nmove 2 from 8 to 2\\r\\nmove 4 from 4 to 5\\r\\nmove 2 from 5 to 1\\r\\nmove 2 from 5 to 6\\r\\nmove 7 from 8 to 1\\r\\nmove 9 from 3 to 9\\r\\nmove 11 from 6 to 5\\r\\nmove 2 from 6 to 7\\r\\nmove 12 from 1 to 4\\r\\nmove 10 from 2 to 9\\r\\nmove 2 from 3 to 9\\r\\nmove 1 from 7 to 5\\r\\nmove 4 from 7 to 6\\r\\nmove 2 from 6 to 1\\r\\nmove 5 from 1 to 6\\r\\nmove 10 from 9 to 1\\r\\nmove 9 from 9 to 8\\r\\nmove 13 from 4 to 3\\r\\nmove 7 from 6 to 2\\r\\nmove 2 from 8 to 5\\r\\nmove 9 from 3 to 9\\r\\nmove 8 from 9 to 8\\r\\nmove 4 from 8 to 4\\r\\nmove 1 from 7 to 5\\r\\nmove 3 from 9 to 1\\r\\nmove 7 from 2 to 1\\r\\nmove 1 from 3 to 1\\r\\nmove 1 from 3 to 6\\r\\nmove 1 from 6 to 1\\r\\nmove 2 from 3 to 6\\r\\nmove 5 from 4 to 1\\r\\nmove 1 from 6 to 1\\r\\nmove 3 from 8 to 7\\r\\nmove 8 from 8 to 4\\r\\nmove 3 from 5 to 4\\r\\nmove 1 from 6 to 7\\r\\nmove 1 from 5 to 8\\r\\nmove 4 from 5 to 2\\r\\nmove 7 from 5 to 8\\r\\nmove 3 from 2 to 7\\r\\nmove 7 from 4 to 8\\r\\nmove 11 from 8 to 4\\r\\nmove 15 from 4 to 1\\r\\nmove 25 from 1 to 6\\r\\nmove 4 from 8 to 7\\r\\nmove 1 from 2 to 4\\r\\nmove 11 from 6 to 4\\r\\nmove 12 from 6 to 3\\r\\nmove 1 from 1 to 9\\r\\nmove 1 from 9 to 8\\r\\nmove 16 from 1 to 3\\r\\nmove 1 from 8 to 7\\r\\nmove 12 from 4 to 6\\r\\nmove 9 from 6 to 5\\r\\nmove 3 from 6 to 5\\r\\nmove 6 from 7 to 5\\r\\nmove 3 from 3 to 5\\r\\nmove 2 from 6 to 3\\r\\nmove 11 from 5 to 8\\r\\nmove 2 from 8 to 3\\r\\nmove 2 from 1 to 4\\r\\nmove 7 from 3 to 1\\r\\nmove 2 from 4 to 6\\r\\nmove 2 from 6 to 2\\r\\nmove 5 from 7 to 3\\r\\nmove 1 from 1 to 6\\r\\nmove 1 from 1 to 8\\r\\nmove 2 from 2 to 5\\r\\nmove 1 from 7 to 4\\r\\nmove 1 from 1 to 2\\r\\nmove 10 from 3 to 5\\r\\nmove 11 from 3 to 6\\r\\nmove 1 from 4 to 9\\r\\nmove 1 from 9 to 4\\r\\nmove 1 from 4 to 2\\r\\nmove 2 from 5 to 9\\r\\nmove 2 from 2 to 8\\r\\nmove 2 from 1 to 6\\r\\nmove 2 from 1 to 2\\r\\nmove 2 from 3 to 6\\r\\nmove 3 from 8 to 1\\r\\nmove 3 from 1 to 4\\r\\nmove 7 from 8 to 3\\r\\nmove 2 from 9 to 5\\r\\nmove 2 from 4 to 9\\r\\nmove 7 from 5 to 6\\r\\nmove 2 from 8 to 6\\r\\nmove 1 from 4 to 8\\r\\nmove 2 from 2 to 4\\r\\nmove 21 from 6 to 3\\r\\nmove 10 from 5 to 7\\r\\nmove 7 from 7 to 6\\r\\nmove 1 from 9 to 3\\r\\nmove 1 from 4 to 9\\r\\nmove 1 from 9 to 4\\r\\nmove 1 from 8 to 4\\r\\nmove 8 from 6 to 4\\r\\nmove 1 from 4 to 5\\r\\nmove 1 from 5 to 8\\r\\nmove 4 from 3 to 6\\r\\nmove 1 from 8 to 2\\r\\nmove 1 from 4 to 2\\r\\nmove 2 from 7 to 3\\r\\nmove 2 from 2 to 7\\r\\nmove 22 from 3 to 5\\r\\nmove 4 from 6 to 2\\r\\nmove 2 from 6 to 9\\r\\nmove 7 from 3 to 9\\r\\nmove 6 from 9 to 1\\r\\nmove 18 from 5 to 3\\r\\nmove 2 from 5 to 4\\r\\nmove 20 from 3 to 5\\r\\nmove 3 from 7 to 3\\r\\nmove 5 from 1 to 2\\r\\nmove 11 from 5 to 7\\r\\nmove 1 from 1 to 7\\r\\nmove 3 from 9 to 3\\r\\nmove 16 from 5 to 8\\r\\nmove 7 from 8 to 7\\r\\nmove 1 from 9 to 2\\r\\nmove 8 from 2 to 3\\r\\nmove 2 from 2 to 4\\r\\nmove 3 from 3 to 1\\r\\nmove 9 from 3 to 8\\r\\nmove 1 from 6 to 3\\r\\nmove 9 from 7 to 3\\r\\nmove 3 from 1 to 8\\r\\nmove 1 from 7 to 9\\r\\nmove 1 from 9 to 4\\r\\nmove 1 from 7 to 5\\r\\nmove 10 from 4 to 5\\r\\nmove 2 from 4 to 2\\r\\nmove 19 from 8 to 5\\r\\nmove 1 from 8 to 3\\r\\nmove 4 from 3 to 5\\r\\nmove 2 from 4 to 8\\r\\nmove 4 from 7 to 8\\r\\nmove 4 from 3 to 9\\r\\nmove 4 from 7 to 6\\r\\nmove 2 from 2 to 5\\r\\nmove 2 from 3 to 2\\r\\nmove 6 from 8 to 7\\r\\nmove 1 from 8 to 4\\r\\nmove 2 from 6 to 4\\r\\nmove 3 from 4 to 8\\r\\nmove 3 from 9 to 2\\r\\nmove 4 from 7 to 8\\r\\nmove 28 from 5 to 8\\r\\nmove 16 from 8 to 4\\r\\nmove 11 from 8 to 4\\r\\nmove 3 from 3 to 4\\r\\nmove 7 from 5 to 8\\r\\nmove 13 from 8 to 7\\r\\nmove 1 from 5 to 6\\r\\nmove 1 from 6 to 7\\r\\nmove 1 from 9 to 2\\r\\nmove 2 from 6 to 2\\r\\nmove 12 from 4 to 9\\r\\nmove 4 from 4 to 1\\r\\nmove 2 from 9 to 8\\r\\nmove 4 from 8 to 3\\r\\nmove 3 from 4 to 5\\r\\nmove 4 from 4 to 1\\r\\nmove 4 from 4 to 7\\r\\nmove 3 from 7 to 9\\r\\nmove 5 from 9 to 7\\r\\nmove 7 from 2 to 3\\r\\nmove 1 from 5 to 7\\r\\nmove 8 from 1 to 5\\r\\nmove 1 from 2 to 4\\r\\nmove 11 from 3 to 1\\r\\nmove 10 from 5 to 3\\r\\nmove 3 from 9 to 1\\r\\nmove 3 from 9 to 6\\r\\nmove 5 from 1 to 6\\r\\nmove 7 from 6 to 9\\r\\nmove 8 from 9 to 7\\r\\nmove 9 from 3 to 4\\r\\nmove 1 from 6 to 9\\r\\nmove 8 from 7 to 1\\r\\nmove 9 from 4 to 2\\r\\nmove 2 from 1 to 6\\r\\nmove 3 from 2 to 6\\r\\nmove 4 from 4 to 6\\r\\nmove 2 from 9 to 8\\r\\nmove 2 from 1 to 2\\r\\nmove 1 from 3 to 8\\r\\nmove 2 from 8 to 4\\r\\nmove 1 from 6 to 8\\r\\nmove 11 from 1 to 6\\r\\nmove 1 from 1 to 5\\r\\nmove 3 from 2 to 9\\r\\nmove 2 from 9 to 3\\r\\nmove 1 from 1 to 7\\r\\nmove 2 from 4 to 9\\r\\nmove 4 from 2 to 9\\r\\nmove 2 from 8 to 5\\r\\nmove 10 from 6 to 1\\r\\nmove 2 from 5 to 6\\r\\nmove 5 from 9 to 8\\r\\nmove 5 from 8 to 7\\r\\nmove 1 from 2 to 1\\r\\nmove 7 from 1 to 2\\r\\nmove 2 from 9 to 4\\r\\nmove 1 from 3 to 5\\r\\nmove 15 from 7 to 2\\r\\nmove 8 from 6 to 3\\r\\nmove 2 from 4 to 3\\r\\nmove 2 from 6 to 4\\r\\nmove 4 from 7 to 1\\r\\nmove 4 from 7 to 5\\r\\nmove 1 from 6 to 4\\r\\nmove 3 from 1 to 7\\r\\nmove 5 from 7 to 6\\r\\nmove 4 from 7 to 5\\r\\nmove 18 from 2 to 4\\r\\nmove 5 from 6 to 4\\r\\nmove 4 from 1 to 2\\r\\nmove 8 from 3 to 8\\r\\nmove 2 from 8 to 4\\r\\nmove 2 from 3 to 7\\r\\nmove 1 from 5 to 7\\r\\nmove 3 from 8 to 4\\r\\nmove 2 from 7 to 2\\r\\nmove 1 from 3 to 8\\r\\nmove 9 from 2 to 6\\r\\nmove 2 from 8 to 6\\r\\nmove 1 from 7 to 3\\r\\nmove 1 from 3 to 5\\r\\nmove 3 from 6 to 8\\r\\nmove 1 from 8 to 5\\r\\nmove 1 from 5 to 9\\r\\nmove 1 from 1 to 2\\r\\nmove 5 from 4 to 6\\r\\nmove 10 from 6 to 2\\r\\nmove 5 from 2 to 6\\r\\nmove 5 from 6 to 4\\r\\nmove 1 from 6 to 3\\r\\nmove 6 from 4 to 6\\r\\nmove 3 from 2 to 6\\r\\nmove 2 from 2 to 3\\r\\nmove 11 from 4 to 6\\r\\nmove 1 from 9 to 5\\r\\nmove 4 from 6 to 7\\r\\nmove 1 from 4 to 3\\r\\nmove 12 from 4 to 3\\r\\nmove 1 from 8 to 6\\r\\nmove 9 from 5 to 7\\r\\nmove 1 from 5 to 2\\r\\nmove 1 from 8 to 5\\r\\nmove 1 from 4 to 9\\r\\nmove 9 from 7 to 9\\r\\nmove 1 from 3 to 4\\r\\nmove 2 from 3 to 6\\r\\nmove 2 from 5 to 6\\r\\nmove 2 from 8 to 5\\r\\nmove 11 from 3 to 4\\r\\nmove 2 from 3 to 1\\r\\nmove 1 from 2 to 3\\r\\nmove 1 from 3 to 8\\r\\nmove 3 from 7 to 9\\r\\nmove 5 from 4 to 2\\r\\nmove 2 from 5 to 8\\r\\nmove 6 from 4 to 2\\r\\nmove 1 from 1 to 3\\r\\nmove 12 from 9 to 1\\r\\nmove 6 from 1 to 6\\r\\nmove 1 from 8 to 4\\r\\nmove 1 from 8 to 3\\r\\nmove 5 from 2 to 7\\r\\nmove 2 from 3 to 9\\r\\nmove 5 from 7 to 1\\r\\nmove 1 from 7 to 5\\r\\nmove 2 from 9 to 1\\r\\nmove 14 from 1 to 7\\r\\nmove 2 from 4 to 7\\r\\nmove 7 from 2 to 4\\r\\nmove 1 from 2 to 1\\r\\nmove 1 from 1 to 3\\r\\nmove 1 from 5 to 4\\r\\nmove 1 from 9 to 6\\r\\nmove 16 from 6 to 5\\r\\nmove 2 from 5 to 4\\r\\nmove 12 from 6 to 8\\r\\nmove 10 from 4 to 8\\r\\nmove 9 from 7 to 3\\r\\nmove 4 from 7 to 6\\r\\nmove 11 from 5 to 8\\r\\nmove 2 from 5 to 2\\r\\nmove 14 from 8 to 9\\r\\nmove 1 from 5 to 1\\r\\nmove 3 from 9 to 4\\r\\nmove 2 from 2 to 1\\r\\nmove 7 from 8 to 3\\r\\nmove 6 from 3 to 5\\r\\nmove 8 from 9 to 8\\r\\nmove 1 from 6 to 1\\r\\nmove 1 from 4 to 2\\r\\nmove 4 from 3 to 8\\r\\nmove 1 from 7 to 2\\r\\nmove 3 from 1 to 5\\r\\nmove 2 from 5 to 7\\r\\nmove 3 from 9 to 2\\r\\nmove 1 from 1 to 8\\r\\nmove 5 from 5 to 4\\r\\nmove 2 from 7 to 8\\r\\nmove 4 from 2 to 5\\r\\nmove 1 from 2 to 4\\r\\nmove 2 from 7 to 8\\r\\nmove 4 from 6 to 2\\r\\nmove 6 from 5 to 3\\r\\nmove 1 from 6 to 5\\r\\nmove 1 from 5 to 3\\r\\nmove 1 from 3 to 8\\r\\nmove 8 from 8 to 3\\r\\nmove 9 from 8 to 5\\r\\nmove 9 from 8 to 2\\r\\nmove 2 from 8 to 9\\r\\nmove 2 from 3 to 8\\r\\nmove 5 from 5 to 8\\r\\nmove 1 from 3 to 7\\r\\nmove 2 from 9 to 5\\r\\nmove 7 from 2 to 4\\r\\nmove 14 from 4 to 6\\r\\nmove 2 from 2 to 7\\r\\nmove 1 from 7 to 3\\r\\nmove 1 from 7 to 9\\r\\nmove 3 from 5 to 2\\r\\nmove 1 from 7 to 1\\r\\nmove 3 from 2 to 4\\r\\nmove 7 from 8 to 2\\r\\nmove 3 from 6 to 1\\r\\nmove 17 from 3 to 1\\r\\nmove 2 from 8 to 3\\r\\nmove 6 from 2 to 7\\r\\nmove 2 from 7 to 9\\r\\nmove 3 from 6 to 8\\r\\nmove 2 from 8 to 6\\r\\nmove 4 from 2 to 1\\r\\nmove 3 from 4 to 7\\r\\nmove 1 from 8 to 7\\r\\nmove 1 from 8 to 9\\r\\nmove 1 from 4 to 2\\r\\nmove 3 from 5 to 7\\r\\nmove 2 from 3 to 1\\r\\nmove 2 from 3 to 5\\r\\nmove 5 from 7 to 4\\r\\nmove 5 from 7 to 3\\r\\nmove 1 from 4 to 8\\r\\nmove 3 from 3 to 1\\r\\nmove 6 from 1 to 3\\r\\nmove 1 from 7 to 5\\r\\nmove 2 from 9 to 2\\r\\nmove 3 from 5 to 8\\r\\nmove 1 from 8 to 1\\r\\nmove 8 from 3 to 5\\r\\nmove 1 from 4 to 9\\r\\nmove 3 from 6 to 5\\r\\nmove 3 from 6 to 3\\r\\nmove 2 from 3 to 7\\r\\nmove 1 from 4 to 7\\r\\nmove 3 from 6 to 4\\r\\nmove 2 from 7 to 2\\r\\nmove 1 from 7 to 8\\r\\nmove 2 from 5 to 4\\r\\nmove 1 from 6 to 1\\r\\nmove 7 from 4 to 7\\r\\nmove 7 from 5 to 2\\r\\nmove 10 from 2 to 3\\r\\nmove 3 from 2 to 6\\r\\nmove 3 from 8 to 1\\r\\nmove 1 from 8 to 7\\r\\nmove 2 from 6 to 3\\r\\nmove 1 from 6 to 9\\r\\nmove 4 from 7 to 5\\r\\nmove 16 from 1 to 5\\r\\nmove 1 from 9 to 7\\r\\nmove 3 from 7 to 6\\r\\nmove 11 from 5 to 6\\r\\nmove 2 from 7 to 9\\r\\nmove 12 from 6 to 4\\r\\nmove 2 from 6 to 9\\r\\nmove 6 from 3 to 2\\r\\nmove 1 from 5 to 7\\r\\nmove 5 from 9 to 5\\r\\nmove 1 from 9 to 6\\r\\nmove 4 from 3 to 7\\r\\nmove 1 from 4 to 2\\r\\nmove 7 from 2 to 5\\r\\nmove 3 from 5 to 2\\r\\nmove 6 from 5 to 6\\r\\nmove 3 from 2 to 6\\r\\nmove 9 from 6 to 8\\r\\nmove 5 from 5 to 9\\r\\nmove 5 from 7 to 1\\r\\nmove 4 from 1 to 9\\r\\nmove 2 from 9 to 4\\r\\nmove 1 from 6 to 7\\r\\nmove 9 from 4 to 1\\r\\nmove 7 from 5 to 9\\r\\nmove 18 from 1 to 3\\r\\nmove 9 from 9 to 5\\r\\nmove 8 from 8 to 2\\r\\nmove 1 from 2 to 5\\r\\nmove 4 from 2 to 3\\r\\nmove 4 from 9 to 6\\r\\nmove 1 from 4 to 8\\r\\nmove 2 from 5 to 7\\r\\nmove 2 from 9 to 2\\r\\nmove 10 from 3 to 9\\r\\nmove 5 from 5 to 9\\r\\nmove 1 from 7 to 2\\r\\nmove 2 from 8 to 7\\r\\nmove 2 from 3 to 5\\r\\nmove 2 from 9 to 1\\r\\nmove 2 from 7 to 3\\r\\nmove 1 from 2 to 1\\r\\nmove 5 from 5 to 8\\r\\nmove 1 from 2 to 1\\r\\nmove 15 from 3 to 6\\r\\nmove 1 from 7 to 6\\r\\nmove 10 from 6 to 5\\r\\nmove 1 from 7 to 8\\r\\nmove 4 from 1 to 6\\r\\nmove 1 from 8 to 3\\r\\nmove 2 from 1 to 5\\r\\nmove 3 from 8 to 1\\r\\nmove 1 from 4 to 6\\r\\nmove 1 from 4 to 2\\r\\nmove 4 from 9 to 7\\r\\nmove 6 from 5 to 7\\r\\nmove 3 from 1 to 9\\r\\nmove 10 from 6 to 8\\r\\nmove 2 from 1 to 3\\r\\nmove 8 from 7 to 9\\r\\nmove 1 from 9 to 6\\r\\nmove 2 from 7 to 9\\r\\nmove 3 from 3 to 5\\r\\nmove 1 from 2 to 6\\r\\nmove 2 from 6 to 5\\r\\nmove 5 from 9 to 4\\r\\nmove 4 from 8 to 2\\r\\nmove 1 from 1 to 3\\r\\nmove 4 from 5 to 9\\r\\nmove 3 from 6 to 1\\r\\nmove 2 from 1 to 5\\r\\nmove 3 from 5 to 2\\r\\nmove 8 from 8 to 3\\r\\nmove 11 from 9 to 4\\r\\nmove 13 from 4 to 8\\r\\nmove 2 from 9 to 2\\r\\nmove 2 from 3 to 1\\r\\nmove 1 from 4 to 1\\r\\nmove 1 from 3 to 8\\r\\nmove 2 from 6 to 9\\r\\nmove 7 from 8 to 1\\r\\nmove 3 from 2 to 5\\r\\nmove 7 from 2 to 5\\r\\nmove 3 from 4 to 6\\r\\nmove 4 from 9 to 2\\r\\nmove 2 from 3 to 5\\r\\nmove 9 from 5 to 6\\r\\nmove 5 from 2 to 7\\r\\nmove 2 from 9 to 2\\r\\nmove 2 from 9 to 7\\r\\nmove 12 from 6 to 8\\r\\nmove 5 from 5 to 7\\r\\nmove 1 from 9 to 8\\r\\nmove 3 from 1 to 6\\r\\nmove 5 from 5 to 8\\r\\nmove 6 from 1 to 9\\r\\nmove 2 from 1 to 5\\r\\nmove 1 from 6 to 9\\r\\nmove 5 from 9 to 7\\r\\nmove 2 from 5 to 8\\r\\nmove 11 from 7 to 6\\r\\nmove 20 from 8 to 1\\r\\nmove 2 from 9 to 8\\r\\nmove 4 from 7 to 6\\r\\nmove 6 from 8 to 3\\r\\nmove 13 from 6 to 9\\r\\nmove 4 from 3 to 2\\r\\nmove 4 from 6 to 3\\r\\nmove 2 from 3 to 6\\r\\nmove 5 from 9 to 8\\r\\nmove 2 from 7 to 1\\r\\nmove 2 from 6 to 9\\r\\nmove 6 from 8 to 3\\r\\nmove 6 from 3 to 6\\r\\nmove 5 from 2 to 9\\r\\nmove 22 from 1 to 3\\r\\nmove 3 from 2 to 1\\r\\nmove 5 from 9 to 3\\r\\nmove 1 from 1 to 6\\r\\nmove 3 from 6 to 2\\r\\nmove 1 from 2 to 4\\r\\nmove 33 from 3 to 5\\r\\nmove 1 from 8 to 7'}"
            ]
          },
          "metadata": {},
          "execution_count": 29
        }
      ]
    },
    {
      "cell_type": "markdown",
      "source": [
        "## **Parte 1**"
      ],
      "metadata": {
        "id": "esUbcBVxcYQS"
      }
    },
    {
      "cell_type": "code",
      "source": [
        "# Guardamos los contenedores en un arreglo (se puede mejorar esta parte)\n",
        "# Guardamos las instrucciones en un arreglo para obtener la cantidad de contenedores\n",
        "# a mover, su destino y origen. Luego usamos esta información para realizar los\n",
        "# movimientos y finalmente obtener los contenedores en la cima de cada pila.\n",
        "\n",
        "containers = [\n",
        "    [''],\n",
        "    ['D', 'L', 'J', 'R', 'V', 'G', 'F'],\n",
        "    ['T', 'P', 'M', 'B', 'V', 'H', 'J', 'S'],\n",
        "    ['V', 'H', 'M', 'F', 'D', 'G', 'P', 'C'],\n",
        "    ['M', 'D', 'P', 'N', 'G', 'Q'],\n",
        "    ['J', 'L', 'H', 'N', 'F'],\n",
        "    ['N', 'F', 'V', 'Q', 'D', 'G', 'T', 'Z'],\n",
        "    ['F', 'D', 'B', 'L'],\n",
        "    ['M', 'J', 'B', 'S', 'V', 'D', 'N'],\n",
        "    ['G', 'L', 'D']\n",
        "]\n",
        "\n",
        "instructions = []\n",
        "top =''\n",
        "\n",
        "# Leer cada línea del archivo Data.txt\n",
        "with open(\"Data.txt\") as f:\n",
        "  lines = f.read().split(\"\\n\")\n",
        "\n",
        "  for line in lines:\n",
        "    if('move' in line):\n",
        "      instructions.append(line)\n",
        "\n",
        "  \n",
        "  for instruction in instructions:\n",
        "      quantity = instruction.split(' ')[1]\n",
        "      origin = instruction.split(' ')[3]\n",
        "      destiny = instruction.split(' ')[5]\n",
        "\n",
        "      for movement in range(int(quantity)):\n",
        "        containers[int(destiny)].append(containers[int(origin)][-1]) \n",
        "        del containers[int(origin)][-1]\n",
        "\n",
        "  for container in containers:\n",
        "    top += (container[-1])\n",
        "\n",
        "  print('Los contenedores en la punta de cada pila son: ' + top)"
      ],
      "metadata": {
        "colab": {
          "base_uri": "https://localhost:8080/"
        },
        "id": "Lkl556741rmG",
        "outputId": "7eec2088-1582-41f7-c53f-55ea00ed6d66"
      },
      "execution_count": 58,
      "outputs": [
        {
          "output_type": "stream",
          "name": "stdout",
          "text": [
            "Los contenedores en la punta de cada pila son: QMBMJDFTD\n"
          ]
        }
      ]
    },
    {
      "cell_type": "markdown",
      "source": [
        "## **Parte 2**"
      ],
      "metadata": {
        "id": "-x07xzHRcYrb"
      }
    },
    {
      "cell_type": "code",
      "source": [
        "# Usamos una lógica similar a la anterior, unicamente que movemos todos los \n",
        "# contenedores a la vez y los quitamos todos de su pila de origen a la vez.\n",
        "\n",
        "containers = [\n",
        "    [''],\n",
        "    ['D', 'L', 'J', 'R', 'V', 'G', 'F'],\n",
        "    ['T', 'P', 'M', 'B', 'V', 'H', 'J', 'S'],\n",
        "    ['V', 'H', 'M', 'F', 'D', 'G', 'P', 'C'],\n",
        "    ['M', 'D', 'P', 'N', 'G', 'Q'],\n",
        "    ['J', 'L', 'H', 'N', 'F'],\n",
        "    ['N', 'F', 'V', 'Q', 'D', 'G', 'T', 'Z'],\n",
        "    ['F', 'D', 'B', 'L'],\n",
        "    ['M', 'J', 'B', 'S', 'V', 'D', 'N'],\n",
        "    ['G', 'L', 'D']\n",
        "]\n",
        "\n",
        "instructions = []\n",
        "top =''\n",
        "\n",
        "# Leer cada línea del archivo Data.txt\n",
        "with open(\"Data.txt\") as f:\n",
        "  lines = f.read().split(\"\\n\")\n",
        "\n",
        "  for line in lines:\n",
        "    if('move' in line):\n",
        "      instructions.append(line)\n",
        "\n",
        "  \n",
        "  for instruction in instructions:\n",
        "      quantity = instruction.split(' ')[1]\n",
        "      origin = instruction.split(' ')[3]\n",
        "      destiny = instruction.split(' ')[5]\n",
        "\n",
        "      containers[int(destiny)] += (containers[int(origin)][-1*int(quantity):]) \n",
        "      del containers[int(origin)][-1*int(quantity):]\n",
        "\n",
        "  for container in containers:\n",
        "    top += (container[-1])\n",
        "\n",
        "  print('Los contenedores en la punta de cada pila son: ' + top)"
      ],
      "metadata": {
        "colab": {
          "base_uri": "https://localhost:8080/"
        },
        "id": "EbAVubcFcY50",
        "outputId": "413fb212-b97a-4059-ac55-999cd5401536"
      },
      "execution_count": 57,
      "outputs": [
        {
          "output_type": "stream",
          "name": "stdout",
          "text": [
            "Los contenedores en la punta de cada pila son: NBTVTJNFJ\n"
          ]
        }
      ]
    }
  ]
}