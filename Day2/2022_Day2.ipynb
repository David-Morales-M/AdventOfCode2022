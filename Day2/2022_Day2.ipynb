{
  "nbformat": 4,
  "nbformat_minor": 0,
  "metadata": {
    "colab": {
      "provenance": []
    },
    "kernelspec": {
      "name": "python3",
      "display_name": "Python 3"
    },
    "language_info": {
      "name": "python"
    }
  },
  "cells": [
    {
      "cell_type": "code",
      "execution_count": 1,
      "metadata": {
        "id": "YgMlXSFpBtXU"
      },
      "outputs": [],
      "source": [
        "# Importando Librerías\n",
        "from google.colab import files\n",
        "import numpy as np "
      ]
    },
    {
      "cell_type": "code",
      "source": [
        "# Subir Archivos\n",
        "files.upload() "
      ],
      "metadata": {
        "colab": {
          "base_uri": "https://localhost:8080/",
          "height": 1000
        },
        "id": "S52tWfbwB8Nt",
        "outputId": "7e0c635f-6a22-443c-a320-c59a9b5d67db"
      },
      "execution_count": 8,
      "outputs": [
        {
          "output_type": "display_data",
          "data": {
            "text/plain": [
              "<IPython.core.display.HTML object>"
            ],
            "text/html": [
              "\n",
              "     <input type=\"file\" id=\"files-fa38c492-8f63-42ae-862e-af3f099dc6c5\" name=\"files[]\" multiple disabled\n",
              "        style=\"border:none\" />\n",
              "     <output id=\"result-fa38c492-8f63-42ae-862e-af3f099dc6c5\">\n",
              "      Upload widget is only available when the cell has been executed in the\n",
              "      current browser session. Please rerun this cell to enable.\n",
              "      </output>\n",
              "      <script>// Copyright 2017 Google LLC\n",
              "//\n",
              "// Licensed under the Apache License, Version 2.0 (the \"License\");\n",
              "// you may not use this file except in compliance with the License.\n",
              "// You may obtain a copy of the License at\n",
              "//\n",
              "//      http://www.apache.org/licenses/LICENSE-2.0\n",
              "//\n",
              "// Unless required by applicable law or agreed to in writing, software\n",
              "// distributed under the License is distributed on an \"AS IS\" BASIS,\n",
              "// WITHOUT WARRANTIES OR CONDITIONS OF ANY KIND, either express or implied.\n",
              "// See the License for the specific language governing permissions and\n",
              "// limitations under the License.\n",
              "\n",
              "/**\n",
              " * @fileoverview Helpers for google.colab Python module.\n",
              " */\n",
              "(function(scope) {\n",
              "function span(text, styleAttributes = {}) {\n",
              "  const element = document.createElement('span');\n",
              "  element.textContent = text;\n",
              "  for (const key of Object.keys(styleAttributes)) {\n",
              "    element.style[key] = styleAttributes[key];\n",
              "  }\n",
              "  return element;\n",
              "}\n",
              "\n",
              "// Max number of bytes which will be uploaded at a time.\n",
              "const MAX_PAYLOAD_SIZE = 100 * 1024;\n",
              "\n",
              "function _uploadFiles(inputId, outputId) {\n",
              "  const steps = uploadFilesStep(inputId, outputId);\n",
              "  const outputElement = document.getElementById(outputId);\n",
              "  // Cache steps on the outputElement to make it available for the next call\n",
              "  // to uploadFilesContinue from Python.\n",
              "  outputElement.steps = steps;\n",
              "\n",
              "  return _uploadFilesContinue(outputId);\n",
              "}\n",
              "\n",
              "// This is roughly an async generator (not supported in the browser yet),\n",
              "// where there are multiple asynchronous steps and the Python side is going\n",
              "// to poll for completion of each step.\n",
              "// This uses a Promise to block the python side on completion of each step,\n",
              "// then passes the result of the previous step as the input to the next step.\n",
              "function _uploadFilesContinue(outputId) {\n",
              "  const outputElement = document.getElementById(outputId);\n",
              "  const steps = outputElement.steps;\n",
              "\n",
              "  const next = steps.next(outputElement.lastPromiseValue);\n",
              "  return Promise.resolve(next.value.promise).then((value) => {\n",
              "    // Cache the last promise value to make it available to the next\n",
              "    // step of the generator.\n",
              "    outputElement.lastPromiseValue = value;\n",
              "    return next.value.response;\n",
              "  });\n",
              "}\n",
              "\n",
              "/**\n",
              " * Generator function which is called between each async step of the upload\n",
              " * process.\n",
              " * @param {string} inputId Element ID of the input file picker element.\n",
              " * @param {string} outputId Element ID of the output display.\n",
              " * @return {!Iterable<!Object>} Iterable of next steps.\n",
              " */\n",
              "function* uploadFilesStep(inputId, outputId) {\n",
              "  const inputElement = document.getElementById(inputId);\n",
              "  inputElement.disabled = false;\n",
              "\n",
              "  const outputElement = document.getElementById(outputId);\n",
              "  outputElement.innerHTML = '';\n",
              "\n",
              "  const pickedPromise = new Promise((resolve) => {\n",
              "    inputElement.addEventListener('change', (e) => {\n",
              "      resolve(e.target.files);\n",
              "    });\n",
              "  });\n",
              "\n",
              "  const cancel = document.createElement('button');\n",
              "  inputElement.parentElement.appendChild(cancel);\n",
              "  cancel.textContent = 'Cancel upload';\n",
              "  const cancelPromise = new Promise((resolve) => {\n",
              "    cancel.onclick = () => {\n",
              "      resolve(null);\n",
              "    };\n",
              "  });\n",
              "\n",
              "  // Wait for the user to pick the files.\n",
              "  const files = yield {\n",
              "    promise: Promise.race([pickedPromise, cancelPromise]),\n",
              "    response: {\n",
              "      action: 'starting',\n",
              "    }\n",
              "  };\n",
              "\n",
              "  cancel.remove();\n",
              "\n",
              "  // Disable the input element since further picks are not allowed.\n",
              "  inputElement.disabled = true;\n",
              "\n",
              "  if (!files) {\n",
              "    return {\n",
              "      response: {\n",
              "        action: 'complete',\n",
              "      }\n",
              "    };\n",
              "  }\n",
              "\n",
              "  for (const file of files) {\n",
              "    const li = document.createElement('li');\n",
              "    li.append(span(file.name, {fontWeight: 'bold'}));\n",
              "    li.append(span(\n",
              "        `(${file.type || 'n/a'}) - ${file.size} bytes, ` +\n",
              "        `last modified: ${\n",
              "            file.lastModifiedDate ? file.lastModifiedDate.toLocaleDateString() :\n",
              "                                    'n/a'} - `));\n",
              "    const percent = span('0% done');\n",
              "    li.appendChild(percent);\n",
              "\n",
              "    outputElement.appendChild(li);\n",
              "\n",
              "    const fileDataPromise = new Promise((resolve) => {\n",
              "      const reader = new FileReader();\n",
              "      reader.onload = (e) => {\n",
              "        resolve(e.target.result);\n",
              "      };\n",
              "      reader.readAsArrayBuffer(file);\n",
              "    });\n",
              "    // Wait for the data to be ready.\n",
              "    let fileData = yield {\n",
              "      promise: fileDataPromise,\n",
              "      response: {\n",
              "        action: 'continue',\n",
              "      }\n",
              "    };\n",
              "\n",
              "    // Use a chunked sending to avoid message size limits. See b/62115660.\n",
              "    let position = 0;\n",
              "    do {\n",
              "      const length = Math.min(fileData.byteLength - position, MAX_PAYLOAD_SIZE);\n",
              "      const chunk = new Uint8Array(fileData, position, length);\n",
              "      position += length;\n",
              "\n",
              "      const base64 = btoa(String.fromCharCode.apply(null, chunk));\n",
              "      yield {\n",
              "        response: {\n",
              "          action: 'append',\n",
              "          file: file.name,\n",
              "          data: base64,\n",
              "        },\n",
              "      };\n",
              "\n",
              "      let percentDone = fileData.byteLength === 0 ?\n",
              "          100 :\n",
              "          Math.round((position / fileData.byteLength) * 100);\n",
              "      percent.textContent = `${percentDone}% done`;\n",
              "\n",
              "    } while (position < fileData.byteLength);\n",
              "  }\n",
              "\n",
              "  // All done.\n",
              "  yield {\n",
              "    response: {\n",
              "      action: 'complete',\n",
              "    }\n",
              "  };\n",
              "}\n",
              "\n",
              "scope.google = scope.google || {};\n",
              "scope.google.colab = scope.google.colab || {};\n",
              "scope.google.colab._files = {\n",
              "  _uploadFiles,\n",
              "  _uploadFilesContinue,\n",
              "};\n",
              "})(self);\n",
              "</script> "
            ]
          },
          "metadata": {}
        },
        {
          "output_type": "stream",
          "name": "stdout",
          "text": [
            "Saving Data.txt to Data.txt\n"
          ]
        },
        {
          "output_type": "execute_result",
          "data": {
            "text/plain": [
              "{'Data.txt': b'B X\\r\\nB Y\\r\\nA Y\\r\\nB Y\\r\\nB Y\\r\\nA Y\\r\\nA X\\r\\nA Y\\r\\nC X\\r\\nA Y\\r\\nA Y\\r\\nB Y\\r\\nB Z\\r\\nA Y\\r\\nB Z\\r\\nB Z\\r\\nB Z\\r\\nB Y\\r\\nA Z\\r\\nA Y\\r\\nB X\\r\\nA Z\\r\\nA Z\\r\\nA Z\\r\\nB Z\\r\\nA Y\\r\\nA Z\\r\\nC X\\r\\nB Z\\r\\nA Y\\r\\nB Z\\r\\nB Y\\r\\nA Y\\r\\nA Y\\r\\nA Y\\r\\nA Y\\r\\nA Z\\r\\nC X\\r\\nC Z\\r\\nA Y\\r\\nA Y\\r\\nA X\\r\\nC X\\r\\nB Z\\r\\nB Y\\r\\nB Y\\r\\nA Y\\r\\nC X\\r\\nA Y\\r\\nB Z\\r\\nB Z\\r\\nA Y\\r\\nB Y\\r\\nB Z\\r\\nA Y\\r\\nC X\\r\\nB Y\\r\\nA Y\\r\\nA Y\\r\\nA Y\\r\\nA Y\\r\\nB Z\\r\\nB X\\r\\nA Y\\r\\nB Y\\r\\nA Z\\r\\nB Y\\r\\nA Y\\r\\nC X\\r\\nA Z\\r\\nC Z\\r\\nB Z\\r\\nB Y\\r\\nA Y\\r\\nA Y\\r\\nB Z\\r\\nB Y\\r\\nB Y\\r\\nB Y\\r\\nB Z\\r\\nA X\\r\\nA Y\\r\\nA Y\\r\\nB Z\\r\\nC X\\r\\nA Y\\r\\nB Y\\r\\nC Z\\r\\nA Y\\r\\nC Y\\r\\nA Y\\r\\nA Y\\r\\nC X\\r\\nA X\\r\\nA Z\\r\\nA Y\\r\\nB Z\\r\\nA Z\\r\\nB Z\\r\\nA Y\\r\\nB Z\\r\\nA Y\\r\\nA Z\\r\\nC X\\r\\nC X\\r\\nB Y\\r\\nA Y\\r\\nA Y\\r\\nA Y\\r\\nA X\\r\\nB Y\\r\\nB Y\\r\\nA Y\\r\\nA Y\\r\\nA Z\\r\\nA Y\\r\\nA Z\\r\\nB Z\\r\\nA Y\\r\\nB Z\\r\\nA Z\\r\\nC Z\\r\\nB Y\\r\\nA Y\\r\\nB Z\\r\\nA Y\\r\\nB Z\\r\\nA Y\\r\\nA Y\\r\\nA X\\r\\nB Y\\r\\nA Z\\r\\nC Z\\r\\nA Y\\r\\nB Z\\r\\nA Y\\r\\nA Y\\r\\nA Y\\r\\nB Y\\r\\nB Z\\r\\nB X\\r\\nC X\\r\\nB Z\\r\\nB Y\\r\\nC X\\r\\nA X\\r\\nA Y\\r\\nB X\\r\\nC X\\r\\nB Y\\r\\nA Z\\r\\nA Z\\r\\nA Y\\r\\nB Z\\r\\nB Y\\r\\nC Z\\r\\nB Z\\r\\nA Y\\r\\nB Z\\r\\nC Y\\r\\nB Y\\r\\nA X\\r\\nA X\\r\\nC X\\r\\nB X\\r\\nA Y\\r\\nC X\\r\\nB Z\\r\\nA Y\\r\\nA Z\\r\\nB Y\\r\\nB Y\\r\\nB Y\\r\\nC X\\r\\nA Y\\r\\nA Y\\r\\nB X\\r\\nC Y\\r\\nA X\\r\\nB Y\\r\\nB Y\\r\\nA Y\\r\\nA Y\\r\\nB Z\\r\\nB X\\r\\nA X\\r\\nC X\\r\\nB Y\\r\\nB Y\\r\\nB Z\\r\\nB Y\\r\\nB X\\r\\nB Z\\r\\nA Y\\r\\nA Y\\r\\nA X\\r\\nB Y\\r\\nA Y\\r\\nA Y\\r\\nB Z\\r\\nA Y\\r\\nC X\\r\\nB Y\\r\\nB Z\\r\\nC Z\\r\\nB Y\\r\\nA Y\\r\\nA Z\\r\\nB Y\\r\\nA Y\\r\\nB Z\\r\\nC Y\\r\\nA Y\\r\\nA Y\\r\\nA Y\\r\\nB Y\\r\\nA Z\\r\\nB Z\\r\\nA Y\\r\\nC X\\r\\nB Y\\r\\nB Z\\r\\nA Y\\r\\nA Z\\r\\nA Y\\r\\nB Y\\r\\nB Z\\r\\nA X\\r\\nB Y\\r\\nA Y\\r\\nA Y\\r\\nB Y\\r\\nA Y\\r\\nA Y\\r\\nC Z\\r\\nB Z\\r\\nC X\\r\\nB Z\\r\\nA Y\\r\\nB Y\\r\\nB Y\\r\\nA X\\r\\nA Y\\r\\nC X\\r\\nB Z\\r\\nB Y\\r\\nA X\\r\\nB Z\\r\\nB Y\\r\\nB Z\\r\\nA Z\\r\\nA X\\r\\nA Y\\r\\nA Y\\r\\nB Y\\r\\nA X\\r\\nB Y\\r\\nB Y\\r\\nB Z\\r\\nB Y\\r\\nB Y\\r\\nB Y\\r\\nA Y\\r\\nA Z\\r\\nA X\\r\\nA X\\r\\nC Z\\r\\nB Y\\r\\nA Z\\r\\nA Y\\r\\nA Y\\r\\nA X\\r\\nB Y\\r\\nB Z\\r\\nC X\\r\\nA Y\\r\\nB Y\\r\\nC X\\r\\nB Z\\r\\nA Y\\r\\nB Z\\r\\nB Z\\r\\nB Y\\r\\nA Z\\r\\nC Z\\r\\nB Y\\r\\nA Y\\r\\nB Y\\r\\nA Y\\r\\nB X\\r\\nA X\\r\\nB X\\r\\nB Z\\r\\nA Y\\r\\nB Y\\r\\nB X\\r\\nB Y\\r\\nB Z\\r\\nA Z\\r\\nB Y\\r\\nC Z\\r\\nB Z\\r\\nA Y\\r\\nB Z\\r\\nC X\\r\\nB Y\\r\\nB Z\\r\\nB Z\\r\\nA Y\\r\\nA Z\\r\\nA Z\\r\\nB Y\\r\\nC Y\\r\\nA Y\\r\\nA Y\\r\\nA X\\r\\nA X\\r\\nA Y\\r\\nB Y\\r\\nB Y\\r\\nB Z\\r\\nA X\\r\\nB Z\\r\\nB Y\\r\\nB Z\\r\\nC Z\\r\\nA Y\\r\\nC X\\r\\nC X\\r\\nB Z\\r\\nB Z\\r\\nB Y\\r\\nA Y\\r\\nA Y\\r\\nA Y\\r\\nB Z\\r\\nB Y\\r\\nA X\\r\\nB Z\\r\\nB Y\\r\\nB X\\r\\nB Z\\r\\nB Z\\r\\nA Z\\r\\nB Y\\r\\nB Z\\r\\nA Y\\r\\nB X\\r\\nA Y\\r\\nA Y\\r\\nA Y\\r\\nB Y\\r\\nA Y\\r\\nA Z\\r\\nA Y\\r\\nA Y\\r\\nC X\\r\\nA Y\\r\\nB Y\\r\\nB Y\\r\\nA Y\\r\\nB Z\\r\\nB X\\r\\nA Y\\r\\nB Y\\r\\nA Y\\r\\nA X\\r\\nC X\\r\\nB Z\\r\\nA Y\\r\\nB Z\\r\\nC X\\r\\nB Z\\r\\nA X\\r\\nA Z\\r\\nA X\\r\\nB Z\\r\\nB Y\\r\\nA Y\\r\\nA Z\\r\\nC Z\\r\\nB Z\\r\\nA Y\\r\\nA Z\\r\\nA Y\\r\\nA Y\\r\\nB Z\\r\\nB Z\\r\\nA X\\r\\nA Y\\r\\nA X\\r\\nB Z\\r\\nA Y\\r\\nC X\\r\\nB Y\\r\\nA X\\r\\nB Y\\r\\nB Y\\r\\nB Y\\r\\nA Y\\r\\nA Z\\r\\nB Y\\r\\nA Y\\r\\nB Z\\r\\nB Z\\r\\nB Z\\r\\nB Z\\r\\nA X\\r\\nA X\\r\\nA X\\r\\nB X\\r\\nC Y\\r\\nC X\\r\\nA Z\\r\\nB X\\r\\nB Y\\r\\nA Z\\r\\nA X\\r\\nA Y\\r\\nA Y\\r\\nA Y\\r\\nB Y\\r\\nA Y\\r\\nB Z\\r\\nB Y\\r\\nA Y\\r\\nA Y\\r\\nA Y\\r\\nB Z\\r\\nB Y\\r\\nB Z\\r\\nC X\\r\\nB Z\\r\\nB Z\\r\\nA Z\\r\\nB Y\\r\\nA Y\\r\\nA Y\\r\\nB Z\\r\\nA Y\\r\\nB X\\r\\nA X\\r\\nA Y\\r\\nA Y\\r\\nA Y\\r\\nC X\\r\\nB Y\\r\\nB Y\\r\\nB Y\\r\\nC Y\\r\\nA Y\\r\\nA Y\\r\\nA Y\\r\\nB Z\\r\\nB Z\\r\\nA X\\r\\nB Y\\r\\nB Y\\r\\nB Y\\r\\nB Z\\r\\nA Z\\r\\nB X\\r\\nA Y\\r\\nA X\\r\\nB Z\\r\\nA Y\\r\\nB Z\\r\\nB Y\\r\\nA Z\\r\\nB Y\\r\\nC X\\r\\nA Y\\r\\nC X\\r\\nB Y\\r\\nC X\\r\\nC X\\r\\nB Y\\r\\nB Y\\r\\nB Z\\r\\nB Y\\r\\nA Y\\r\\nC Y\\r\\nA X\\r\\nB Y\\r\\nB Y\\r\\nB Z\\r\\nB Y\\r\\nB X\\r\\nB Z\\r\\nB Y\\r\\nB X\\r\\nB Y\\r\\nB Z\\r\\nA Y\\r\\nB X\\r\\nB Z\\r\\nB Z\\r\\nB X\\r\\nB Z\\r\\nA Y\\r\\nC X\\r\\nA Y\\r\\nC Y\\r\\nB Z\\r\\nA X\\r\\nA Y\\r\\nA X\\r\\nC X\\r\\nA Z\\r\\nA Y\\r\\nA Z\\r\\nA Y\\r\\nC Y\\r\\nB Z\\r\\nA Y\\r\\nB Y\\r\\nB Y\\r\\nB Y\\r\\nB Y\\r\\nA Y\\r\\nC Z\\r\\nB Y\\r\\nC Y\\r\\nB Y\\r\\nB X\\r\\nA Z\\r\\nA Y\\r\\nA Z\\r\\nA Y\\r\\nB Z\\r\\nB Y\\r\\nB Y\\r\\nA Z\\r\\nB Y\\r\\nA Y\\r\\nB Z\\r\\nC Z\\r\\nA Y\\r\\nA Y\\r\\nB Z\\r\\nB Y\\r\\nA X\\r\\nA Y\\r\\nB Z\\r\\nA Z\\r\\nB Y\\r\\nA Z\\r\\nA X\\r\\nB Z\\r\\nB Z\\r\\nA Y\\r\\nA X\\r\\nA Y\\r\\nB X\\r\\nB Y\\r\\nB Z\\r\\nB Y\\r\\nC Z\\r\\nB Y\\r\\nC X\\r\\nA Z\\r\\nC X\\r\\nB Y\\r\\nA Y\\r\\nB Y\\r\\nC Z\\r\\nA Y\\r\\nC X\\r\\nC X\\r\\nA Y\\r\\nA Z\\r\\nB Y\\r\\nA Y\\r\\nB Z\\r\\nB Z\\r\\nA Z\\r\\nB X\\r\\nB Y\\r\\nC X\\r\\nA Y\\r\\nB Y\\r\\nB Z\\r\\nA Z\\r\\nB Y\\r\\nA X\\r\\nB Z\\r\\nA X\\r\\nA X\\r\\nB X\\r\\nB Y\\r\\nB Y\\r\\nB Y\\r\\nC X\\r\\nC Z\\r\\nA Y\\r\\nB Y\\r\\nA Y\\r\\nA X\\r\\nB Z\\r\\nA X\\r\\nA Y\\r\\nB Y\\r\\nB Y\\r\\nC Y\\r\\nA Y\\r\\nB Z\\r\\nA Y\\r\\nB X\\r\\nB Z\\r\\nA Y\\r\\nA Y\\r\\nB Y\\r\\nA X\\r\\nB Y\\r\\nB Z\\r\\nA Y\\r\\nA X\\r\\nC Y\\r\\nB Z\\r\\nB Y\\r\\nB Z\\r\\nA Y\\r\\nB Y\\r\\nA X\\r\\nB Z\\r\\nA Z\\r\\nB Z\\r\\nB Y\\r\\nB Y\\r\\nC Y\\r\\nB Y\\r\\nB Y\\r\\nA Y\\r\\nB Z\\r\\nA Y\\r\\nA Y\\r\\nB Z\\r\\nA X\\r\\nA Z\\r\\nB Y\\r\\nA Y\\r\\nA Y\\r\\nA Y\\r\\nB Z\\r\\nB X\\r\\nC X\\r\\nA Y\\r\\nB Y\\r\\nC Z\\r\\nA Y\\r\\nB Y\\r\\nA X\\r\\nA Y\\r\\nA Y\\r\\nA Z\\r\\nB Y\\r\\nA Y\\r\\nA Y\\r\\nB Y\\r\\nB Z\\r\\nA Y\\r\\nA Z\\r\\nB Y\\r\\nA Z\\r\\nA Y\\r\\nA X\\r\\nB Y\\r\\nC X\\r\\nB Z\\r\\nA Y\\r\\nA Y\\r\\nB Y\\r\\nB X\\r\\nB Z\\r\\nA Y\\r\\nC X\\r\\nB Y\\r\\nA Y\\r\\nB Y\\r\\nB Z\\r\\nC X\\r\\nA X\\r\\nB Z\\r\\nA Y\\r\\nA Y\\r\\nA Y\\r\\nA Y\\r\\nB Z\\r\\nB Z\\r\\nB Y\\r\\nB Z\\r\\nA Y\\r\\nC X\\r\\nA Y\\r\\nB Y\\r\\nB Z\\r\\nC X\\r\\nC Z\\r\\nB Z\\r\\nB Z\\r\\nA X\\r\\nB Z\\r\\nB Z\\r\\nA Y\\r\\nA Y\\r\\nA Y\\r\\nB Y\\r\\nB Y\\r\\nC Y\\r\\nC Z\\r\\nA Y\\r\\nB Y\\r\\nB Z\\r\\nB Z\\r\\nC X\\r\\nC Z\\r\\nA Y\\r\\nA Y\\r\\nA Z\\r\\nA Y\\r\\nB Y\\r\\nA Y\\r\\nA Y\\r\\nB Z\\r\\nA Y\\r\\nB Z\\r\\nA X\\r\\nB Y\\r\\nB Z\\r\\nB Y\\r\\nB Y\\r\\nC X\\r\\nC X\\r\\nA Y\\r\\nB Z\\r\\nB Y\\r\\nB Y\\r\\nA Z\\r\\nB Z\\r\\nB Y\\r\\nA Y\\r\\nB Z\\r\\nA Y\\r\\nB X\\r\\nB Z\\r\\nA Y\\r\\nA Y\\r\\nB Z\\r\\nB Z\\r\\nC X\\r\\nA X\\r\\nB Y\\r\\nB Y\\r\\nA Y\\r\\nC X\\r\\nA Z\\r\\nB Z\\r\\nA Z\\r\\nA X\\r\\nA Y\\r\\nA X\\r\\nA Y\\r\\nA Y\\r\\nC X\\r\\nC X\\r\\nB Z\\r\\nB Y\\r\\nC Y\\r\\nA Y\\r\\nA Y\\r\\nC X\\r\\nA X\\r\\nC X\\r\\nA Y\\r\\nB Y\\r\\nB Y\\r\\nC X\\r\\nA X\\r\\nA Y\\r\\nB Z\\r\\nC X\\r\\nA Y\\r\\nB Y\\r\\nA Y\\r\\nA X\\r\\nB Y\\r\\nA X\\r\\nB Y\\r\\nB Z\\r\\nA Y\\r\\nB Z\\r\\nA Y\\r\\nA X\\r\\nB Z\\r\\nA Z\\r\\nA Y\\r\\nB Z\\r\\nB Y\\r\\nA X\\r\\nA Y\\r\\nA Y\\r\\nB Y\\r\\nC Z\\r\\nA Y\\r\\nA Y\\r\\nB Z\\r\\nB Y\\r\\nB Y\\r\\nB Y\\r\\nA Y\\r\\nC Z\\r\\nC Y\\r\\nA X\\r\\nB Y\\r\\nB Y\\r\\nB Z\\r\\nC Y\\r\\nB X\\r\\nB Z\\r\\nA Y\\r\\nA Y\\r\\nB Z\\r\\nB Z\\r\\nB Z\\r\\nB Y\\r\\nB Y\\r\\nB Z\\r\\nC Y\\r\\nB Z\\r\\nB Y\\r\\nB Z\\r\\nA X\\r\\nA Y\\r\\nC X\\r\\nB Y\\r\\nB Z\\r\\nB Z\\r\\nA Y\\r\\nA Y\\r\\nA Y\\r\\nB Y\\r\\nA Y\\r\\nA Y\\r\\nA Y\\r\\nB Z\\r\\nA Y\\r\\nB Z\\r\\nB Z\\r\\nB X\\r\\nB Y\\r\\nB Y\\r\\nA Y\\r\\nB Y\\r\\nB Y\\r\\nA Y\\r\\nA X\\r\\nB Z\\r\\nA Y\\r\\nB Z\\r\\nC X\\r\\nA Y\\r\\nA Y\\r\\nB Z\\r\\nB Z\\r\\nC X\\r\\nC Z\\r\\nA Y\\r\\nB Z\\r\\nC Z\\r\\nB Y\\r\\nB Y\\r\\nB Z\\r\\nA Z\\r\\nA Y\\r\\nA Y\\r\\nB Y\\r\\nC Y\\r\\nA Y\\r\\nA Y\\r\\nB Z\\r\\nB Z\\r\\nA X\\r\\nA Y\\r\\nB Y\\r\\nA Y\\r\\nA Y\\r\\nA X\\r\\nA X\\r\\nB Z\\r\\nC Y\\r\\nB Y\\r\\nA Y\\r\\nC X\\r\\nB Y\\r\\nB Y\\r\\nC Z\\r\\nB Y\\r\\nA Z\\r\\nA Y\\r\\nA X\\r\\nC X\\r\\nA Y\\r\\nA Y\\r\\nB Z\\r\\nA X\\r\\nB Z\\r\\nC X\\r\\nC X\\r\\nA Y\\r\\nB Z\\r\\nB Y\\r\\nA Y\\r\\nA X\\r\\nC X\\r\\nB Z\\r\\nB Z\\r\\nB Y\\r\\nA Y\\r\\nB Z\\r\\nC Y\\r\\nA Y\\r\\nB Y\\r\\nA Y\\r\\nC X\\r\\nB Z\\r\\nC X\\r\\nA Y\\r\\nB Y\\r\\nA Z\\r\\nA Y\\r\\nB X\\r\\nB Z\\r\\nC Z\\r\\nB Y\\r\\nB Y\\r\\nB Z\\r\\nC Z\\r\\nA X\\r\\nB Z\\r\\nA Y\\r\\nA Y\\r\\nB Z\\r\\nA Y\\r\\nB Z\\r\\nB Z\\r\\nB Y\\r\\nB Y\\r\\nB X\\r\\nA Y\\r\\nA X\\r\\nB Y\\r\\nB Y\\r\\nA Y\\r\\nA Y\\r\\nB Z\\r\\nA Y\\r\\nA X\\r\\nC X\\r\\nB Z\\r\\nB Y\\r\\nA Y\\r\\nB Z\\r\\nB Y\\r\\nB Z\\r\\nB Z\\r\\nB Y\\r\\nA Y\\r\\nC Y\\r\\nA X\\r\\nB Y\\r\\nA Y\\r\\nB Z\\r\\nB Y\\r\\nB Z\\r\\nA Y\\r\\nC Z\\r\\nB X\\r\\nC Z\\r\\nB X\\r\\nB Y\\r\\nA Y\\r\\nC X\\r\\nA Y\\r\\nA Y\\r\\nA X\\r\\nC X\\r\\nA Z\\r\\nB Y\\r\\nA X\\r\\nA Z\\r\\nB Y\\r\\nA X\\r\\nB Y\\r\\nA X\\r\\nA Y\\r\\nB Y\\r\\nA Y\\r\\nA Y\\r\\nC X\\r\\nC X\\r\\nC Y\\r\\nB Y\\r\\nC Z\\r\\nB Y\\r\\nB Z\\r\\nC Z\\r\\nB Y\\r\\nA Z\\r\\nA Y\\r\\nA X\\r\\nA X\\r\\nA Z\\r\\nA Y\\r\\nA Z\\r\\nB Z\\r\\nB X\\r\\nB Y\\r\\nB Y\\r\\nB Z\\r\\nA Y\\r\\nA Y\\r\\nB Y\\r\\nA X\\r\\nA Y\\r\\nA Y\\r\\nB Z\\r\\nC X\\r\\nC X\\r\\nB Y\\r\\nA Y\\r\\nC X\\r\\nC X\\r\\nA X\\r\\nC X\\r\\nA Y\\r\\nA Z\\r\\nA Z\\r\\nC X\\r\\nA Y\\r\\nB Z\\r\\nB Y\\r\\nB Z\\r\\nC X\\r\\nB Z\\r\\nA Y\\r\\nC Y\\r\\nC X\\r\\nB Y\\r\\nC Z\\r\\nA X\\r\\nC X\\r\\nC X\\r\\nA X\\r\\nB Y\\r\\nA X\\r\\nB Z\\r\\nB Y\\r\\nA Z\\r\\nB Y\\r\\nA X\\r\\nA Y\\r\\nB Z\\r\\nB Y\\r\\nC Z\\r\\nB Y\\r\\nB Y\\r\\nB Z\\r\\nA X\\r\\nA Z\\r\\nB Y\\r\\nB Y\\r\\nC Z\\r\\nA Y\\r\\nC X\\r\\nB Z\\r\\nC Y\\r\\nB Z\\r\\nA Y\\r\\nB Y\\r\\nB Z\\r\\nA Y\\r\\nA Y\\r\\nB Z\\r\\nA Z\\r\\nA Z\\r\\nC X\\r\\nB Y\\r\\nA Y\\r\\nA Y\\r\\nB Z\\r\\nB Y\\r\\nA X\\r\\nA Z\\r\\nB Z\\r\\nC Z\\r\\nA Y\\r\\nB Y\\r\\nB X\\r\\nC X\\r\\nA Y\\r\\nB Y\\r\\nC Z\\r\\nA Z\\r\\nC X\\r\\nC X\\r\\nA Y\\r\\nB Y\\r\\nB X\\r\\nB Y\\r\\nA X\\r\\nA X\\r\\nA X\\r\\nA Z\\r\\nA X\\r\\nB Z\\r\\nB Z\\r\\nA Z\\r\\nA Z\\r\\nA Y\\r\\nB Y\\r\\nB Z\\r\\nA Z\\r\\nB Z\\r\\nB Z\\r\\nA Y\\r\\nB Y\\r\\nA Y\\r\\nA Y\\r\\nA Y\\r\\nC X\\r\\nB Y\\r\\nC X\\r\\nC X\\r\\nB Z\\r\\nC Y\\r\\nA X\\r\\nB Y\\r\\nB X\\r\\nC X\\r\\nB X\\r\\nA Z\\r\\nC X\\r\\nC X\\r\\nB Y\\r\\nA Y\\r\\nB Y\\r\\nB Y\\r\\nB Y\\r\\nB X\\r\\nB Y\\r\\nB Y\\r\\nA Y\\r\\nB Y\\r\\nB X\\r\\nB Y\\r\\nB Z\\r\\nA Z\\r\\nA Y\\r\\nA Y\\r\\nB Z\\r\\nA Y\\r\\nB Z\\r\\nA Y\\r\\nA Y\\r\\nA Y\\r\\nA Z\\r\\nB Y\\r\\nA X\\r\\nB Z\\r\\nA Y\\r\\nB Y\\r\\nA X\\r\\nB Z\\r\\nB Z\\r\\nA Y\\r\\nB Y\\r\\nB Y\\r\\nB Z\\r\\nA Y\\r\\nB Y\\r\\nB Y\\r\\nA Y\\r\\nA Y\\r\\nA Z\\r\\nC Y\\r\\nB Z\\r\\nB Y\\r\\nA X\\r\\nA Y\\r\\nB Z\\r\\nC X\\r\\nB Z\\r\\nC X\\r\\nC X\\r\\nB Z\\r\\nB Y\\r\\nC X\\r\\nA Z\\r\\nA Z\\r\\nC Y\\r\\nA Y\\r\\nB Y\\r\\nA Z\\r\\nA Y\\r\\nB Y\\r\\nA Y\\r\\nA Z\\r\\nA Y\\r\\nA Y\\r\\nC X\\r\\nB Y\\r\\nB Y\\r\\nB Y\\r\\nA X\\r\\nC Z\\r\\nB Z\\r\\nA X\\r\\nA Y\\r\\nA Z\\r\\nA Y\\r\\nB Y\\r\\nA Y\\r\\nB Z\\r\\nB Y\\r\\nB Z\\r\\nC X\\r\\nB Y\\r\\nB Z\\r\\nA Z\\r\\nB Y\\r\\nB Y\\r\\nB Z\\r\\nC X\\r\\nA Y\\r\\nB Y\\r\\nA Z\\r\\nB Y\\r\\nB Z\\r\\nB Z\\r\\nB Y\\r\\nA X\\r\\nA Y\\r\\nA Y\\r\\nB Y\\r\\nB Z\\r\\nB Y\\r\\nB Z\\r\\nA Y\\r\\nC Y\\r\\nA Y\\r\\nB Z\\r\\nA Y\\r\\nB Z\\r\\nA X\\r\\nA Y\\r\\nA Y\\r\\nC Y\\r\\nC X\\r\\nB Y\\r\\nA Z\\r\\nB Z\\r\\nB Z\\r\\nB Y\\r\\nB Z\\r\\nC Z\\r\\nC X\\r\\nA Y\\r\\nB Y\\r\\nB Y\\r\\nB Y\\r\\nB Y\\r\\nB Z\\r\\nB Z\\r\\nB Y\\r\\nA X\\r\\nA Y\\r\\nB Y\\r\\nA Y\\r\\nA X\\r\\nA Y\\r\\nB Z\\r\\nC Z\\r\\nB Y\\r\\nA Y\\r\\nA Y\\r\\nA Y\\r\\nC X\\r\\nA Y\\r\\nB Z\\r\\nC Z\\r\\nB Y\\r\\nB Z\\r\\nA Z\\r\\nA X\\r\\nA Y\\r\\nA Y\\r\\nA Y\\r\\nA Y\\r\\nB Z\\r\\nB Z\\r\\nB Z\\r\\nB Z\\r\\nA X\\r\\nB Y\\r\\nB Y\\r\\nB Y\\r\\nB Y\\r\\nB Y\\r\\nB Z\\r\\nA X\\r\\nB Y\\r\\nB Y\\r\\nB Y\\r\\nC Y\\r\\nA Y\\r\\nA Y\\r\\nB Z\\r\\nA X\\r\\nC Y\\r\\nA Y\\r\\nA Y\\r\\nA Y\\r\\nB Y\\r\\nB Z\\r\\nA Y\\r\\nB Y\\r\\nB Y\\r\\nA Y\\r\\nB Y\\r\\nA Y\\r\\nA X\\r\\nA Y\\r\\nC Z\\r\\nB Z\\r\\nB Y\\r\\nA Y\\r\\nB Y\\r\\nB Y\\r\\nA Z\\r\\nC X\\r\\nB Y\\r\\nB Z\\r\\nC Y\\r\\nA Y\\r\\nA Y\\r\\nB X\\r\\nB Y\\r\\nA Y\\r\\nC Z\\r\\nB Y\\r\\nB Y\\r\\nA X\\r\\nA Y\\r\\nA Z\\r\\nA Y\\r\\nC Y\\r\\nA Y\\r\\nB X\\r\\nA Y\\r\\nB Z\\r\\nB Y\\r\\nB Z\\r\\nA Y\\r\\nA Y\\r\\nB Y\\r\\nB X\\r\\nB Y\\r\\nB Z\\r\\nB Y\\r\\nB X\\r\\nA Y\\r\\nC Z\\r\\nC X\\r\\nA Y\\r\\nB Z\\r\\nA X\\r\\nC Z\\r\\nB Y\\r\\nB Y\\r\\nA Y\\r\\nA Y\\r\\nB Z\\r\\nB Z\\r\\nA X\\r\\nA X\\r\\nC X\\r\\nA X\\r\\nC X\\r\\nB Y\\r\\nB Y\\r\\nB Y\\r\\nA Y\\r\\nB Y\\r\\nB X\\r\\nB Z\\r\\nA Y\\r\\nA X\\r\\nA Y\\r\\nB Z\\r\\nA X\\r\\nA Z\\r\\nB Y\\r\\nA Y\\r\\nA Y\\r\\nB Z\\r\\nB X\\r\\nB Z\\r\\nC Z\\r\\nB Z\\r\\nA Y\\r\\nB Z\\r\\nA X\\r\\nA Y\\r\\nA Y\\r\\nB Y\\r\\nB Z\\r\\nB Y\\r\\nB X\\r\\nB Y\\r\\nA Y\\r\\nA X\\r\\nB Y\\r\\nA X\\r\\nC X\\r\\nC X\\r\\nA X\\r\\nA Y\\r\\nA Y\\r\\nA X\\r\\nB Y\\r\\nA X\\r\\nB Y\\r\\nA X\\r\\nB Z\\r\\nA Y\\r\\nC X\\r\\nB Y\\r\\nA Y\\r\\nB Z\\r\\nA Y\\r\\nB Y\\r\\nA X\\r\\nA X\\r\\nA Y\\r\\nB Z\\r\\nB X\\r\\nC Y\\r\\nB Z\\r\\nC Y\\r\\nA Y\\r\\nA Y\\r\\nB Z\\r\\nC X\\r\\nB Y\\r\\nB Z\\r\\nB Z\\r\\nC Z\\r\\nB Z\\r\\nC Y\\r\\nA Z\\r\\nC X\\r\\nA Y\\r\\nB Z\\r\\nA X\\r\\nB Z\\r\\nA Y\\r\\nA Y\\r\\nB Z\\r\\nA Z\\r\\nA Y\\r\\nB Z\\r\\nB Z\\r\\nB Z\\r\\nB X\\r\\nA Z\\r\\nB Y\\r\\nB Z\\r\\nB Z\\r\\nA Y\\r\\nB Y\\r\\nA Z\\r\\nB Z\\r\\nB Y\\r\\nB Z\\r\\nB Y\\r\\nB Y\\r\\nB Z\\r\\nA Y\\r\\nB Y\\r\\nB X\\r\\nA Y\\r\\nB Y\\r\\nB Y\\r\\nB Z\\r\\nB X\\r\\nA Z\\r\\nB Z\\r\\nA Y\\r\\nB Y\\r\\nC X\\r\\nA Y\\r\\nB Z\\r\\nB Y\\r\\nA Y\\r\\nC X\\r\\nB Z\\r\\nA Y\\r\\nC X\\r\\nA X\\r\\nA Y\\r\\nB Z\\r\\nA Z\\r\\nA Y\\r\\nB X\\r\\nA Y\\r\\nC X\\r\\nA Y\\r\\nB Y\\r\\nB Y\\r\\nB Z\\r\\nB X\\r\\nA Z\\r\\nB Y\\r\\nA Y\\r\\nB Z\\r\\nA Y\\r\\nC Y\\r\\nA Z\\r\\nA Y\\r\\nA Y\\r\\nB Y\\r\\nB Z\\r\\nA Y\\r\\nB Y\\r\\nA Y\\r\\nA Y\\r\\nB Z\\r\\nB Y\\r\\nC Z\\r\\nA Y\\r\\nB Y\\r\\nA Z\\r\\nA X\\r\\nC X\\r\\nA Y\\r\\nB Z\\r\\nB Z\\r\\nC X\\r\\nA Y\\r\\nB Y\\r\\nA Y\\r\\nA X\\r\\nA Y\\r\\nA X\\r\\nA X\\r\\nC X\\r\\nB Y\\r\\nA Y\\r\\nA Y\\r\\nB Y\\r\\nA Z\\r\\nC Y\\r\\nA Y\\r\\nA X\\r\\nB Z\\r\\nA Y\\r\\nA Y\\r\\nA Y\\r\\nB Y\\r\\nC X\\r\\nA Y\\r\\nC Z\\r\\nA Y\\r\\nC Y\\r\\nC X\\r\\nB Y\\r\\nB Y\\r\\nC X\\r\\nC Z\\r\\nB Z\\r\\nA Y\\r\\nA Y\\r\\nB Y\\r\\nB Y\\r\\nA Y\\r\\nC X\\r\\nA X\\r\\nB X\\r\\nB Y\\r\\nC X\\r\\nB Y\\r\\nC Z\\r\\nB Z\\r\\nA Y\\r\\nB Y\\r\\nB Z\\r\\nB X\\r\\nA Y\\r\\nA Y\\r\\nB Y\\r\\nA Y\\r\\nB Z\\r\\nB Z\\r\\nB Z\\r\\nA Y\\r\\nB Y\\r\\nB X\\r\\nB Z\\r\\nA Z\\r\\nB Z\\r\\nA X\\r\\nC Y\\r\\nB Z\\r\\nB Y\\r\\nC X\\r\\nB Y\\r\\nA Z\\r\\nA Y\\r\\nB Z\\r\\nA Y\\r\\nA Z\\r\\nA Y\\r\\nA Y\\r\\nB X\\r\\nC X\\r\\nB Y\\r\\nB X\\r\\nB X\\r\\nC X\\r\\nA Y\\r\\nB Y\\r\\nB Y\\r\\nA Z\\r\\nB Z\\r\\nC X\\r\\nB Y\\r\\nB Y\\r\\nA Y\\r\\nA Y\\r\\nB Z\\r\\nA Y\\r\\nA X\\r\\nA X\\r\\nA Z\\r\\nB Y\\r\\nA X\\r\\nA Y\\r\\nC Z\\r\\nA Y\\r\\nA X\\r\\nB X\\r\\nA Y\\r\\nB Y\\r\\nA Y\\r\\nB X\\r\\nA Y\\r\\nA Y\\r\\nA Y\\r\\nB Y\\r\\nC X\\r\\nA Y\\r\\nA Y\\r\\nB Z\\r\\nC X\\r\\nA X\\r\\nA Y\\r\\nA Y\\r\\nA Y\\r\\nA Y\\r\\nC X\\r\\nA Z\\r\\nC X\\r\\nB Y\\r\\nB Y\\r\\nA X\\r\\nC X\\r\\nB Z\\r\\nB Y\\r\\nB Z\\r\\nA Y\\r\\nB Y\\r\\nA Y\\r\\nB Y\\r\\nA Y\\r\\nB Z\\r\\nC Z\\r\\nB Z\\r\\nA Z\\r\\nA X\\r\\nA Z\\r\\nA Y\\r\\nB Y\\r\\nB Z\\r\\nA Y\\r\\nB Z\\r\\nA Z\\r\\nA Y\\r\\nB Y\\r\\nB Y\\r\\nB Z\\r\\nA Y\\r\\nA Y\\r\\nC X\\r\\nC X\\r\\nC Z\\r\\nA Y\\r\\nB Z\\r\\nA Y\\r\\nA X\\r\\nB Y\\r\\nA X\\r\\nB Z\\r\\nA Y\\r\\nB Z\\r\\nB Y\\r\\nB Y\\r\\nB Z\\r\\nA Y\\r\\nB Y\\r\\nA Y\\r\\nB Z\\r\\nA Y\\r\\nC X\\r\\nA X\\r\\nA Y\\r\\nB Y\\r\\nC X\\r\\nA Y\\r\\nC Y\\r\\nB Z\\r\\nA Y\\r\\nB Y\\r\\nA Y\\r\\nA Y\\r\\nA Y\\r\\nA Y\\r\\nB Z\\r\\nB Z\\r\\nA Z\\r\\nB Z\\r\\nA X\\r\\nA X\\r\\nC X\\r\\nB X\\r\\nA Y\\r\\nA Y\\r\\nA X\\r\\nC Z\\r\\nB Z\\r\\nA Z\\r\\nB Y\\r\\nB Y\\r\\nA Y\\r\\nA X\\r\\nB Z\\r\\nA Y\\r\\nA Y\\r\\nB Y\\r\\nB Y\\r\\nB Y\\r\\nA X\\r\\nA X\\r\\nA X\\r\\nA X\\r\\nA X\\r\\nA X\\r\\nB Y\\r\\nC X\\r\\nA Y\\r\\nC X\\r\\nA X\\r\\nB Z\\r\\nC X\\r\\nB Y\\r\\nA X\\r\\nB Z\\r\\nA Y\\r\\nB Y\\r\\nB Y\\r\\nB Z\\r\\nB Y\\r\\nB X\\r\\nB Z\\r\\nC X\\r\\nC X\\r\\nA Y\\r\\nA X\\r\\nB Z\\r\\nB Y\\r\\nB Z\\r\\nC X\\r\\nA Y\\r\\nC Z\\r\\nC X\\r\\nC Z\\r\\nB Y\\r\\nB Z\\r\\nB Z\\r\\nB Y\\r\\nA Y\\r\\nB X\\r\\nA Y\\r\\nB Y\\r\\nB Z\\r\\nB Y\\r\\nA Y\\r\\nB Z\\r\\nA X\\r\\nB Y\\r\\nC X\\r\\nB Y\\r\\nB Y\\r\\nB Y\\r\\nA X\\r\\nC X\\r\\nC X\\r\\nC Z\\r\\nA Y\\r\\nA Y\\r\\nB X\\r\\nB Z\\r\\nA X\\r\\nB Z\\r\\nA X\\r\\nB Z\\r\\nB Z\\r\\nB Z\\r\\nB Y\\r\\nB Y\\r\\nA Z\\r\\nC Z\\r\\nB Z\\r\\nB Y\\r\\nB Z\\r\\nB Z\\r\\nC X\\r\\nB Y\\r\\nC Y\\r\\nA Y\\r\\nC X\\r\\nA Z\\r\\nB Z\\r\\nB Z\\r\\nA X\\r\\nB Y\\r\\nA Z\\r\\nB Y\\r\\nB Z\\r\\nA X\\r\\nC Y\\r\\nA Y\\r\\nA Y\\r\\nB Y\\r\\nA Y\\r\\nA X\\r\\nA Z\\r\\nB Z\\r\\nC Z\\r\\nA Y\\r\\nB Y\\r\\nB Z\\r\\nB Y\\r\\nB Y\\r\\nB Z\\r\\nB X\\r\\nA X\\r\\nC X\\r\\nC X\\r\\nA Y\\r\\nA X\\r\\nA Y\\r\\nA Y\\r\\nA Y\\r\\nA X\\r\\nB X\\r\\nC X\\r\\nB Y\\r\\nB Z\\r\\nA X\\r\\nA Y\\r\\nB Y\\r\\nA X\\r\\nA Y\\r\\nA Y\\r\\nA Y\\r\\nB Y\\r\\nA Y\\r\\nB Z\\r\\nB Y\\r\\nC Z\\r\\nA Y\\r\\nA Z\\r\\nC X\\r\\nB Z\\r\\nB X\\r\\nC Z\\r\\nA Y\\r\\nA Z\\r\\nA Y\\r\\nB Z\\r\\nB Z\\r\\nC X\\r\\nB Z\\r\\nC X\\r\\nB Y\\r\\nC X\\r\\nB Y\\r\\nA Z\\r\\nB Y\\r\\nA Y\\r\\nC Z\\r\\nB Y\\r\\nB Y\\r\\nB X\\r\\nB X\\r\\nA X\\r\\nB Y\\r\\nB Y\\r\\nB Z\\r\\nA X\\r\\nB Y\\r\\nB Z\\r\\nB Y\\r\\nB Z\\r\\nA Y\\r\\nB Y\\r\\nB Z\\r\\nB Y\\r\\nC Z\\r\\nA Y\\r\\nC Y\\r\\nC Z\\r\\nA Y\\r\\nB X\\r\\nC X\\r\\nC X\\r\\nB Z\\r\\nC X\\r\\nA Z\\r\\nC Y\\r\\nB Z\\r\\nB Z\\r\\nC X\\r\\nC Z\\r\\nA Y\\r\\nB X\\r\\nA Z\\r\\nC Y\\r\\nA Y\\r\\nB Y\\r\\nB Y\\r\\nA Y\\r\\nA Z\\r\\nB Z\\r\\nB X\\r\\nA Y\\r\\nB X\\r\\nA Z\\r\\nB Z\\r\\nB X\\r\\nA X\\r\\nA Y\\r\\nB Y\\r\\nB Y\\r\\nB Z\\r\\nC X\\r\\nB Z\\r\\nB Z\\r\\nA Y\\r\\nC Z\\r\\nB Y\\r\\nA Y\\r\\nC Y\\r\\nB Z\\r\\nB Z\\r\\nB Y\\r\\nA Y\\r\\nC Z\\r\\nB Y\\r\\nB Y\\r\\nA Y\\r\\nA Z\\r\\nB Z\\r\\nA Y\\r\\nC Y\\r\\nA Y\\r\\nA Y\\r\\nA Y\\r\\nA Y\\r\\nC Y\\r\\nB Y\\r\\nB Z\\r\\nA Y\\r\\nB Y\\r\\nA X\\r\\nB Y\\r\\nB Z\\r\\nA Y\\r\\nB Y\\r\\nB Y\\r\\nA Z\\r\\nB Y\\r\\nC X\\r\\nB X\\r\\nC X\\r\\nB Y\\r\\nA X\\r\\nA Z\\r\\nB Z\\r\\nB Z\\r\\nA Z\\r\\nA Z\\r\\nB X\\r\\nA Z\\r\\nA X\\r\\nB Z\\r\\nB Y\\r\\nB Y\\r\\nB Z\\r\\nB Y\\r\\nB Y\\r\\nB Z\\r\\nB Y\\r\\nB Y\\r\\nA Y\\r\\nB Z\\r\\nB Y\\r\\nA Y\\r\\nA Y\\r\\nB Y\\r\\nA Y\\r\\nA Y\\r\\nA Y\\r\\nC Y\\r\\nB Y\\r\\nA X\\r\\nA Y\\r\\nB Z\\r\\nB Y\\r\\nB Y\\r\\nC Z\\r\\nA Y\\r\\nC X\\r\\nC X\\r\\nA Z\\r\\nB Z\\r\\nB Y\\r\\nB Z\\r\\nA X\\r\\nB Y\\r\\nA Y\\r\\nA X\\r\\nB Y\\r\\nB Z\\r\\nB Z\\r\\nA X\\r\\nA X\\r\\nA Y\\r\\nB Z\\r\\nA Y\\r\\nC X\\r\\nA Y\\r\\nC X\\r\\nA Y\\r\\nC X\\r\\nB Y\\r\\nB Z\\r\\nA Z\\r\\nC Z\\r\\nB Y\\r\\nB Y\\r\\nB Z\\r\\nA Y\\r\\nA Y\\r\\nC X\\r\\nB Z\\r\\nB Z\\r\\nB Z\\r\\nA X\\r\\nA X\\r\\nB Z\\r\\nB Y\\r\\nC Z\\r\\nA Y\\r\\nB Y\\r\\nA X\\r\\nC Y\\r\\nB Y\\r\\nB Y\\r\\nB Y\\r\\nB Y\\r\\nB Z\\r\\nB Z\\r\\nA Y\\r\\nA Y\\r\\nA Y\\r\\nB Z\\r\\nB Z\\r\\nA X\\r\\nA Y\\r\\nC Z\\r\\nB Z\\r\\nC Z\\r\\nA X\\r\\nC Z\\r\\nB Z\\r\\nB Z\\r\\nA Z\\r\\nA Z\\r\\nA Y\\r\\nA Y\\r\\nA Y\\r\\nA X\\r\\nC X\\r\\nB Z\\r\\nA Y\\r\\nB Y\\r\\nA X\\r\\nB Z\\r\\nB Z\\r\\nB Y\\r\\nB Y\\r\\nB Y\\r\\nA Y\\r\\nB Y\\r\\nC X\\r\\nA Y\\r\\nA Y\\r\\nB Z\\r\\nB Z\\r\\nA Z\\r\\nA Z\\r\\nA X\\r\\nB Z\\r\\nB Z\\r\\nB Y\\r\\nC X\\r\\nC X\\r\\nA Y\\r\\nB Y\\r\\nA X\\r\\nB Y\\r\\nB Y\\r\\nB X\\r\\nB Y\\r\\nB Y\\r\\nB Z\\r\\nB Y\\r\\nB Z\\r\\nB X\\r\\nA Y\\r\\nA X\\r\\nB Y\\r\\nB Z\\r\\nA X\\r\\nA Y\\r\\nB Z\\r\\nB Z\\r\\nB Z\\r\\nA Y\\r\\nA Y\\r\\nB Z\\r\\nA Y\\r\\nB Y\\r\\nB Z\\r\\nA Y\\r\\nB Z\\r\\nA Y\\r\\nC X\\r\\nB Y\\r\\nA X\\r\\nA Y\\r\\nB Y\\r\\nB Y\\r\\nB Y\\r\\nB Z\\r\\nA Y\\r\\nB Z\\r\\nA Z\\r\\nB Z\\r\\nA Y\\r\\nB Z\\r\\nB Z\\r\\nA Y\\r\\nB Y\\r\\nA Z\\r\\nC X\\r\\nA Y\\r\\nA Y\\r\\nB Z\\r\\nC Z\\r\\nB X\\r\\nB Z\\r\\nA Y\\r\\nC Y\\r\\nB Z\\r\\nB Y\\r\\nB Y\\r\\nA X\\r\\nB Y\\r\\nA X\\r\\nA Y\\r\\nB Y\\r\\nA Y\\r\\nB Z\\r\\nA Y\\r\\nA X\\r\\nC X\\r\\nA Y\\r\\nB Z\\r\\nC Z\\r\\nA Y\\r\\nB Y\\r\\nB Y\\r\\nB Y\\r\\nB Y\\r\\nC X\\r\\nA Z\\r\\nB Y\\r\\nB Z\\r\\nB X\\r\\nA Y\\r\\nB X\\r\\nA Y\\r\\nA Y\\r\\nB Y\\r\\nA Z\\r\\nB Y\\r\\nB Y\\r\\nC X\\r\\nC X\\r\\nB Y\\r\\nC X\\r\\nB Y\\r\\nC Z\\r\\nC Y\\r\\nB Y\\r\\nA X\\r\\nA Y\\r\\nC X\\r\\nB Y\\r\\nB Z\\r\\nC X\\r\\nB Y\\r\\nA Y\\r\\nB Y\\r\\nB Z\\r\\nA Y\\r\\nB Z\\r\\nC X\\r\\nA Y\\r\\nB Y\\r\\nB Z\\r\\nA Z\\r\\nB X\\r\\nB Y\\r\\nB Z\\r\\nB Y\\r\\nA Y\\r\\nA Y\\r\\nB X\\r\\nB Y\\r\\nB X\\r\\nB Y\\r\\nC X\\r\\nA Y\\r\\nA X\\r\\nA Z\\r\\nA Y\\r\\nB Z\\r\\nC Y\\r\\nC X\\r\\nB Y\\r\\nB Z\\r\\nA Y\\r\\nB Y\\r\\nB Z\\r\\nA Y\\r\\nA Y\\r\\nB Y\\r\\nB Z\\r\\nB Y\\r\\nA Y\\r\\nB X\\r\\nA X\\r\\nA Y\\r\\nB Y\\r\\nA Y\\r\\nA Y\\r\\nA Y\\r\\nB Y\\r\\nA Y\\r\\nB Y\\r\\nA X\\r\\nC X\\r\\nA Y\\r\\nA Y\\r\\nB Y\\r\\nB Y\\r\\nB Y\\r\\nC Y\\r\\nC X\\r\\nB Z\\r\\nB X\\r\\nA Z\\r\\nB Y\\r\\nA X\\r\\nB Y\\r\\nB Z\\r\\nB Z\\r\\nA Y\\r\\nB Y\\r\\nA X\\r\\nB Y\\r\\nC X\\r\\nB Z\\r\\nA X\\r\\nA Y\\r\\nB Y\\r\\nB Z\\r\\nA Y\\r\\nB X\\r\\nA Y\\r\\nA Y\\r\\nC Z\\r\\nC Z\\r\\nC Y\\r\\nA Y\\r\\nB Z\\r\\nA Y\\r\\nA X\\r\\nA Y\\r\\nA Y\\r\\nC X\\r\\nB X\\r\\nA X\\r\\nA Y\\r\\nB Z\\r\\nB Y\\r\\nB Z\\r\\nB Y\\r\\nC Y\\r\\nB Z\\r\\nB Y\\r\\nB Y\\r\\nA Y\\r\\nB Z\\r\\nB Z\\r\\nB Y\\r\\nB Z\\r\\nB Z\\r\\nB X\\r\\nC X\\r\\nA Y\\r\\nA Y\\r\\nB X\\r\\nC X\\r\\nB Z\\r\\nB Y\\r\\nA Y\\r\\nB Y\\r\\nB Z\\r\\nA Y\\r\\nB Y\\r\\nB Y\\r\\nB Z\\r\\nA X\\r\\nB Y\\r\\nB Z\\r\\nB Z\\r\\nA Y\\r\\nB Z\\r\\nB Z\\r\\nB Z\\r\\nC X\\r\\nC X\\r\\nB Z\\r\\nB Y\\r\\nB Y\\r\\nB Z\\r\\nB X\\r\\nB Y\\r\\nC Y\\r\\nA Y\\r\\nA X\\r\\nA Y\\r\\nA Z\\r\\nC X\\r\\nA Z\\r\\nB Z\\r\\nA Y\\r\\nB Y\\r\\nA Y\\r\\nB Y\\r\\nA X\\r\\nB Y\\r\\nB X\\r\\nA X\\r\\nC Z\\r\\nA X\\r\\nA Y\\r\\nA Y\\r\\nC Y\\r\\nB Y\\r\\nA X\\r\\nA X\\r\\nB Y\\r\\nC Y\\r\\nB Z\\r\\nB Z\\r\\nB Y\\r\\nA Y\\r\\nA X\\r\\nA Y\\r\\nA Y\\r\\nA Z\\r\\nA X\\r\\nA Y\\r\\nA Y\\r\\nA Y\\r\\nB Z\\r\\nC X\\r\\nA X\\r\\nC X\\r\\nA Y\\r\\nA Y\\r\\nB Y\\r\\nB Y\\r\\nA X\\r\\nB Y\\r\\nC Y\\r\\nB Y\\r\\nA Z\\r\\nB Y\\r\\nB Z\\r\\nC X\\r\\nA X\\r\\nB Y\\r\\nA Z\\r\\nB Z\\r\\nB Y\\r\\nB Y\\r\\nB Y\\r\\nB Z\\r\\nB Y\\r\\nB Y\\r\\nB Y\\r\\nA X\\r\\nA Y\\r\\nB Z\\r\\nC X\\r\\nA Y\\r\\nA Y\\r\\nB Y\\r\\nB Z\\r\\nC X\\r\\nA X\\r\\nA Y\\r\\nB X\\r\\nB Y\\r\\nA Y\\r\\nA Z\\r\\nA X\\r\\nA Z\\r\\nA Y\\r\\nC Z\\r\\nA Y\\r\\nB Y\\r\\nB Y\\r\\nB Z\\r\\nC X\\r\\nB Z\\r\\nA Z\\r\\nB Y\\r\\nB Z\\r\\nB Y\\r\\nA Y\\r\\nA Y\\r\\nC Z\\r\\nA Y\\r\\nB Z\\r\\nB Y\\r\\nB Y\\r\\nA X\\r\\nB Y\\r\\nA Y\\r\\nB Y\\r\\nA Y\\r\\nA Y\\r\\nC X\\r\\nA Y\\r\\nB Y\\r\\nA Y\\r\\nC X\\r\\nB X\\r\\nA Y\\r\\nB Z\\r\\nA Y\\r\\nA Y\\r\\nC Z'}"
            ]
          },
          "metadata": {},
          "execution_count": 8
        }
      ]
    },
    {
      "cell_type": "markdown",
      "source": [
        "## **Parte 1**"
      ],
      "metadata": {
        "id": "wEsJHdqNB8fK"
      }
    },
    {
      "cell_type": "code",
      "source": [
        "# Defino una variable total y sumo los valores según las condiciones\n",
        "# Se puede optimizar el código usando una matriz y consultar los valores ahí\n",
        "\n",
        "total = 0\n",
        "\n",
        "# Leer cada línea del archivo Data.txt\n",
        "with open(\"Data.txt\") as f:\n",
        "  lines = f.read().strip().split(\"\\n\")\n",
        "\n",
        "  for line in lines:\n",
        "    # Piedra\n",
        "    if(line[0] == 'A'):\n",
        "      if(line[2] == 'X'):\n",
        "        total += 4\n",
        "      if(line[2] == 'Y'):\n",
        "        total += 8\n",
        "      if(line[2] == 'Z'):\n",
        "        total += 3\n",
        "    # Papel \n",
        "    if(line[0] == 'B'):\n",
        "      if(line[2] == 'X'):\n",
        "        total += 1\n",
        "      if(line[2] == 'Y'):\n",
        "        total += 5\n",
        "      if(line[2] == 'Z'):\n",
        "        total += 9\n",
        "    # Tijera\n",
        "    if(line[0] == 'C'):\n",
        "      if(line[2] == 'X'):\n",
        "        total += 7\n",
        "      if(line[2] == 'Y'):\n",
        "        total += 2\n",
        "      if(line[2] == 'Z'):\n",
        "        total += 6\n",
        "  print('El valor total será: ' + str(total))\n"
      ],
      "metadata": {
        "colab": {
          "base_uri": "https://localhost:8080/"
        },
        "id": "TTbLXVtCB8xq",
        "outputId": "3b2493d7-116e-4c1d-9f38-f9ad7f1408a3"
      },
      "execution_count": 17,
      "outputs": [
        {
          "output_type": "stream",
          "name": "stdout",
          "text": [
            "El valor total será: 15691\n"
          ]
        }
      ]
    },
    {
      "cell_type": "markdown",
      "source": [
        "## **Parte 2**"
      ],
      "metadata": {
        "id": "41JPxdRIB8-X"
      }
    },
    {
      "cell_type": "code",
      "source": [
        "# Uso la lógica de la parte 1\n",
        "\n",
        "total = 0\n",
        "\n",
        "# Leer cada línea del archivo Data.txt\n",
        "with open(\"Data.txt\") as f:\n",
        "  lines = f.read().strip().split(\"\\n\")\n",
        "\n",
        "  for line in lines:\n",
        "    # Piedra\n",
        "    if(line[0] == 'A'):\n",
        "      if(line[2] == 'X'):\n",
        "        total += 3\n",
        "      if(line[2] == 'Y'):\n",
        "        total += 4\n",
        "      if(line[2] == 'Z'):\n",
        "        total += 8\n",
        "    # Papel \n",
        "    if(line[0] == 'B'):\n",
        "      if(line[2] == 'X'):\n",
        "        total += 1\n",
        "      if(line[2] == 'Y'):\n",
        "        total += 5\n",
        "      if(line[2] == 'Z'):\n",
        "        total += 9\n",
        "    # Tijera\n",
        "    if(line[0] == 'C'):\n",
        "      if(line[2] == 'X'):\n",
        "        total += 2\n",
        "      if(line[2] == 'Y'):\n",
        "        total += 6\n",
        "      if(line[2] == 'Z'):\n",
        "        total += 7\n",
        "  print('El valor total será: ' + str(total))"
      ],
      "metadata": {
        "colab": {
          "base_uri": "https://localhost:8080/"
        },
        "id": "h7AhKKRKB9SM",
        "outputId": "280f639b-75ac-45e1-ae72-c56839b9fb3a"
      },
      "execution_count": 16,
      "outputs": [
        {
          "output_type": "stream",
          "name": "stdout",
          "text": [
            "El valor total será: 12989\n"
          ]
        }
      ]
    }
  ]
}