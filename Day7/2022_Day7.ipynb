{
  "nbformat": 4,
  "nbformat_minor": 0,
  "metadata": {
    "colab": {
      "provenance": []
    },
    "kernelspec": {
      "name": "python3",
      "display_name": "Python 3"
    },
    "language_info": {
      "name": "python"
    }
  },
  "cells": [
    {
      "cell_type": "code",
      "execution_count": 1,
      "metadata": {
        "id": "MbUD76v12MtS"
      },
      "outputs": [],
      "source": [
        "# Importando Librerías\n",
        "from google.colab import files\n",
        "import numpy as np "
      ]
    },
    {
      "cell_type": "code",
      "source": [
        "# Subir Archivos\n",
        "files.upload() "
      ],
      "metadata": {
        "colab": {
          "base_uri": "https://localhost:8080/",
          "height": 1000
        },
        "id": "0YgozJn32QKE",
        "outputId": "8b2fe5c1-0aea-4413-9a3f-1025c11fb57a"
      },
      "execution_count": 75,
      "outputs": [
        {
          "output_type": "display_data",
          "data": {
            "text/plain": [
              "<IPython.core.display.HTML object>"
            ],
            "text/html": [
              "\n",
              "     <input type=\"file\" id=\"files-0cb22aa9-fa60-4246-9aea-4dc2e7eaec7d\" name=\"files[]\" multiple disabled\n",
              "        style=\"border:none\" />\n",
              "     <output id=\"result-0cb22aa9-fa60-4246-9aea-4dc2e7eaec7d\">\n",
              "      Upload widget is only available when the cell has been executed in the\n",
              "      current browser session. Please rerun this cell to enable.\n",
              "      </output>\n",
              "      <script>// Copyright 2017 Google LLC\n",
              "//\n",
              "// Licensed under the Apache License, Version 2.0 (the \"License\");\n",
              "// you may not use this file except in compliance with the License.\n",
              "// You may obtain a copy of the License at\n",
              "//\n",
              "//      http://www.apache.org/licenses/LICENSE-2.0\n",
              "//\n",
              "// Unless required by applicable law or agreed to in writing, software\n",
              "// distributed under the License is distributed on an \"AS IS\" BASIS,\n",
              "// WITHOUT WARRANTIES OR CONDITIONS OF ANY KIND, either express or implied.\n",
              "// See the License for the specific language governing permissions and\n",
              "// limitations under the License.\n",
              "\n",
              "/**\n",
              " * @fileoverview Helpers for google.colab Python module.\n",
              " */\n",
              "(function(scope) {\n",
              "function span(text, styleAttributes = {}) {\n",
              "  const element = document.createElement('span');\n",
              "  element.textContent = text;\n",
              "  for (const key of Object.keys(styleAttributes)) {\n",
              "    element.style[key] = styleAttributes[key];\n",
              "  }\n",
              "  return element;\n",
              "}\n",
              "\n",
              "// Max number of bytes which will be uploaded at a time.\n",
              "const MAX_PAYLOAD_SIZE = 100 * 1024;\n",
              "\n",
              "function _uploadFiles(inputId, outputId) {\n",
              "  const steps = uploadFilesStep(inputId, outputId);\n",
              "  const outputElement = document.getElementById(outputId);\n",
              "  // Cache steps on the outputElement to make it available for the next call\n",
              "  // to uploadFilesContinue from Python.\n",
              "  outputElement.steps = steps;\n",
              "\n",
              "  return _uploadFilesContinue(outputId);\n",
              "}\n",
              "\n",
              "// This is roughly an async generator (not supported in the browser yet),\n",
              "// where there are multiple asynchronous steps and the Python side is going\n",
              "// to poll for completion of each step.\n",
              "// This uses a Promise to block the python side on completion of each step,\n",
              "// then passes the result of the previous step as the input to the next step.\n",
              "function _uploadFilesContinue(outputId) {\n",
              "  const outputElement = document.getElementById(outputId);\n",
              "  const steps = outputElement.steps;\n",
              "\n",
              "  const next = steps.next(outputElement.lastPromiseValue);\n",
              "  return Promise.resolve(next.value.promise).then((value) => {\n",
              "    // Cache the last promise value to make it available to the next\n",
              "    // step of the generator.\n",
              "    outputElement.lastPromiseValue = value;\n",
              "    return next.value.response;\n",
              "  });\n",
              "}\n",
              "\n",
              "/**\n",
              " * Generator function which is called between each async step of the upload\n",
              " * process.\n",
              " * @param {string} inputId Element ID of the input file picker element.\n",
              " * @param {string} outputId Element ID of the output display.\n",
              " * @return {!Iterable<!Object>} Iterable of next steps.\n",
              " */\n",
              "function* uploadFilesStep(inputId, outputId) {\n",
              "  const inputElement = document.getElementById(inputId);\n",
              "  inputElement.disabled = false;\n",
              "\n",
              "  const outputElement = document.getElementById(outputId);\n",
              "  outputElement.innerHTML = '';\n",
              "\n",
              "  const pickedPromise = new Promise((resolve) => {\n",
              "    inputElement.addEventListener('change', (e) => {\n",
              "      resolve(e.target.files);\n",
              "    });\n",
              "  });\n",
              "\n",
              "  const cancel = document.createElement('button');\n",
              "  inputElement.parentElement.appendChild(cancel);\n",
              "  cancel.textContent = 'Cancel upload';\n",
              "  const cancelPromise = new Promise((resolve) => {\n",
              "    cancel.onclick = () => {\n",
              "      resolve(null);\n",
              "    };\n",
              "  });\n",
              "\n",
              "  // Wait for the user to pick the files.\n",
              "  const files = yield {\n",
              "    promise: Promise.race([pickedPromise, cancelPromise]),\n",
              "    response: {\n",
              "      action: 'starting',\n",
              "    }\n",
              "  };\n",
              "\n",
              "  cancel.remove();\n",
              "\n",
              "  // Disable the input element since further picks are not allowed.\n",
              "  inputElement.disabled = true;\n",
              "\n",
              "  if (!files) {\n",
              "    return {\n",
              "      response: {\n",
              "        action: 'complete',\n",
              "      }\n",
              "    };\n",
              "  }\n",
              "\n",
              "  for (const file of files) {\n",
              "    const li = document.createElement('li');\n",
              "    li.append(span(file.name, {fontWeight: 'bold'}));\n",
              "    li.append(span(\n",
              "        `(${file.type || 'n/a'}) - ${file.size} bytes, ` +\n",
              "        `last modified: ${\n",
              "            file.lastModifiedDate ? file.lastModifiedDate.toLocaleDateString() :\n",
              "                                    'n/a'} - `));\n",
              "    const percent = span('0% done');\n",
              "    li.appendChild(percent);\n",
              "\n",
              "    outputElement.appendChild(li);\n",
              "\n",
              "    const fileDataPromise = new Promise((resolve) => {\n",
              "      const reader = new FileReader();\n",
              "      reader.onload = (e) => {\n",
              "        resolve(e.target.result);\n",
              "      };\n",
              "      reader.readAsArrayBuffer(file);\n",
              "    });\n",
              "    // Wait for the data to be ready.\n",
              "    let fileData = yield {\n",
              "      promise: fileDataPromise,\n",
              "      response: {\n",
              "        action: 'continue',\n",
              "      }\n",
              "    };\n",
              "\n",
              "    // Use a chunked sending to avoid message size limits. See b/62115660.\n",
              "    let position = 0;\n",
              "    do {\n",
              "      const length = Math.min(fileData.byteLength - position, MAX_PAYLOAD_SIZE);\n",
              "      const chunk = new Uint8Array(fileData, position, length);\n",
              "      position += length;\n",
              "\n",
              "      const base64 = btoa(String.fromCharCode.apply(null, chunk));\n",
              "      yield {\n",
              "        response: {\n",
              "          action: 'append',\n",
              "          file: file.name,\n",
              "          data: base64,\n",
              "        },\n",
              "      };\n",
              "\n",
              "      let percentDone = fileData.byteLength === 0 ?\n",
              "          100 :\n",
              "          Math.round((position / fileData.byteLength) * 100);\n",
              "      percent.textContent = `${percentDone}% done`;\n",
              "\n",
              "    } while (position < fileData.byteLength);\n",
              "  }\n",
              "\n",
              "  // All done.\n",
              "  yield {\n",
              "    response: {\n",
              "      action: 'complete',\n",
              "    }\n",
              "  };\n",
              "}\n",
              "\n",
              "scope.google = scope.google || {};\n",
              "scope.google.colab = scope.google.colab || {};\n",
              "scope.google.colab._files = {\n",
              "  _uploadFiles,\n",
              "  _uploadFilesContinue,\n",
              "};\n",
              "})(self);\n",
              "</script> "
            ]
          },
          "metadata": {}
        },
        {
          "output_type": "stream",
          "name": "stdout",
          "text": [
            "Saving Data.txt to Data.txt\n"
          ]
        },
        {
          "output_type": "execute_result",
          "data": {
            "text/plain": [
              "{'Data.txt': b'$ cd /\\r\\n$ ls\\r\\n53302 chvtw.czb\\r\\n240038 dwhl.nrn\\r\\n124868 dwhl.vvb\\r\\ndir fml\\r\\ndir jbgpgvj\\r\\ndir qjphltd\\r\\ndir wlfprc\\r\\ndir zqvh\\r\\ndir zzmgz\\r\\n$ cd fml\\r\\n$ ls\\r\\ndir bztjtqg\\r\\n176916 crgzcmrt.jlr\\r\\n199024 gpnmqlr.rdb\\r\\ndir lwpbbb\\r\\ndir nsdgz\\r\\n186077 sfrlrc.jtj\\r\\n$ cd bztjtqg\\r\\n$ ls\\r\\ndir dwhl\\r\\ndir lwtrqrqq\\r\\ndir nsdgz\\r\\n105281 qlsr\\r\\n$ cd dwhl\\r\\n$ ls\\r\\ndir fqdzv\\r\\n198583 mmrplb.ncb\\r\\n42601 qmdjhrsg\\r\\n68484 rnmsmcqn.cwf\\r\\ndir wlfprc\\r\\n$ cd fqdzv\\r\\n$ ls\\r\\n140953 mfprqmdp.pnl\\r\\n$ cd ..\\r\\n$ cd wlfprc\\r\\n$ ls\\r\\n180121 swjgs.glp\\r\\n$ cd ..\\r\\n$ cd ..\\r\\n$ cd lwtrqrqq\\r\\n$ ls\\r\\n224392 swjgs.glp\\r\\n$ cd ..\\r\\n$ cd nsdgz\\r\\n$ ls\\r\\n5704 chvtw.wzb\\r\\n158254 gppbtqsw.mrr\\r\\n192803 pltnst.mnt\\r\\n265646 pst.njs\\r\\ndir qzdb\\r\\n$ cd qzdb\\r\\n$ ls\\r\\n171982 jcjcv\\r\\n125788 tfr.hlv\\r\\n$ cd ..\\r\\n$ cd ..\\r\\n$ cd ..\\r\\n$ cd lwpbbb\\r\\n$ ls\\r\\ndir chvtw\\r\\n88879 dtgbns.jfw\\r\\ndir fgfm\\r\\ndir nsdgz\\r\\n216019 wlfprc.bhp\\r\\n$ cd chvtw\\r\\n$ ls\\r\\n67998 mfprqmdp.pnl\\r\\n$ cd ..\\r\\n$ cd fgfm\\r\\n$ ls\\r\\n85968 mfprqmdp.pnl\\r\\n$ cd ..\\r\\n$ cd nsdgz\\r\\n$ ls\\r\\n171874 pfwzjm.wbv\\r\\n110070 vdpnmst.wjm\\r\\n$ cd ..\\r\\n$ cd ..\\r\\n$ cd nsdgz\\r\\n$ ls\\r\\ndir cqwh\\r\\n33973 dwhl.clh\\r\\ndir rdcmr\\r\\n140633 sfrlrc.jtj\\r\\ndir stqhwh\\r\\n24695 vdpnmst.wqp\\r\\n222421 wlfprc.dcf\\r\\n225333 zfq\\r\\n$ cd cqwh\\r\\n$ ls\\r\\n220212 bbpbg.sch\\r\\ndir dwhl\\r\\n203595 nsdgz.fcc\\r\\n123921 nwjds\\r\\n145468 sqg.dpb\\r\\n199052 wvqphtff.stc\\r\\n$ cd dwhl\\r\\n$ ls\\r\\n51966 hfhlcjp.mtn\\r\\n23657 hhflcsql.pns\\r\\n241753 mwbgzn.fpn\\r\\n247935 srdgnb.zbj\\r\\n$ cd ..\\r\\n$ cd ..\\r\\n$ cd rdcmr\\r\\n$ ls\\r\\n215436 crgzcmrt.jlr\\r\\n116617 ndwd.drq\\r\\n$ cd ..\\r\\n$ cd stqhwh\\r\\n$ ls\\r\\n28083 cfmcj.plz\\r\\ndir chvtw\\r\\n229939 hwf.wzr\\r\\ndir twfztmq\\r\\n219525 vdpnmst.mcb\\r\\ndir wlfprc\\r\\n$ cd chvtw\\r\\n$ ls\\r\\n120506 lspn\\r\\n214538 mfprqmdp.pnl\\r\\n$ cd ..\\r\\n$ cd twfztmq\\r\\n$ ls\\r\\n231371 mbsrnbww\\r\\n$ cd ..\\r\\n$ cd wlfprc\\r\\n$ ls\\r\\ndir dncq\\r\\ndir fmqzns\\r\\n$ cd dncq\\r\\n$ ls\\r\\n40876 swjgs.glp\\r\\n$ cd ..\\r\\n$ cd fmqzns\\r\\n$ ls\\r\\n23604 chvtw.bhw\\r\\n$ cd ..\\r\\n$ cd ..\\r\\n$ cd ..\\r\\n$ cd ..\\r\\n$ cd ..\\r\\n$ cd jbgpgvj\\r\\n$ ls\\r\\n121937 crgzcmrt.jlr\\r\\n$ cd ..\\r\\n$ cd qjphltd\\r\\n$ ls\\r\\n85066 chvtw\\r\\ndir dwhl\\r\\ndir fcqfgnvh\\r\\n238098 hbzf.wgc\\r\\ndir ltm\\r\\ndir mbbvp\\r\\n118907 mfprqmdp.pnl\\r\\ndir mgnl\\r\\ndir nhmqcpdl\\r\\n147292 qtjcqtwt.vtn\\r\\ndir tvplqllb\\r\\n$ cd dwhl\\r\\n$ ls\\r\\ndir cgrdfzc\\r\\n197650 chvtw.bfz\\r\\n109566 dwhl.vww\\r\\ndir jgzjzvh\\r\\n80828 sfsz\\r\\n154910 vdpnmst.fmz\\r\\ndir zfrpc\\r\\n$ cd cgrdfzc\\r\\n$ ls\\r\\n145237 ffzd\\r\\ndir jqwgwcm\\r\\n72905 sztrgnwr.gqw\\r\\n58294 vdpqccdl.ddc\\r\\n$ cd jqwgwcm\\r\\n$ ls\\r\\n115858 nsdgz.zdf\\r\\n$ cd ..\\r\\n$ cd ..\\r\\n$ cd jgzjzvh\\r\\n$ ls\\r\\ndir chvtw\\r\\n$ cd chvtw\\r\\n$ ls\\r\\ndir zmwmcgcr\\r\\n$ cd zmwmcgcr\\r\\n$ ls\\r\\ndir wjq\\r\\n$ cd wjq\\r\\n$ ls\\r\\n121465 rbg.plr\\r\\n$ cd ..\\r\\n$ cd ..\\r\\n$ cd ..\\r\\n$ cd ..\\r\\n$ cd zfrpc\\r\\n$ ls\\r\\ndir cqv\\r\\ndir llwsnsd\\r\\ndir qrmg\\r\\n$ cd cqv\\r\\n$ ls\\r\\ndir vdpnmst\\r\\n$ cd vdpnmst\\r\\n$ ls\\r\\n170492 qsvf\\r\\n273024 sfrlrc.jtj\\r\\n$ cd ..\\r\\n$ cd ..\\r\\n$ cd llwsnsd\\r\\n$ ls\\r\\n42903 dwhl.shp\\r\\n179054 fvwwghsb.dll\\r\\ndir glhdqhf\\r\\ndir wblwwf\\r\\ndir wlfprc\\r\\ndir zrjzmj\\r\\n$ cd glhdqhf\\r\\n$ ls\\r\\n70524 pzll.cjc\\r\\n29836 wlfprc.bns\\r\\n$ cd ..\\r\\n$ cd wblwwf\\r\\n$ ls\\r\\n209990 jcfss\\r\\n$ cd ..\\r\\n$ cd wlfprc\\r\\n$ ls\\r\\n97159 djqs.gqb\\r\\n$ cd ..\\r\\n$ cd zrjzmj\\r\\n$ ls\\r\\n164830 fwrpcrbg.pvg\\r\\n83144 vszfdj\\r\\n$ cd ..\\r\\n$ cd ..\\r\\n$ cd qrmg\\r\\n$ ls\\r\\n42025 nsdgz.sjw\\r\\n114620 swjgs.glp\\r\\n269872 tgptmhz.zch\\r\\n$ cd ..\\r\\n$ cd ..\\r\\n$ cd ..\\r\\n$ cd fcqfgnvh\\r\\n$ ls\\r\\n126854 gbbfpz.rjv\\r\\ndir gbzslwz\\r\\ndir nsdgz\\r\\n200981 pmswh.nbz\\r\\n45443 tdqwszvc\\r\\n227183 vdpnmst.tbt\\r\\n$ cd gbzslwz\\r\\n$ ls\\r\\ndir njzvwjh\\r\\n$ cd njzvwjh\\r\\n$ ls\\r\\n44070 lvsjfvll.bfc\\r\\n$ cd ..\\r\\n$ cd ..\\r\\n$ cd nsdgz\\r\\n$ ls\\r\\ndir cmfz\\r\\n116103 fztsf.lvz\\r\\n59406 mfprqmdp.pnl\\r\\ndir wlfprc\\r\\n$ cd cmfz\\r\\n$ ls\\r\\n37680 ncshvdst\\r\\n$ cd ..\\r\\n$ cd wlfprc\\r\\n$ ls\\r\\n273982 jcvqttf.fqz\\r\\n$ cd ..\\r\\n$ cd ..\\r\\n$ cd ..\\r\\n$ cd ltm\\r\\n$ ls\\r\\n19761 mfprqmdp.pnl\\r\\n$ cd ..\\r\\n$ cd mbbvp\\r\\n$ ls\\r\\n12482 wnv.vps\\r\\n46227 zlnlzzn\\r\\n$ cd ..\\r\\n$ cd mgnl\\r\\n$ ls\\r\\ndir bpc\\r\\ndir chvtw\\r\\n240396 dwhl\\r\\n115971 hbbnwwh\\r\\n33819 mfprqmdp.pnl\\r\\n218670 nnbjb\\r\\ndir qwjp\\r\\n107343 tmhp.jst\\r\\ndir vfrbjgdm\\r\\ndir ztpggl\\r\\n$ cd bpc\\r\\n$ ls\\r\\ndir chvtw\\r\\n63061 dwhl.ftj\\r\\ndir dzlv\\r\\n119367 gmp.fdd\\r\\ndir hdvdfnw\\r\\ndir nsdgz\\r\\ndir pds\\r\\n48753 sfrlrc.jtj\\r\\n186706 vdpnmst.lnb\\r\\n182938 wlfprc.dvf\\r\\n$ cd chvtw\\r\\n$ ls\\r\\n29411 sfrlrc.jtj\\r\\n$ cd ..\\r\\n$ cd dzlv\\r\\n$ ls\\r\\n140503 vdpnmst.dtl\\r\\n$ cd ..\\r\\n$ cd hdvdfnw\\r\\n$ ls\\r\\n36521 crgzcmrt.jlr\\r\\ndir hsjb\\r\\n231528 mnl.scm\\r\\ndir pczq\\r\\n$ cd hsjb\\r\\n$ ls\\r\\n204248 swjgs.glp\\r\\n$ cd ..\\r\\n$ cd pczq\\r\\n$ ls\\r\\n18842 qzwd.tfn\\r\\n$ cd ..\\r\\n$ cd ..\\r\\n$ cd nsdgz\\r\\n$ ls\\r\\ndir bpgdn\\r\\n106092 nsdgz.vqs\\r\\n71032 pgbvnv\\r\\n47006 pthbb.znn\\r\\ndir rll\\r\\ndir wlfprc\\r\\n$ cd bpgdn\\r\\n$ ls\\r\\n54889 wlfprc\\r\\n$ cd ..\\r\\n$ cd rll\\r\\n$ ls\\r\\n135900 shgfznp\\r\\n$ cd ..\\r\\n$ cd wlfprc\\r\\n$ ls\\r\\ndir dwhl\\r\\n160547 vddtj.jrh\\r\\n114072 vdld.ndv\\r\\n258527 wlfprc.lgg\\r\\n$ cd dwhl\\r\\n$ ls\\r\\n9122 nvptwfp.qhh\\r\\n$ cd ..\\r\\n$ cd ..\\r\\n$ cd ..\\r\\n$ cd pds\\r\\n$ ls\\r\\n174820 svq.gmz\\r\\n133508 zhpcdqnr.pmf\\r\\n$ cd ..\\r\\n$ cd ..\\r\\n$ cd chvtw\\r\\n$ ls\\r\\ndir vhspmg\\r\\n$ cd vhspmg\\r\\n$ ls\\r\\ndir flzpg\\r\\n$ cd flzpg\\r\\n$ ls\\r\\n205811 sdtgsjsd\\r\\n262847 zbmsmzq.wwt\\r\\n$ cd ..\\r\\n$ cd ..\\r\\n$ cd ..\\r\\n$ cd qwjp\\r\\n$ ls\\r\\ndir crzqrz\\r\\ndir gwwrhjh\\r\\n232315 mfprqmdp.pnl\\r\\ndir nsdgz\\r\\n248778 qfsds.rhh\\r\\n252980 vdpnmst.qgj\\r\\n$ cd crzqrz\\r\\n$ ls\\r\\n202759 srdgnb.zbj\\r\\n$ cd ..\\r\\n$ cd gwwrhjh\\r\\n$ ls\\r\\ndir lvnsvm\\r\\n$ cd lvnsvm\\r\\n$ ls\\r\\n191751 tdrrztrn.rfb\\r\\n$ cd ..\\r\\n$ cd ..\\r\\n$ cd nsdgz\\r\\n$ ls\\r\\n273767 chvtw.gzr\\r\\n244356 pww.qgb\\r\\n$ cd ..\\r\\n$ cd ..\\r\\n$ cd vfrbjgdm\\r\\n$ ls\\r\\ndir chvtw\\r\\n132015 cznw.mfc\\r\\ndir fnw\\r\\ndir gvddj\\r\\ndir jdzsng\\r\\n204950 lmprp\\r\\ndir nsdgz\\r\\n187795 whd.qlv\\r\\n$ cd chvtw\\r\\n$ ls\\r\\ndir bfwl\\r\\ndir fvfmzg\\r\\ndir mzmdjhjq\\r\\n153152 srdgnb.zbj\\r\\n239385 stcfdsv.fjj\\r\\ndir vdfw\\r\\n93411 vdpnmst\\r\\n186283 wlfprc.hbq\\r\\ndir wvgj\\r\\n$ cd bfwl\\r\\n$ ls\\r\\ndir frrsl\\r\\n1168 sch\\r\\ndir vnzvmpmg\\r\\ndir wlfprc\\r\\n$ cd frrsl\\r\\n$ ls\\r\\n164016 btzft.qdc\\r\\n$ cd ..\\r\\n$ cd vnzvmpmg\\r\\n$ ls\\r\\ndir hfnjf\\r\\n$ cd hfnjf\\r\\n$ ls\\r\\n267448 dqts.pgp\\r\\n$ cd ..\\r\\n$ cd ..\\r\\n$ cd wlfprc\\r\\n$ ls\\r\\ndir hsbg\\r\\ndir mgzvqhtr\\r\\ndir nbbdv\\r\\n88560 wflghrq.lws\\r\\n$ cd hsbg\\r\\n$ ls\\r\\n191520 cmdshfgh\\r\\n283887 crgzcmrt.jlr\\r\\ndir dwhl\\r\\n$ cd dwhl\\r\\n$ ls\\r\\n103303 vdpnmst\\r\\n$ cd ..\\r\\n$ cd ..\\r\\n$ cd mgzvqhtr\\r\\n$ ls\\r\\n159296 dvlhwsj.gvl\\r\\n$ cd ..\\r\\n$ cd nbbdv\\r\\n$ ls\\r\\ndir hnv\\r\\n$ cd hnv\\r\\n$ ls\\r\\n138102 wlfprc\\r\\n$ cd ..\\r\\n$ cd ..\\r\\n$ cd ..\\r\\n$ cd ..\\r\\n$ cd fvfmzg\\r\\n$ ls\\r\\n205962 ltzsj\\r\\n$ cd ..\\r\\n$ cd mzmdjhjq\\r\\n$ ls\\r\\n178012 dwhl.dfd\\r\\n155247 mmmlqppm.hcz\\r\\n85643 npllz.ltb\\r\\n122027 nsdgz.ngz\\r\\ndir wlfprc\\r\\ndir zrmt\\r\\n$ cd wlfprc\\r\\n$ ls\\r\\n171189 rgsbqlw\\r\\n$ cd ..\\r\\n$ cd zrmt\\r\\n$ ls\\r\\ndir dwhl\\r\\n$ cd dwhl\\r\\n$ ls\\r\\n75018 qbwm\\r\\n$ cd ..\\r\\n$ cd ..\\r\\n$ cd ..\\r\\n$ cd vdfw\\r\\n$ ls\\r\\n77110 ffsvhm\\r\\ndir lmplrbzc\\r\\ndir ttq\\r\\n$ cd lmplrbzc\\r\\n$ ls\\r\\ndir mmf\\r\\n$ cd mmf\\r\\n$ ls\\r\\n127691 sfrlrc.jtj\\r\\n$ cd ..\\r\\n$ cd ..\\r\\n$ cd ttq\\r\\n$ ls\\r\\ndir qwfvql\\r\\n202107 rpgqwfb\\r\\ndir zhfg\\r\\n$ cd qwfvql\\r\\n$ ls\\r\\ndir tbldv\\r\\n276153 vdpnmst\\r\\n$ cd tbldv\\r\\n$ ls\\r\\n65603 mfprqmdp.pnl\\r\\n218354 wdbprnm\\r\\n$ cd ..\\r\\n$ cd ..\\r\\n$ cd zhfg\\r\\n$ ls\\r\\ndir wlfprc\\r\\n$ cd wlfprc\\r\\n$ ls\\r\\ndir dggm\\r\\n273082 mfprqmdp.pnl\\r\\n$ cd dggm\\r\\n$ ls\\r\\n197043 chm\\r\\n$ cd ..\\r\\n$ cd ..\\r\\n$ cd ..\\r\\n$ cd ..\\r\\n$ cd ..\\r\\n$ cd wvgj\\r\\n$ ls\\r\\n163854 pcmbb.gwc\\r\\n$ cd ..\\r\\n$ cd ..\\r\\n$ cd fnw\\r\\n$ ls\\r\\n84321 bjnn.mqc\\r\\ndir dmcbshg\\r\\ndir mdvt\\r\\n$ cd dmcbshg\\r\\n$ ls\\r\\ndir fsh\\r\\n$ cd fsh\\r\\n$ ls\\r\\ndir cgstfrbl\\r\\n$ cd cgstfrbl\\r\\n$ ls\\r\\n227959 vdpnmst\\r\\n$ cd ..\\r\\n$ cd ..\\r\\n$ cd ..\\r\\n$ cd mdvt\\r\\n$ ls\\r\\ndir mts\\r\\ndir pwrvqrjc\\r\\ndir qwrh\\r\\n52239 sfrlrc.jtj\\r\\n$ cd mts\\r\\n$ ls\\r\\n242122 mfprqmdp.pnl\\r\\n$ cd ..\\r\\n$ cd pwrvqrjc\\r\\n$ ls\\r\\n40460 crgzcmrt.jlr\\r\\n173816 jzhvzrnv\\r\\n56851 swjgs.glp\\r\\n218509 wlfprc.cvr\\r\\n$ cd ..\\r\\n$ cd qwrh\\r\\n$ ls\\r\\n240079 lzwbvw.zvf\\r\\n$ cd ..\\r\\n$ cd ..\\r\\n$ cd ..\\r\\n$ cd gvddj\\r\\n$ ls\\r\\ndir cgbpbw\\r\\n24565 chvtw.czc\\r\\n244373 nsdgz.mzj\\r\\n281443 srdgnb.zbj\\r\\n63755 swjgs.glp\\r\\ndir vdpnmst\\r\\n247101 wlfprc.nzd\\r\\ndir zlh\\r\\n$ cd cgbpbw\\r\\n$ ls\\r\\ndir bcbgqzj\\r\\ndir dwhl\\r\\ndir nhtz\\r\\ndir nlnbr\\r\\n$ cd bcbgqzj\\r\\n$ ls\\r\\n199932 vdpnmst.zvh\\r\\n$ cd ..\\r\\n$ cd dwhl\\r\\n$ ls\\r\\n116043 nsdgz.ttd\\r\\n$ cd ..\\r\\n$ cd nhtz\\r\\n$ ls\\r\\n196534 cthbt.tjj\\r\\n$ cd ..\\r\\n$ cd nlnbr\\r\\n$ ls\\r\\ndir chvtw\\r\\ndir dwhl\\r\\n75467 lhzhvn\\r\\ndir ncmpwvrd\\r\\ndir vdpnmst\\r\\n160988 wlfprc\\r\\n$ cd chvtw\\r\\n$ ls\\r\\n119163 sfrlrc.jtj\\r\\n226449 srdgnb.zbj\\r\\n$ cd ..\\r\\n$ cd dwhl\\r\\n$ ls\\r\\ndir dwhl\\r\\n$ cd dwhl\\r\\n$ ls\\r\\n283831 ptssf\\r\\n$ cd ..\\r\\n$ cd ..\\r\\n$ cd ncmpwvrd\\r\\n$ ls\\r\\n169547 chvtw.hnh\\r\\n142447 wlfprc.pds\\r\\n$ cd ..\\r\\n$ cd vdpnmst\\r\\n$ ls\\r\\n276326 jslgmcp.mmz\\r\\n$ cd ..\\r\\n$ cd ..\\r\\n$ cd ..\\r\\n$ cd vdpnmst\\r\\n$ ls\\r\\n36500 dwhl\\r\\n186159 nwwhrf\\r\\n$ cd ..\\r\\n$ cd zlh\\r\\n$ ls\\r\\n245705 chvtw.jgd\\r\\n$ cd ..\\r\\n$ cd ..\\r\\n$ cd jdzsng\\r\\n$ ls\\r\\n48648 dnzlvjr\\r\\n63253 fnzfrtrp.bll\\r\\n9962 zcgg.ldc\\r\\n$ cd ..\\r\\n$ cd nsdgz\\r\\n$ ls\\r\\n188613 cvvr\\r\\n$ cd ..\\r\\n$ cd ..\\r\\n$ cd ztpggl\\r\\n$ ls\\r\\ndir vbrtv\\r\\ndir vdpnmst\\r\\n236782 vqm.zdj\\r\\n$ cd vbrtv\\r\\n$ ls\\r\\n35655 rswctm\\r\\n$ cd ..\\r\\n$ cd vdpnmst\\r\\n$ ls\\r\\n143090 crgzcmrt.jlr\\r\\n242681 mfprqmdp.pnl\\r\\n146639 vdpnmst\\r\\n63563 vdpnmst.flr\\r\\n$ cd ..\\r\\n$ cd ..\\r\\n$ cd ..\\r\\n$ cd nhmqcpdl\\r\\n$ ls\\r\\ndir dwhl\\r\\ndir nsdgz\\r\\ndir tgwtvm\\r\\n$ cd dwhl\\r\\n$ ls\\r\\n253652 swjgs.glp\\r\\n$ cd ..\\r\\n$ cd nsdgz\\r\\n$ ls\\r\\n208378 crgzcmrt.jlr\\r\\n$ cd ..\\r\\n$ cd tgwtvm\\r\\n$ ls\\r\\ndir jptp\\r\\ndir qdjl\\r\\ndir qngflrgr\\r\\n$ cd jptp\\r\\n$ ls\\r\\n103248 chvtw.pgr\\r\\n65015 pvz\\r\\n$ cd ..\\r\\n$ cd qdjl\\r\\n$ ls\\r\\n149177 chvtw.rzd\\r\\n$ cd ..\\r\\n$ cd qngflrgr\\r\\n$ ls\\r\\n98041 drfl.jfq\\r\\n238883 jjzqzmm\\r\\n$ cd ..\\r\\n$ cd ..\\r\\n$ cd ..\\r\\n$ cd tvplqllb\\r\\n$ ls\\r\\n107011 chvtw.mdn\\r\\n91988 dwhl\\r\\n84875 ftwz.fzj\\r\\ndir hpfr\\r\\ndir wdgzsg\\r\\n$ cd hpfr\\r\\n$ ls\\r\\ndir bbgbnr\\r\\ndir dwhl\\r\\n131524 fdpg\\r\\ndir jvddlfsf\\r\\n250910 mfprqmdp.pnl\\r\\n174858 qpl.qtm\\r\\n271840 sjncl.cjb\\r\\ndir wlfprc\\r\\n$ cd bbgbnr\\r\\n$ ls\\r\\n139093 chvtw\\r\\n21309 crgzcmrt.jlr\\r\\ndir nsjfgmrs\\r\\n22977 qqt.mvb\\r\\n129496 srdgnb.zbj\\r\\n$ cd nsjfgmrs\\r\\n$ ls\\r\\ndir ppwm\\r\\n167856 tvsqvsrf.plp\\r\\ndir vztfzgrd\\r\\n$ cd ppwm\\r\\n$ ls\\r\\n161664 ssl.fnd\\r\\n$ cd ..\\r\\n$ cd vztfzgrd\\r\\n$ ls\\r\\n213100 fwjrgdbb\\r\\n$ cd ..\\r\\n$ cd ..\\r\\n$ cd ..\\r\\n$ cd dwhl\\r\\n$ ls\\r\\n124522 gtmgtq\\r\\n$ cd ..\\r\\n$ cd jvddlfsf\\r\\n$ ls\\r\\n78145 zpcc.wzt\\r\\n$ cd ..\\r\\n$ cd wlfprc\\r\\n$ ls\\r\\n143769 mfprqmdp.pnl\\r\\n$ cd ..\\r\\n$ cd ..\\r\\n$ cd wdgzsg\\r\\n$ ls\\r\\n209123 chvtw.lpr\\r\\n191060 fqzjpnfb.lmd\\r\\ndir gbcqgszh\\r\\ndir jzhvmj\\r\\n17755 mfprqmdp.pnl\\r\\ndir mvvltrs\\r\\n204706 wfmttzc.cdb\\r\\ndir wlfprc\\r\\n$ cd gbcqgszh\\r\\n$ ls\\r\\n263162 crgzcmrt.jlr\\r\\n277604 rddzmchb.fwr\\r\\n$ cd ..\\r\\n$ cd jzhvmj\\r\\n$ ls\\r\\n2388 dnqs\\r\\n249647 sfrlrc.jtj\\r\\n276429 vcn\\r\\ndir wlfprc\\r\\n$ cd wlfprc\\r\\n$ ls\\r\\n179811 mfprqmdp.pnl\\r\\n$ cd ..\\r\\n$ cd ..\\r\\n$ cd mvvltrs\\r\\n$ ls\\r\\n171792 bzq\\r\\ndir chvtw\\r\\n41358 crgzcmrt.jlr\\r\\n86479 ddsjsbp\\r\\ndir dqvlqnn\\r\\n227156 srdgnb.zbj\\r\\ndir thwdjln\\r\\ndir wjl\\r\\ndir wlfprc\\r\\n$ cd chvtw\\r\\n$ ls\\r\\n61085 crgzcmrt.jlr\\r\\n72256 rbnvsbm\\r\\n154180 wmwnpf\\r\\n$ cd ..\\r\\n$ cd dqvlqnn\\r\\n$ ls\\r\\n42736 chvtw.wcd\\r\\n$ cd ..\\r\\n$ cd thwdjln\\r\\n$ ls\\r\\n114664 hdjvgpr\\r\\n51273 pdsgj.tvr\\r\\n$ cd ..\\r\\n$ cd wjl\\r\\n$ ls\\r\\n49897 swjgs.glp\\r\\n$ cd ..\\r\\n$ cd wlfprc\\r\\n$ ls\\r\\ndir chvtw\\r\\n222869 zffqnb.plq\\r\\n$ cd chvtw\\r\\n$ ls\\r\\n84667 mfprqmdp.pnl\\r\\n$ cd ..\\r\\n$ cd ..\\r\\n$ cd ..\\r\\n$ cd wlfprc\\r\\n$ ls\\r\\n180812 cjbjffhs.rlc\\r\\ndir dwhl\\r\\ndir rvgrjsps\\r\\n229144 vql.lww\\r\\n210367 wlfprc.ghn\\r\\n$ cd dwhl\\r\\n$ ls\\r\\n220631 sbrdjv.cdt\\r\\n24851 swjgs.glp\\r\\n$ cd ..\\r\\n$ cd rvgrjsps\\r\\n$ ls\\r\\n62849 wrlzz.nwn\\r\\n$ cd ..\\r\\n$ cd ..\\r\\n$ cd ..\\r\\n$ cd ..\\r\\n$ cd ..\\r\\n$ cd wlfprc\\r\\n$ ls\\r\\n88598 chvtw.vvq\\r\\n222226 mssqb.gwc\\r\\n54178 zjttbct.rft\\r\\n$ cd ..\\r\\n$ cd zqvh\\r\\n$ ls\\r\\n124084 wmswcs.wcd\\r\\n$ cd ..\\r\\n$ cd zzmgz\\r\\n$ ls\\r\\n143006 bbttfvt\\r\\ndir vdpnmst\\r\\n$ cd vdpnmst\\r\\n$ ls\\r\\ndir chvtw\\r\\n107664 crgzcmrt.jlr\\r\\n175290 dmp.hqm\\r\\ndir dwhl\\r\\ndir jtbh\\r\\ndir lwbqctd\\r\\n203538 swjgs.glp\\r\\ndir vdpnmst\\r\\n140212 wlfprc\\r\\n26253 wlfprc.vqs\\r\\n$ cd chvtw\\r\\n$ ls\\r\\n57311 chvtw.tmb\\r\\n183900 vdpnmst.wfl\\r\\n$ cd ..\\r\\n$ cd dwhl\\r\\n$ ls\\r\\n46475 lpdfsdb.cgj\\r\\n32915 vlhhrq.zld\\r\\n$ cd ..\\r\\n$ cd jtbh\\r\\n$ ls\\r\\n255372 chvtw.tmh\\r\\n149848 gndwds.mzn\\r\\n273202 wlfprc.ghc\\r\\n$ cd ..\\r\\n$ cd lwbqctd\\r\\n$ ls\\r\\ndir dbfbfjjw\\r\\ndir qbn\\r\\ndir qqqfdrst\\r\\ndir zhzrhzcv\\r\\n$ cd dbfbfjjw\\r\\n$ ls\\r\\n29216 mfprqmdp.pnl\\r\\n17937 vhvbcmlh.wdf\\r\\n87790 vqzhr.bsl\\r\\n$ cd ..\\r\\n$ cd qbn\\r\\n$ ls\\r\\ndir bdg\\r\\n79958 mbzc.qbv\\r\\n218421 nsdgz\\r\\n$ cd bdg\\r\\n$ ls\\r\\n103738 crgzcmrt.jlr\\r\\n179430 dwhl.gmw\\r\\n118482 dwhl.ztl\\r\\ndir gmlqjh\\r\\ndir phvf\\r\\n264818 zzjwzlrn\\r\\n$ cd gmlqjh\\r\\n$ ls\\r\\n116934 wlfprc.rmt\\r\\n$ cd ..\\r\\n$ cd phvf\\r\\n$ ls\\r\\ndir dqbjm\\r\\n43516 vdpnmst\\r\\n$ cd dqbjm\\r\\n$ ls\\r\\n180654 lvdwvp.mjp\\r\\n$ cd ..\\r\\n$ cd ..\\r\\n$ cd ..\\r\\n$ cd ..\\r\\n$ cd qqqfdrst\\r\\n$ ls\\r\\n58625 nsdgz.bmt\\r\\n33328 sfrlrc.jtj\\r\\n$ cd ..\\r\\n$ cd zhzrhzcv\\r\\n$ ls\\r\\n119179 dhcfzq\\r\\n270185 gtmphbt\\r\\n$ cd ..\\r\\n$ cd ..\\r\\n$ cd vdpnmst\\r\\n$ ls\\r\\n180546 chvtw\\r\\ndir htgbz\\r\\n133410 lwdm.snh\\r\\n134253 swjgs.glp\\r\\n$ cd htgbz\\r\\n$ ls\\r\\n75079 nsdgz.vlj'}"
            ]
          },
          "metadata": {},
          "execution_count": 75
        }
      ]
    },
    {
      "cell_type": "markdown",
      "source": [
        "## **Parte 1**"
      ],
      "metadata": {
        "id": "SuWtSt5E2Qfi"
      }
    },
    {
      "cell_type": "code",
      "source": [
        "# Usaremos un diccionario para almacenar las rutas y un arreglo para la ruta actual\n",
        "# Primero diferenciamos entre un comando o el contenido de una carpeta, si es un comando\n",
        "# modificamos la ruta actual, si es un directorio lo agregamos al diccionario de rutas\n",
        "# y si es un archivo tomamos su tamaño y lo almacenamos en el su clave de ruta correspondiente\n",
        "# de igual manera sumamos a todas las carpetas anteriores que contengan a este archivo\n",
        "\n",
        "# Finalmente, sumamos los valores del diccionario de rutas con valor menor a 100000\n",
        "\n",
        "sum_sizes = 0\n",
        "dirs = {'/':0}\n",
        "cd = ['/']\n",
        "with open(\"Data.txt\") as f:\n",
        "    for l in f.readlines():\n",
        "        ls = l[:-1].split(\" \")\n",
        "        if ('$' in ls):\n",
        "            if (ls[1] == 'cd'):\n",
        "                if (ls[2] == '..'):\n",
        "                    cd.pop(-1)\n",
        "                elif (ls[2] == '/'):\n",
        "                    cd = ['/']\n",
        "                else:\n",
        "                    cd.append(ls[2])\n",
        "        # Agregando los directorios al diccionario de rutas\n",
        "        elif ('dir' in ls):\n",
        "            dirs[\"\".join(cd) + ls[1]] = 0\n",
        "        else:\n",
        "            dirs[\"\".join(cd)] += int(ls[0])\n",
        "            for i in range(1, len(cd)):\n",
        "                dirs[\"\".join(cd[:-i])] += int(ls[0])\n",
        "\n",
        "for d in dirs:  \n",
        "    if (dirs[d] <= 100000):\n",
        "        sum_sizes += dirs[d]\n",
        "print('La suma total de totos los directorios es: ' + str(sum_sizes))"
      ],
      "metadata": {
        "colab": {
          "base_uri": "https://localhost:8080/"
        },
        "id": "UrAL5j1dHtek",
        "outputId": "2f3ef0bc-3ab1-458c-bd22-9e6fa02ee409"
      },
      "execution_count": 76,
      "outputs": [
        {
          "output_type": "stream",
          "name": "stdout",
          "text": [
            "La suma total de totos los directorios es: 1447046\n"
          ]
        }
      ]
    },
    {
      "cell_type": "markdown",
      "source": [
        "## **Parte 2**"
      ],
      "metadata": {
        "id": "x54fEhI62RE9"
      }
    },
    {
      "cell_type": "code",
      "source": [
        "# Usaremos la lógica anterior para obtener el diccionario con directorios y su tamaño\n",
        "# Unicamente calculamos el espacio que se necesita, buscamos los directorios que tengan\n",
        "# minimo el espacio necesario, los almacenamos en un arreglo y de este seleccionamos el menor\n",
        "\n",
        "system = 70000000\n",
        "need = 30000000\n",
        "sum_sizes = 0\n",
        "posibly_dir = []\n",
        "dirs = {'/':0}\n",
        "cd = ['/']\n",
        "with open(\"Data.txt\") as f:\n",
        "    for l in f.readlines():\n",
        "        ls = l[:-1].split(\" \")\n",
        "        if ('$' in ls):\n",
        "            if (ls[1] == 'cd'):\n",
        "                if (ls[2] == '..'):\n",
        "                    cd.pop(-1)\n",
        "                elif (ls[2] == '/'):\n",
        "                    cd = ['/']\n",
        "                else:\n",
        "                    cd.append(ls[2])\n",
        "        # Agregando los directorios al diccionario de rutas\n",
        "        elif ('dir' in ls):\n",
        "            dirs[\"\".join(cd) + ls[1]] = 0\n",
        "        else:\n",
        "            dirs[\"\".join(cd)] += int(ls[0])\n",
        "            for i in range(1, len(cd)):\n",
        "                dirs[\"\".join(cd[:-i])] += int(ls[0])\n",
        "\n",
        "actual_size = dirs['/']\n",
        "free_space = system - actual_size\n",
        "enough_space = need - free_space\n",
        "\n",
        "for d in dirs:  \n",
        "    if (dirs[d] >= enough_space):\n",
        "        posibly_dir.append(dirs[d])\n",
        "print('El directorio que al eliminarse permite realizar la actualización tiene: ' + str(min(posibly_dir)))"
      ],
      "metadata": {
        "colab": {
          "base_uri": "https://localhost:8080/"
        },
        "id": "kDnl6CFRNlzM",
        "outputId": "cc35ea6f-4885-4f25-985c-ee40f35464f1"
      },
      "execution_count": 85,
      "outputs": [
        {
          "output_type": "stream",
          "name": "stdout",
          "text": [
            "El directorio que al eliminarse permite realizar la actualización tiene: 578710\n"
          ]
        }
      ]
    }
  ]
}