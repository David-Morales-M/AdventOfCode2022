{
  "nbformat": 4,
  "nbformat_minor": 0,
  "metadata": {
    "colab": {
      "provenance": []
    },
    "kernelspec": {
      "name": "python3",
      "display_name": "Python 3"
    },
    "language_info": {
      "name": "python"
    }
  },
  "cells": [
    {
      "cell_type": "code",
      "execution_count": 10,
      "metadata": {
        "id": "MLP60A3PQSha"
      },
      "outputs": [],
      "source": [
        "# Importando Librerías\n",
        "from google.colab import files\n",
        "import numpy as np \n",
        "import string"
      ]
    },
    {
      "cell_type": "code",
      "source": [
        "# Subir Archivos\n",
        "files.upload() "
      ],
      "metadata": {
        "colab": {
          "base_uri": "https://localhost:8080/",
          "height": 127
        },
        "id": "8w26fr9lQdYq",
        "outputId": "e5003653-b36c-470b-9147-318786ff1e0e"
      },
      "execution_count": 31,
      "outputs": [
        {
          "output_type": "display_data",
          "data": {
            "text/plain": [
              "<IPython.core.display.HTML object>"
            ],
            "text/html": [
              "\n",
              "     <input type=\"file\" id=\"files-d1a1f21d-9f27-4306-bb35-9b42d889d393\" name=\"files[]\" multiple disabled\n",
              "        style=\"border:none\" />\n",
              "     <output id=\"result-d1a1f21d-9f27-4306-bb35-9b42d889d393\">\n",
              "      Upload widget is only available when the cell has been executed in the\n",
              "      current browser session. Please rerun this cell to enable.\n",
              "      </output>\n",
              "      <script>// Copyright 2017 Google LLC\n",
              "//\n",
              "// Licensed under the Apache License, Version 2.0 (the \"License\");\n",
              "// you may not use this file except in compliance with the License.\n",
              "// You may obtain a copy of the License at\n",
              "//\n",
              "//      http://www.apache.org/licenses/LICENSE-2.0\n",
              "//\n",
              "// Unless required by applicable law or agreed to in writing, software\n",
              "// distributed under the License is distributed on an \"AS IS\" BASIS,\n",
              "// WITHOUT WARRANTIES OR CONDITIONS OF ANY KIND, either express or implied.\n",
              "// See the License for the specific language governing permissions and\n",
              "// limitations under the License.\n",
              "\n",
              "/**\n",
              " * @fileoverview Helpers for google.colab Python module.\n",
              " */\n",
              "(function(scope) {\n",
              "function span(text, styleAttributes = {}) {\n",
              "  const element = document.createElement('span');\n",
              "  element.textContent = text;\n",
              "  for (const key of Object.keys(styleAttributes)) {\n",
              "    element.style[key] = styleAttributes[key];\n",
              "  }\n",
              "  return element;\n",
              "}\n",
              "\n",
              "// Max number of bytes which will be uploaded at a time.\n",
              "const MAX_PAYLOAD_SIZE = 100 * 1024;\n",
              "\n",
              "function _uploadFiles(inputId, outputId) {\n",
              "  const steps = uploadFilesStep(inputId, outputId);\n",
              "  const outputElement = document.getElementById(outputId);\n",
              "  // Cache steps on the outputElement to make it available for the next call\n",
              "  // to uploadFilesContinue from Python.\n",
              "  outputElement.steps = steps;\n",
              "\n",
              "  return _uploadFilesContinue(outputId);\n",
              "}\n",
              "\n",
              "// This is roughly an async generator (not supported in the browser yet),\n",
              "// where there are multiple asynchronous steps and the Python side is going\n",
              "// to poll for completion of each step.\n",
              "// This uses a Promise to block the python side on completion of each step,\n",
              "// then passes the result of the previous step as the input to the next step.\n",
              "function _uploadFilesContinue(outputId) {\n",
              "  const outputElement = document.getElementById(outputId);\n",
              "  const steps = outputElement.steps;\n",
              "\n",
              "  const next = steps.next(outputElement.lastPromiseValue);\n",
              "  return Promise.resolve(next.value.promise).then((value) => {\n",
              "    // Cache the last promise value to make it available to the next\n",
              "    // step of the generator.\n",
              "    outputElement.lastPromiseValue = value;\n",
              "    return next.value.response;\n",
              "  });\n",
              "}\n",
              "\n",
              "/**\n",
              " * Generator function which is called between each async step of the upload\n",
              " * process.\n",
              " * @param {string} inputId Element ID of the input file picker element.\n",
              " * @param {string} outputId Element ID of the output display.\n",
              " * @return {!Iterable<!Object>} Iterable of next steps.\n",
              " */\n",
              "function* uploadFilesStep(inputId, outputId) {\n",
              "  const inputElement = document.getElementById(inputId);\n",
              "  inputElement.disabled = false;\n",
              "\n",
              "  const outputElement = document.getElementById(outputId);\n",
              "  outputElement.innerHTML = '';\n",
              "\n",
              "  const pickedPromise = new Promise((resolve) => {\n",
              "    inputElement.addEventListener('change', (e) => {\n",
              "      resolve(e.target.files);\n",
              "    });\n",
              "  });\n",
              "\n",
              "  const cancel = document.createElement('button');\n",
              "  inputElement.parentElement.appendChild(cancel);\n",
              "  cancel.textContent = 'Cancel upload';\n",
              "  const cancelPromise = new Promise((resolve) => {\n",
              "    cancel.onclick = () => {\n",
              "      resolve(null);\n",
              "    };\n",
              "  });\n",
              "\n",
              "  // Wait for the user to pick the files.\n",
              "  const files = yield {\n",
              "    promise: Promise.race([pickedPromise, cancelPromise]),\n",
              "    response: {\n",
              "      action: 'starting',\n",
              "    }\n",
              "  };\n",
              "\n",
              "  cancel.remove();\n",
              "\n",
              "  // Disable the input element since further picks are not allowed.\n",
              "  inputElement.disabled = true;\n",
              "\n",
              "  if (!files) {\n",
              "    return {\n",
              "      response: {\n",
              "        action: 'complete',\n",
              "      }\n",
              "    };\n",
              "  }\n",
              "\n",
              "  for (const file of files) {\n",
              "    const li = document.createElement('li');\n",
              "    li.append(span(file.name, {fontWeight: 'bold'}));\n",
              "    li.append(span(\n",
              "        `(${file.type || 'n/a'}) - ${file.size} bytes, ` +\n",
              "        `last modified: ${\n",
              "            file.lastModifiedDate ? file.lastModifiedDate.toLocaleDateString() :\n",
              "                                    'n/a'} - `));\n",
              "    const percent = span('0% done');\n",
              "    li.appendChild(percent);\n",
              "\n",
              "    outputElement.appendChild(li);\n",
              "\n",
              "    const fileDataPromise = new Promise((resolve) => {\n",
              "      const reader = new FileReader();\n",
              "      reader.onload = (e) => {\n",
              "        resolve(e.target.result);\n",
              "      };\n",
              "      reader.readAsArrayBuffer(file);\n",
              "    });\n",
              "    // Wait for the data to be ready.\n",
              "    let fileData = yield {\n",
              "      promise: fileDataPromise,\n",
              "      response: {\n",
              "        action: 'continue',\n",
              "      }\n",
              "    };\n",
              "\n",
              "    // Use a chunked sending to avoid message size limits. See b/62115660.\n",
              "    let position = 0;\n",
              "    do {\n",
              "      const length = Math.min(fileData.byteLength - position, MAX_PAYLOAD_SIZE);\n",
              "      const chunk = new Uint8Array(fileData, position, length);\n",
              "      position += length;\n",
              "\n",
              "      const base64 = btoa(String.fromCharCode.apply(null, chunk));\n",
              "      yield {\n",
              "        response: {\n",
              "          action: 'append',\n",
              "          file: file.name,\n",
              "          data: base64,\n",
              "        },\n",
              "      };\n",
              "\n",
              "      let percentDone = fileData.byteLength === 0 ?\n",
              "          100 :\n",
              "          Math.round((position / fileData.byteLength) * 100);\n",
              "      percent.textContent = `${percentDone}% done`;\n",
              "\n",
              "    } while (position < fileData.byteLength);\n",
              "  }\n",
              "\n",
              "  // All done.\n",
              "  yield {\n",
              "    response: {\n",
              "      action: 'complete',\n",
              "    }\n",
              "  };\n",
              "}\n",
              "\n",
              "scope.google = scope.google || {};\n",
              "scope.google.colab = scope.google.colab || {};\n",
              "scope.google.colab._files = {\n",
              "  _uploadFiles,\n",
              "  _uploadFilesContinue,\n",
              "};\n",
              "})(self);\n",
              "</script> "
            ]
          },
          "metadata": {}
        },
        {
          "output_type": "stream",
          "name": "stdout",
          "text": [
            "Saving Data.txt to Data.txt\n"
          ]
        },
        {
          "output_type": "execute_result",
          "data": {
            "text/plain": [
              "{'Data.txt': b'mjpsHcssDzLTzMsz\\r\\ntFhbtClRVtbhRCGBFntNTrLhqrwqWMDMTWTqMq\\r\\nLltbngLGRSBgSgGRCJdSdQHvdfmQccmjSQ\\r\\nlBslsZDDWdGdGpSMts\\r\\ngrQhDvqLQHDNGJJtbRMQQJ\\r\\nHChCTnnLCgCrTZPPFzzVPcVD\\r\\nShrzjhNGrNqrhWnHHfVHbhnHbbhH\\r\\nRBsvcBcDCdsRTsvgCgcPFRQpVQGQJPVFbnJfbJ\\r\\nDvsTsdlCBsGLrjzmlqqz\\r\\nWJJqZTgCnBLGCZBJCJnTLggTDDSDDMNdDSdbdSSsWDFfMsFf\\r\\nPVjqpVHmPpvmcjhrRprFmQQffbfNbQMMsSMQNQ\\r\\ncwcpRvrVlVgwtBwZqBzZ\\r\\nqfJJmpqpmhsggvvpVPZCrhdFLFzZFDdLLh\\r\\nCtCTBctGcGLSzZddGZSW\\r\\nRlNjBCnjttBHHMMcQHCsRfsbfwgggmmJvmgfpm\\r\\nZmcgBBZhZMsnqnCPjpHPjLHp\\r\\ndGbNwNtlTMTzGfNvTvdwNGVLPpQHPjLQPCpCjPqjLbpLPR\\r\\ndvDTdfvNBhDZMBDZ\\r\\ncvvRvbqcllbBVlvVVbVVlbVDjRjDjdMsHPZPGdDPGPHrDP\\r\\nFwtpfwJtWwNtTTNnwFCtjDJsQdQPPPPMrjrPJHjH\\r\\nCwFpnppgntShgbsscbms\\r\\ncWMFMQpFNcvNDdBDgdsT\\r\\nMPrrfrCHBBsDZCBJ\\r\\nLmLjMLjjLWpVcRVR\\r\\nZrRZqlZMqTWrMDqwvnvVtnsvddvVnlVf\\r\\npQNhhLNNGmLjhhcfvndDpffdfdVf\\r\\nQGjCLCQGmNgPBQDFFgTMJWWwMRTrTZWWBWTr\\r\\nWrZWZPHHWZHprZVmVvqddBttBBhGhtvh\\r\\ngzDlMTJDMfqhBGllhl\\r\\njJLqMMDDbbqjLpPHcsHLWZspPr\\r\\nbsSVRVGsrDstrrSjcQjcjlPwzjQl\\r\\ngHBggFNTTvTgfqgCFzljWwLWQQQnrwQWnf\\r\\nNvJHgpgHvqBhNBJhHTvpBCJCZmtdpDsGsZdZMZRbVbbMdrZs\\r\\nMPPtPwPnRnMPPnwrtNSGgLSCGGGNSLtSgD\\r\\nhBhWFjfCsTbbbWqFFWBBqBhsWZVGSVglZHLSVDlNWDNHHGgV\\r\\nzsCfTsTCMdmRPwzQ\\r\\nJVQVvvszzvTsVsVJjctppcCtjtPRcTlP\\r\\nMdFgqSddMqMDbtDlNjRDSR\\r\\nqFZWZqwHlZfZvzvZfLZn\\r\\nvpqwQSsHSHDQzDpgzwZlRLRZRRZTnTrrvGhh\\r\\nJBcdmbmFMPgPbgfrZRZnRFFnrnLRln\\r\\nJNdBNgbdJmPMWSSDzwVDtwSWWW\\r\\nBDMcDDppHCStpWcHBDNtzPJjqGlllPMJzPGjwjlq\\r\\nCZdZLmgCdqbPzjblZj\\r\\nvndLfnghRQmVrhdvgBHpSCDWHBBCVHNppD\\r\\nWrhrJJGSWzpTWwts\\r\\nVlLPmqgmRNZRGwsvttjgcwsT\\r\\nPDZmlbdVqLmPlddVNRDmmmbbSFHrCFQCnFBFJHSJGrDQCBrr\\r\\nhvPdpvhHvHvPrNfVhDfjggFfRV\\r\\nzlGwJGslsSDRfjsg\\r\\nMJMWjMJzwqWGzJwMqJBTCmHndPPdCBvmdCpmHn\\r\\nPVWFpQhJhFJpGbRCvRHGCp\\r\\njgslDjftsqhNglTgllgTqMnlHwCcvwZwRccSRCbGSGbCMHRw\\r\\nTgjhNNnjlTfjTdDqTfhjnmzmWPzWrLdrQBPJFWJWBB\\r\\nqPPRMPlfSzSSSPPnnLnqMlpQQtrrtmWpbFtQrdzrtrWt\\r\\nBBvCcwsVThsBgswDBCFQHQpdmQvtrFpWFvWp\\r\\ngCghTJgVCgDGVMlRGMqZnSWqlM\\r\\nRWbHvrbHBsbWBHJWvJwMtmdZwdtmdvwMZQff\\r\\nDRVjcqhRchhGGllhCgdGQQzfttzGQGwQfg\\r\\ncDRljchpqTcjDFTFVcPcPCWBHpNnJNNSnbWbHHrSpWHr\\r\\ndtHrRrBHrCRhddftjgBrRhgjsbbbMpbSWSTjWcsDTWDbcW\\r\\nGQPFVQVQnJlqVMDcMzpDfzpDVD\\r\\nqZZJFLlLnvFFGPGLPqnJvwQldfgHrBRBmBhgNBRHghNhhwRg\\r\\nrLbrZhPgqZhMdVFSFTSGCqFG\\r\\nzsszfRzjtHtzvRTSDdFFCtdDdtND\\r\\nfcwllfmwzRHlfmmzFvQQLrgLMLBZhJQZPrZhJLhW\\r\\nsllrCfpQQJpMHLgzwDwpNqzzVDpV\\r\\nRZPFZPGcSMFtGPRGMwNDVwdRgzvNwgqNvg\\r\\nhBmbMcBmcThmcGtSFTZfQCJjrHLJfsjhWJssJl\\r\\nDqGCbGfCRhfZCVbbqDJJGJBgRNpNdpBNNgNBBNwHnRgt\\r\\nrcWSsSSPSQtwBwHD\\r\\nMLscLMzvvTvcTLzvWWFDPTTrGqmFGGqCZJGbblbVbVZZVmFJ\\r\\nFprpsLQTrstQHNmVSVml\\r\\nJMggWPggWcRbwgJPCGMcGcfmzHlMNSjfzVNhHfVtzSMz\\r\\ncwnPnBwgnGRgRCgRbWJLpFsLtFBLFrDLFZZDrL\\r\\nlVgjLLLMgFMDCwCFqCRbngsvnGSvnSGndbsfgf\\r\\nWZJcTWcNTmJZphmTJJNQHcdvfdbvnRRGbGthdrbttfSv\\r\\nZPQTJTpTNPJNQTmJRBZJNBHjwMVwPCMwVlVzjwwzqqjVjL\\r\\nhznNhNQNQFDWVFmDQm\\r\\nSMqZBMMbBvDbHPzzdVPH\\r\\nzzzTBTMLNTgpnTTh\\r\\nNLCdmsdCVLGHCHdQzzmznnFwRjFMDMwpTBjDRpnpTBMJ\\r\\nPrcfcrglcfWbSqgrlqvShrwpJpDBFJHpBWjTDTRTRTTB\\r\\ncrSgSHtPttfdLGmtzzZNNV\\r\\nBTlTVqCBqtTcBqVhWlsJjDvsnLsvlvpJPj\\r\\ngMgggGZbSMzNRRRLmZZnQZQPPDvnsnDvJwwQ\\r\\ndMRRmMgbNfRgmfSdGFgNgTBtrhrhqfWtLCCWLTWWHc\\r\\nzcfVrPwnwrPmrvnjdFdBbHFFdd\\r\\nCCqpSSQQpQZLDCSHPpBFvFBjTHRvRR\\r\\nDMLGthLZMLtQGhGNMPqGSDflzfwcVmzJzsfgNVrswcrr\\r\\nhSgvMTQvChSqPvhTrRLlVHJgfgRJlHHHJH\\r\\njmzsZzZzwmmLGGtwtVJWNNDRDtVcfVRl\\r\\nGnBBLbzzzFszBFpzvSdrQQCTCQbhMvSQ\\r\\nVHpTMrZMMbDbbpTZmQmTnmzhTqjqlWWQ\\r\\nGGvgNsvNCNvvGvlqqdzWZmlsmZqZ\\r\\nwNNNgccNGJSNBSRNBNvNcvJHLDDZMFRMppMLrfHDLbrrHF\\r\\nspssbPMLpPllspGNsNWMrnwddnfcqrnwwwwMwM\\r\\nVmQBFCjzzjmfnwbrngcVrd\\r\\nFQbSFjBvvzsWvWGlvWNl\\r\\nJLFSwfwRLLfGhnQJBQshvn\\r\\npZgNcpCWpWtcvhjGGjtVvszD\\r\\nCccMcPcgTTCWmcZcWMcmTNZPmHdrqSHFRRrqwrSrRqwrHmsH\\r\\nBPMhflJRhqnPNGjNRNRjgSRm\\r\\nVdVsDswTVZbCwCZBrcDCczTwtjtNNjmjmgpmjpQggpGVSgQm\\r\\nsTbWrsTBbrTPPnqlJnPPhW\\r\\nnvrgjMWBvQWPvQnsZfGcZcRFdGFtdtZB\\r\\nbHVDwmqNNDhHNzqpphLNHVLpSJcdZtfffRZdDgRFGSddcRZt\\r\\nHNLNqNqLNbhqVVbClngjnQWPTWgsCgvT\\r\\ntfstpcScscBTFTpFnsWSmgdzJlgmgBmPPzJmvdPm\\r\\njnrqrLHRwGrwhdPvvPvhjJmP\\r\\nqqCLRCGrZZqCHRVtVWQptFWppnbcWb\\r\\nwCDJZJgDwHpdqHhdGHBhhH\\r\\nWSPmJMlmbSmztQlQsvPhnhGGdBddBqdGddTbVB\\r\\nWzWQftWMSWtmvmmSWtMQPgggpZwLwZjggJFgrpFCfj\\r\\nMvQBJMBQhjQFNFnjnj\\r\\ndtlZmRtLmjSTSLLtTtNVwWzDRzDVwwWFwnNn\\r\\ndmmLCqTdcLqtLGqjBhpfHqBGpv\\r\\nPBPRhjTPPlLRBvlvfwffqJGfpG\\r\\nrHtMtrszFtSgbFrrggrFgMnwWGzmQqWvGWzGQpJGfNqqNz\\r\\nFggcbSMntVgMdRCwZcjChLCT\\r\\nlCqqBlCwlnDqPZTZZBLNdjJLwttNWjjdzJzc\\r\\nfVfMbvbvmbVsmSsmMVWNtzzcjgLWgjztMMtg\\r\\nVVmFhFRSfbQsvVQmvSfhSsmzHlCZqrrBrDBrHZPRTZnnzB\\r\\nCRrDWmzRRQMmDqrrBgBQmtHljhHwtwlwplcBjHGwwB\\r\\nPWfPSWnvsNZSZdfjHjZtGHjchllltl\\r\\nWVsnbSPTbNdbmqTQmmrmLzTq\\r\\ncGtMBGSJDgtgMBsBMgMvWWSHWjpjzHTWTPpqWzqW\\r\\nmNVQNsdVsdhLmCpTWWjmCjTT\\r\\nNQQwrfbQrNQNbrrdLwfQsZdgFbBBFBgggRGRDMRFFMRDgM\\r\\nlFnqgqWQvHWqgvlVglvqjPjcLdfLfBPLnrbLNLcN\\r\\nhmTmthppsRtpTRRTZMpSbLdNjNcJLcrcBNbJBZZc\\r\\nsmmpRsTtpSSsRGhppmmhdCMGWwqFQgWGWWDgWwVFHQqHgg\\r\\nmWFjmcdcFWcSSQjzrpvrwRGvTwQGGG\\r\\nHRJfgMZVhtRlHJHBVJTGvGppbpbvvGTvTtrv\\r\\nglsgVMVqffdnPRDcqLnL\\r\\nMtvLJdmLLTvSSCtSzLSTcDhRjRftQjjssshfQNjPtf\\r\\nnlggrFWzRsfFjVQN\\r\\nWgwwBgbgZBHGBnccTzMCLTZJmLLL\\r\\nsRtHTBBHZtDTtZhdPzWdGcdVFdJmGcnm\\r\\nwpwMLWCgvfNvwvwbbCrwgfzPncrJPSFVGPnrcJSVznmV\\r\\nbLpvwQwMwpjWMgfvgZTsDsBttqHRjTqHlH\\r\\nmpmGpCpmlpmwfmCQVppCVfQSSjvSqgWvvvDgNwWDgnnDnW\\r\\nRBLsHRJBRrHJWFDWSNqFWj\\r\\nzZBLdsdcZrsBjGfpGVpTTPGlVc\\r\\nNBbTzgwSNmrFWpVrzrFM\\r\\nLnZQtQlZVnMrFBBG\\r\\nCCdtddBtPdNqcvHSCCcg\\r\\nZFbZPHbZPTQVVlsGNF\\r\\nqtvDWvgRftqGNccCNVThDs\\r\\nfRwGBBjBppdMdBMZ\\r\\nGffflsZsPZVfjsssNfZsJNNZVcMDSqMWFcwFMMpcTMTTFSTS\\r\\nLhrCmvzcRbbhtmRdTCMDwWMpDWqqqMpW\\r\\ndvRQmBBvLzBRRvRhhcdbhdRgjHQNllJsfsNlZZljZGGNQN\\r\\nwjbMPsbfLzVCTMVbjLplmpshhSpHShhJhtsm\\r\\nZrcqZTDTGDqFdJtGmdGSpl\\r\\nQNNrWvQRqRNWnTQRvqjPbjfWbCBCMbMLBwMV\\r\\nwRPRsppFfWJRlPRPFlpJfwSMzzZTBwBtZTTCMCMtdz\\r\\nvGLGrjcfrLVGjfnGTMCMtNNnCTnMtCBd\\r\\nVrjqhjhLVcrGVRqJmqQspmfFWm\\r\\nLRfdnmwMwdSBmfvJNrrgLhCNgqqJWs\\r\\nllctPPVTcPStgJgshCsrCs\\r\\nDpTlFpFVRFZRFFSv\\r\\nsPgRgsmdcqmgSvvFRRRRdqdFfTWZhhdZrZbbWfTpwDfbWTbw\\r\\njLCCHtLljJzjlplfZSlwTfprZZ\\r\\ntBHVjQHzHQJBtSVmvRsvvFRqnGgv\\r\\nspppVDbVcbgVSFgFZZbGZgbJMRBTvHTvJJHGtHRwtMGvHT\\r\\nLldflzQLLQmQWQQfnwMWwHJtTtwRBcBt\\r\\nCPjfhCmNmNfFVchpchFVhp\\r\\nbZQJgQmQmTgnLBRtNPNnml\\r\\nccszcqldGzhszrVsqdlHVNwLpppwHPHRtBBppDNRLt\\r\\nVSzVhVdcfrrhcqGrVhrssQQlMbJvFjMgbFSQggCvCv\\r\\nhHWVWhhlZDZVWNTgczWLjbtcTFFj\\r\\nJJnPnCdBCBnnRCjSsjStBgsbFttb\\r\\nMRpgCpGqdPRppJwpnRqRfZZhmvhHDrhllDHhhZGZ\\r\\nSPcgLDcLLnWFWCNVCRPT\\r\\nfhZQtsbtmbmfZTVTVRWfNvTCTT\\r\\njhbbmzRsQzpLDcgLHLjg\\r\\nGSFRHrCCGRJDJtrgWdrL\\r\\nstcVQshQZBsBmjMsZhmMQQWDDvNWdncNWvzLgdDnzdDN\\r\\nsVwMBQBhVVjtQZVPlSfPCfwRpSCpRl\\r\\nbBHHJMJvBvWMJWqqccNNPhMCrclChQCC\\r\\nRPppPgfpwgmcQgrhmm\\r\\ntfwTwpFPGGwZSRtpVjJHbHLvSvLSqVLL\\r\\njlJfZGjljJPBqJGnfGVMqGfrFWWddvDmFRDcmdFDdDvbDM\\r\\nhTCTsgsgwhTbvRdcFmsddpFd\\r\\nwbQNHTQLgCwSThhCgwnZnJfqnqJBlNlBnnVl\\r\\nCLlfbjjbLlbbDGbLzfCGhdtdWBthdBWsHvWHBnntWs\\r\\nrmJRJFqrDwVFTwFmSJvtvMtdJMMHBdBBndWt\\r\\nZVrVVZpgTpZFSqmZqRNlNNfQQbpGjDQbbpPl\\r\\nmVCrhGHGmZhrNlDwbWnLWWvGLWWwnd\\r\\nPNsqgzspsgNFJNFfzqpWSWdwSvSPnvdWbSbvjd\\r\\nNzgJzqMcgscQqJcpJRzBmlrBRBDDlHZBBBHtHZ\\r\\nNJmNJDwcMmJNMbJJDNDqcGcsWRWHQzRPQjZLRGZWLQsjZQ\\r\\ndgSnTBgdpddtgShSTZjLRhRLHqWPPhPRPQ\\r\\nVgdTpBntlvBVrlfcbqJcMrfmcqmb\\r\\nwvqwvPwNJgFmLdvDJFDmDLvJlQZpMzSpBVflpdSSMlQnfldS\\r\\nWjCcRZCWRjjRtsZhRRhpSVBVnzplBfWnfBfSQz\\r\\nCbRbcsjHZrhbTRtsGbCrgNgDDPFFqvvJvJFDFw\\r\\nGlsCrbCChShqgqlbSCcVbqgVhBwjBDFBhBhdDWvwBFFvWvDv\\r\\nTHmHMmtMnLfHRnzRZnfLBDWWsWzWFNsvWjjvjvFF\\r\\nmpHRtmZffHTTMpmLMLLnJtJCgScScsPlblcpCrPbblCPlq\\r\\nvscDLrcvrsLNStdTfBCvgJTqGBdd\\r\\nbwLbzRhbbdTfbgCB\\r\\npplQzLwmPZVMStcDjFtQrS\\r\\nRMjCrhFJhRVRVCCFFsvmnvqrmbvqmqSmbrvm\\r\\ntzfpBgTHzttGzZpBfHGDBZHbccnGqbmvdNlGnSnlcvSwbn\\r\\npDWTHDTzgTfWZpVVsWSPjRFSMsFs\\r\\nfmrfmrwVfjmrzjqCsqqvjsvvpG\\r\\nhFDVtFStVtJnPPtJNHbtQWGbQsCvCsQgpWGggdQC\\r\\nNBSDSNHStHNHnhStHNNrcflrmTzBlwmzrlMVVw\\r\\nSjtZZSdNcDldPQqndl\\r\\nBbgzgWgTmTBfwrbnDjQDwVPwDlnsVq\\r\\nzBBrCTTMBWLMWmfMfbbmrMtjNZLFJRRZSSvFFtStvGGJ\\r\\nCTCGLGCFRRSMGnZnLCTfdffhpbNbDfpdZBvhdv\\r\\nrJlqclVPHJWVrgPPQqjqgJlhBhDBBQdvbhwvNfhswfNpvb\\r\\ntltrcrHjlVWVCDzSGCCzLCGt\\r\\nsbHHsbCCHbLSVfJbbfSLNJBzvzMMPrhPPNztZlZNZhdt\\r\\nGTWjplTgDnGmQGpQnQhZrvvBMPztPzvrzvjZ\\r\\nmQgGWllcFcTFmgwcDppDQGTCqfsSLqsfSbqJqLSSFsbRfF\\r\\njslsFjLLLLvFwWtQFTFDJQWp\\r\\ndGzdrNmRWqVBGcTbwpRDRnbJDRhT\\r\\nqzqzrrPNNrmfLPsjglHjgW\\r\\nQjCHcPfcgQSgPPcffQSmmmLmrJJpNpBMrJMtFrBBBMFrrpNS\\r\\nVGVZfDbbVVZWGvDbFrlBZNJBNlNMwwtM\\r\\nsbvfhqTGTRnhTVGvzgHmgQLQmPqzmPLm\\r\\nsLwnMHnbnLMjGpZsjGGtpc\\r\\nggvJrNNTQgQrNvgqBqZCCjClWjGtWjCpGJFW\\r\\nTVdrqvVrTNTzBqQQzTRMfHbMwMbZMdMbHwRD\\r\\nbcfJQQJHsQPCpdpWdPbb\\r\\nRHjHDwZtrZmRDDtwtjRBVFdWVrrrBClldVphCF\\r\\nzDgwgNzjmDnMnzMMHncG\\r\\nvMHRvMhvHWRBRDHhRBwWvRBqLqbGwqnqnnNTbNqdNbbVVr\\r\\npslgcZszJltrsZcZgNnnqbSSTSSndbNbzS\\r\\ncZcgsZgZZgPgmcpfJtfttWBQvmFWjDQDhBmFjDHvFr\\r\\nbVbBvdTTVLbCgCznLJsJcwHPczfz\\r\\nNFcDphSDrFjGtZNZjplZGZFnzPHPrzHHzJMnnwfPsPsRJs\\r\\ncGtGljFmWdvqmVCV\\r\\nqSNbTvcvTGTvGcgtBNvcbdrdjrnjRnjRVHdDqHrRHj\\r\\nZZZZPLWPzPDCCsCRnRdwVFnjdwPVFP\\r\\nChlCLLZftfcBvfDv\\r\\ncRtfctVgmRclmBFGbbMBDDFPtD\\r\\nsvQZhHSHssjTvjpQjSSBBMJMJGDBpPbMzzpGzP\\r\\nZsvsCTWhCHhSwwjrwbndldlRnfRNmb\\r\\nPQdTgdGpRcTccCfj\\r\\nhHFLHlHBhBlmlDFzHrhhfZNZbfNZcVWNVVZRDjCC\\r\\nLFLLMHJHSBhBFGGnMMvsGtGGtj\\r\\nfwmVnVCDVqpNQqqb\\r\\nddBcZZWdvGWzBzsWvLvddlNHcHQPbQqqJQNNQHPHQT\\r\\nWgGvsMMzvgbntDhCmt\\r\\nJjwhFMmwjJwmCgTgSCSFlPLg\\r\\nWWbsbVtftBZWtnWtncbQvctTGLpLgCpzPPPlllpzlgPPTQ\\r\\nTBvnfBffWsfVtTvbZBTNjwjqddhMNqwRMMhdRMrq\\r\\nSllrbtTSQrSQrbrvvMvzFDsBsssWpWdWbGpGBWNWNW\\r\\nhhCfmmmjmPLCfmnPLfqPgqqNNBpjZBZQDNQdpWNpdBBsBp\\r\\nRhLfPhQLQfCRnHfqTHHrFJMrttTwTtzt\\r\\nBFrFBJMMJnnsNJBFCdLCnmvzbPdCmPnc\\r\\nLDLVHQRfDvdHdcCmcv\\r\\nllQDwqSVLwZLZSgsGZMNMgTjTMTr\\r\\nmrwdbqRhdCNGgZBHbH\\r\\njVTPMjvjpvMfTfQfPlpHHZNnNBHgZDGsGMnCsZ\\r\\nTLlfQpffQvvzhtNqztRFtzcm\\r\\nDDfvJZZPDHVPSPcSvcgcWCsWQcTTdhQTTh\\r\\ndMwpbdjRtrFhhTsTFQWqhC\\r\\nbGRdNpbzlvLfDfZlLZ\\r\\nbdPQdcpdbpjFqpQcQwqqhhNRhJvWRfrrWBsJrfwN\\r\\nmMtlZfmtnLZtSnGDlmGWRRhrWLhJsBRvgRWghh\\r\\nDnMGCtmCzfGMbjdQbVzpqcFH\\r\\njwnGggRBvvpBZCljCsCWrhhrsh\\r\\nFVMcFLqLMqcJfVtDqMJcHMHWCSblzzrWsdhSLlSzbrGCLz\\r\\nHQVFPDtDQDFFNTZpPgNnGgNn\\r\\nHNBHNqlqHJQBRNvdmZvmPdZZlpnT\\r\\nbDbbhDgSfzVVfnvPmfHmTZZd\\r\\njgzbwrhVsDgsDWLwJqqBMqcqHL\\r\\ntzNtJzsJVBHzbjbglCHc\\r\\nnfmnGnmPhntCgHvtvmCj\\r\\nMStTwrMTWrTdBZSNLZJNVQ\\r\\nNVjmwmVGGwGFHstwFHMhTh\\r\\npsRSzzscZscZpgQQzqQtBBHTTlThHHtTTh\\r\\nrCprbpZccggcrRzbbRRbscvVVWWvNfvVWnGDCWVNddmd\\r\\nrphfGDgtPtllrPlFlGrhGjnmnTnjcBsncBBVpTTBmc\\r\\nSqqZMJCLwgCwJgQRqqgZQNwdBBsBBHVBdTHNsnVNBTccnc\\r\\nMJqZZMbqgzRCSJZwPtFfGzWhrrfGttWl\\r\\ncSZqqcwbqVzqCbqVqVZPsvvDCDrffngvphggndhdGh\\r\\ntTNTMWJNQJHMNGSSprfdGnfdth\\r\\nWNRHWWMJSRWzswbczsVPRs\\r\\nHCgcSMhSMBGMdvGf\\r\\nRNQqbDQqFdRFdmTZfGtPZvtGlQffll\\r\\nmNpdNrRDbTNrmbpzmpWmbpWcswhcHcjhscSHjSgVHwHn\\r\\nMwgcFgwMMcscCbMFsMFCgMgPPLWPvptvBvPvtvvWmBBzwG\\r\\nnhQQjTJRVDdQJrPpmnGGBmvtGvLz\\r\\nHdJQdJHjrJQDBQjhQVQJhdJcqlFHcSqsNbCbCqCHFqCFgC\\r\\nJvTnvWtdJLbhJHbMwwHjcGHCwHwQGQ\\r\\nmqtmsllmfqVFwMwMrrPjmQrC\\r\\nlfztRZSlRDRVzfdpWnSvWhNdbnpp\\r\\nrSvrgggzHTNzrHtnptpmlDngZjWj\\r\\nMdMhqMhsfMSRcGqRsQQRctjjdDnjtjClCjjpZnDlnt\\r\\nBBMRsQRfRcscGqBfRRsBssPBLLzNLFPwvVFFPTLbbLwHHTvS\\r\\npCmCfdPFzmsFsDhFFDsttptpRtJjLnlJRtttHt\\r\\nZQwgWZgqJhTTRtgV\\r\\nGNqWNvcqqQQrMMWcQzDDsSzBDBSssSmhhr'}"
            ]
          },
          "metadata": {},
          "execution_count": 31
        }
      ]
    },
    {
      "cell_type": "markdown",
      "source": [
        "## **Parte 1**"
      ],
      "metadata": {
        "id": "phmG2CAuQdlY"
      }
    },
    {
      "cell_type": "code",
      "source": [
        "# Agregaremos las letras con su respectivo valor en un diccionario de prioridades [a-Z] \n",
        "# Calcularemos la longitud de una cadena y la dividiremos en 2\n",
        "# encontraremos la letra que se repita en estas 2 subcadenas y su valor según \n",
        "# el valor en el diccionario de prioridad.\n",
        "\n",
        "letters = string.ascii_lowercase + string.ascii_uppercase\n",
        "priorities = {}\n",
        "total = 0\n",
        "\n",
        "# Leer cada línea del archivo Data.txt\n",
        "with open(\"Data.txt\") as f:\n",
        "  lines = f.read().strip().split(\"\\n\")\n",
        "\n",
        "  for i, letter in enumerate(letters):\n",
        "    priorities[letter] = i + 1\n",
        "\n",
        "  for line in lines:\n",
        "    length = int(len(line)/2)\n",
        "    rucksack_1 = set(line[:int(len(line)/2)])\n",
        "    rucksack_2 = set(line[int(len(line)/2):])\n",
        "    # Hacemos iterables las cadenas con set() \n",
        "    common_letter = rucksack_1.intersection(rucksack_2)\n",
        "    total += int(priorities[str(common_letter)[2]])\n",
        "\n",
        "  print('El valor de las prioridades es: ' + str(total))"
      ],
      "metadata": {
        "colab": {
          "base_uri": "https://localhost:8080/"
        },
        "id": "DO0ejacUQd0Q",
        "outputId": "de396d12-6bc0-46ca-ad21-277db72a268b"
      },
      "execution_count": 58,
      "outputs": [
        {
          "output_type": "stream",
          "name": "stdout",
          "text": [
            "El valor de las prioridades es: 8123\n"
          ]
        }
      ]
    },
    {
      "cell_type": "markdown",
      "source": [
        "## **Parte 2**"
      ],
      "metadata": {
        "id": "f-pBRwm3QeWL"
      }
    },
    {
      "cell_type": "code",
      "source": [
        "# Algo similar a la lógica anterior, ahora unicamente agrupamos las líneas en \n",
        "# grupos de 3 y encontramos la letra en común para poder encontrar el valor\n",
        "# de su prioridad y finalmente el total\n",
        "\n",
        "letters = string.ascii_lowercase + string.ascii_uppercase\n",
        "priorities = {}\n",
        "total = 0\n",
        "flag = 0\n",
        "\n",
        "# Leer cada línea del archivo Data.txt\n",
        "with open(\"Data.txt\") as f:\n",
        "  lines = f.read().strip().split(\"\\n\")\n",
        "\n",
        "  for i, letter in enumerate(letters):\n",
        "    priorities[letter] = i + 1\n",
        "\n",
        "  for line in lines:\n",
        "    groups.append(line)\n",
        "    flag += 1\n",
        "    if (flag % 3 == 0):\n",
        "      common_letter = set(groups[0]).intersection(set(groups[1]).intersection(set(groups[2])))\n",
        "      groups = []\n",
        "      total += int(priorities[str(common_letter)[2]])\n",
        "\n",
        "  print('El valor de las prioridades es: ' + str(total))"
      ],
      "metadata": {
        "colab": {
          "base_uri": "https://localhost:8080/"
        },
        "id": "IXOhApzUQen-",
        "outputId": "dbf8a028-7024-4019-a39f-396ac8c53265"
      },
      "execution_count": 59,
      "outputs": [
        {
          "output_type": "stream",
          "name": "stdout",
          "text": [
            "El valor de las prioridades es: 2620\n"
          ]
        }
      ]
    }
  ]
}